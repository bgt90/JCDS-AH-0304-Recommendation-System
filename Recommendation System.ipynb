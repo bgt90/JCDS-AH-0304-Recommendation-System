{
 "metadata": {
  "language_info": {
   "codemirror_mode": {
    "name": "ipython",
    "version": 3
   },
   "file_extension": ".py",
   "mimetype": "text/x-python",
   "name": "python",
   "nbconvert_exporter": "python",
   "pygments_lexer": "ipython3",
   "version": "3.8.3-final"
  },
  "orig_nbformat": 2,
  "kernelspec": {
   "name": "python3",
   "display_name": "Python 3.8.3 64-bit (conda)",
   "metadata": {
    "interpreter": {
     "hash": "f6cadb433fb4d5e490a52a7886e50fe75cf2fd39fd559aabdd1f0f7248e07363"
    }
   }
  }
 },
 "nbformat": 4,
 "nbformat_minor": 2,
 "cells": [
  {
   "source": [
    "# Recommendation System"
   ],
   "cell_type": "markdown",
   "metadata": {}
  },
  {
   "source": [
    "# Content Based Recommendation system\n",
    "## Cosine Similarity Illustrasions"
   ],
   "cell_type": "markdown",
   "metadata": {}
  },
  {
   "cell_type": "code",
   "execution_count": 1,
   "metadata": {},
   "outputs": [],
   "source": [
    "import numpy as np\n",
    "import pandas as pd\n",
    "import warnings\n",
    "warnings.filterwarnings('ignore')"
   ]
  },
  {
   "cell_type": "code",
   "execution_count": 2,
   "metadata": {},
   "outputs": [],
   "source": [
    "df=pd.read_csv('anime.csv')"
   ]
  },
  {
   "cell_type": "code",
   "execution_count": 3,
   "metadata": {},
   "outputs": [
    {
     "output_type": "execute_result",
     "data": {
      "text/plain": [
       "   anime_id                              name  \\\n",
       "0     32281                    Kimi no Na wa.   \n",
       "1      5114  Fullmetal Alchemist: Brotherhood   \n",
       "2     28977                          Gintama°   \n",
       "3      9253                       Steins;Gate   \n",
       "4      9969                     Gintama&#039;   \n",
       "\n",
       "                                               genre   type episodes  rating  \\\n",
       "0               Drama, Romance, School, Supernatural  Movie        1    9.37   \n",
       "1  Action, Adventure, Drama, Fantasy, Magic, Mili...     TV       64    9.26   \n",
       "2  Action, Comedy, Historical, Parody, Samurai, S...     TV       51    9.25   \n",
       "3                                   Sci-Fi, Thriller     TV       24    9.17   \n",
       "4  Action, Comedy, Historical, Parody, Samurai, S...     TV       51    9.16   \n",
       "\n",
       "   members  \n",
       "0   200630  \n",
       "1   793665  \n",
       "2   114262  \n",
       "3   673572  \n",
       "4   151266  "
      ],
      "text/html": "<div>\n<style scoped>\n    .dataframe tbody tr th:only-of-type {\n        vertical-align: middle;\n    }\n\n    .dataframe tbody tr th {\n        vertical-align: top;\n    }\n\n    .dataframe thead th {\n        text-align: right;\n    }\n</style>\n<table border=\"1\" class=\"dataframe\">\n  <thead>\n    <tr style=\"text-align: right;\">\n      <th></th>\n      <th>anime_id</th>\n      <th>name</th>\n      <th>genre</th>\n      <th>type</th>\n      <th>episodes</th>\n      <th>rating</th>\n      <th>members</th>\n    </tr>\n  </thead>\n  <tbody>\n    <tr>\n      <th>0</th>\n      <td>32281</td>\n      <td>Kimi no Na wa.</td>\n      <td>Drama, Romance, School, Supernatural</td>\n      <td>Movie</td>\n      <td>1</td>\n      <td>9.37</td>\n      <td>200630</td>\n    </tr>\n    <tr>\n      <th>1</th>\n      <td>5114</td>\n      <td>Fullmetal Alchemist: Brotherhood</td>\n      <td>Action, Adventure, Drama, Fantasy, Magic, Mili...</td>\n      <td>TV</td>\n      <td>64</td>\n      <td>9.26</td>\n      <td>793665</td>\n    </tr>\n    <tr>\n      <th>2</th>\n      <td>28977</td>\n      <td>Gintama°</td>\n      <td>Action, Comedy, Historical, Parody, Samurai, S...</td>\n      <td>TV</td>\n      <td>51</td>\n      <td>9.25</td>\n      <td>114262</td>\n    </tr>\n    <tr>\n      <th>3</th>\n      <td>9253</td>\n      <td>Steins;Gate</td>\n      <td>Sci-Fi, Thriller</td>\n      <td>TV</td>\n      <td>24</td>\n      <td>9.17</td>\n      <td>673572</td>\n    </tr>\n    <tr>\n      <th>4</th>\n      <td>9969</td>\n      <td>Gintama&amp;#039;</td>\n      <td>Action, Comedy, Historical, Parody, Samurai, S...</td>\n      <td>TV</td>\n      <td>51</td>\n      <td>9.16</td>\n      <td>151266</td>\n    </tr>\n  </tbody>\n</table>\n</div>"
     },
     "metadata": {},
     "execution_count": 3
    }
   ],
   "source": [
    "df.head()"
   ]
  },
  {
   "cell_type": "code",
   "execution_count": 4,
   "metadata": {},
   "outputs": [
    {
     "output_type": "execute_result",
     "data": {
      "text/plain": [
       "anime_id      0\n",
       "name          0\n",
       "genre        62\n",
       "type         25\n",
       "episodes      0\n",
       "rating      230\n",
       "members       0\n",
       "dtype: int64"
      ]
     },
     "metadata": {},
     "execution_count": 4
    }
   ],
   "source": [
    "df.isna().sum()"
   ]
  },
  {
   "cell_type": "code",
   "execution_count": 5,
   "metadata": {},
   "outputs": [],
   "source": [
    "df=df.dropna().reset_index(drop=True)"
   ]
  },
  {
   "cell_type": "code",
   "execution_count": 6,
   "metadata": {},
   "outputs": [
    {
     "output_type": "execute_result",
     "data": {
      "text/plain": [
       "anime_id    0\n",
       "name        0\n",
       "genre       0\n",
       "type        0\n",
       "episodes    0\n",
       "rating      0\n",
       "members     0\n",
       "dtype: int64"
      ]
     },
     "metadata": {},
     "execution_count": 6
    }
   ],
   "source": [
    "df.isna().sum()"
   ]
  },
  {
   "cell_type": "code",
   "execution_count": 7,
   "metadata": {},
   "outputs": [
    {
     "output_type": "execute_result",
     "data": {
      "text/plain": [
       "Hentai                                                                                 816\n",
       "Comedy                                                                                 521\n",
       "Music                                                                                  297\n",
       "Kids                                                                                   197\n",
       "Comedy, Slice of Life                                                                  174\n",
       "                                                                                      ... \n",
       "Drama, Psychological, Romance, Seinen                                                    1\n",
       "Action, Comedy, Fantasy, Sci-Fi, Shounen, Super Power                                    1\n",
       "Drama, Romance, Sci-Fi, Shoujo                                                           1\n",
       "Action, Demons, Historical, Martial Arts, Samurai, Supernatural                          1\n",
       "Demons, Drama, Fantasy, Horror, Magic, Mystery, Psychological, Shoujo, Supernatural      1\n",
       "Name: genre, Length: 3229, dtype: int64"
      ]
     },
     "metadata": {},
     "execution_count": 7
    }
   ],
   "source": [
    "df['genre'].value_counts()"
   ]
  },
  {
   "cell_type": "code",
   "execution_count": 8,
   "metadata": {},
   "outputs": [
    {
     "output_type": "execute_result",
     "data": {
      "text/plain": [
       "(12017, 7)"
      ]
     },
     "metadata": {},
     "execution_count": 8
    }
   ],
   "source": [
    "df.shape"
   ]
  },
  {
   "source": [
    "### Create Recommendation System"
   ],
   "cell_type": "markdown",
   "metadata": {}
  },
  {
   "cell_type": "code",
   "execution_count": 24,
   "metadata": {},
   "outputs": [],
   "source": [
    "from sklearn.feature_extraction.text import CountVectorizer\n",
    "from sklearn.metrics.pairwise import cosine_similarity"
   ]
  },
  {
   "cell_type": "code",
   "execution_count": 25,
   "metadata": {},
   "outputs": [],
   "source": [
    "cvr= CountVectorizer(tokenizer= lambda x:x.split(', ')) #Pakai koma untuk memecah antar genre\n",
    "\n",
    "genre_a= cvr.fit_transform(df['genre'])"
   ]
  },
  {
   "cell_type": "code",
   "execution_count": 26,
   "metadata": {},
   "outputs": [
    {
     "output_type": "stream",
     "name": "stdout",
     "text": [
      "43\n['action', 'adventure', 'cars', 'comedy', 'dementia', 'demons', 'drama', 'ecchi', 'fantasy', 'game', 'harem', 'hentai', 'historical', 'horror', 'josei', 'kids', 'magic', 'martial arts', 'mecha', 'military', 'music', 'mystery', 'parody', 'police', 'psychological', 'romance', 'samurai', 'school', 'sci-fi', 'seinen', 'shoujo', 'shoujo ai', 'shounen', 'shounen ai', 'slice of life', 'space', 'sports', 'super power', 'supernatural', 'thriller', 'vampire', 'yaoi', 'yuri']\n"
     ]
    }
   ],
   "source": [
    "print(len(cvr.get_feature_names()))\n",
    "print(cvr.get_feature_names())"
   ]
  },
  {
   "cell_type": "code",
   "execution_count": 27,
   "metadata": {},
   "outputs": [],
   "source": [
    "genre_a=pd.DataFrame(genre_a.toarray(), columns=cvr.get_feature_names())"
   ]
  },
  {
   "cell_type": "code",
   "execution_count": 28,
   "metadata": {},
   "outputs": [
    {
     "output_type": "execute_result",
     "data": {
      "text/plain": [
       "   action  adventure  cars  comedy  dementia  demons  drama  ecchi  fantasy  \\\n",
       "0       0          0     0       0         0       0      1      0        0   \n",
       "1       1          1     0       0         0       0      1      0        1   \n",
       "2       1          0     0       1         0       0      0      0        0   \n",
       "3       0          0     0       0         0       0      0      0        0   \n",
       "4       1          0     0       1         0       0      0      0        0   \n",
       "\n",
       "   game  ...  shounen ai  slice of life  space  sports  super power  \\\n",
       "0     0  ...           0              0      0       0            0   \n",
       "1     0  ...           0              0      0       0            0   \n",
       "2     0  ...           0              0      0       0            0   \n",
       "3     0  ...           0              0      0       0            0   \n",
       "4     0  ...           0              0      0       0            0   \n",
       "\n",
       "   supernatural  thriller  vampire  yaoi  yuri  \n",
       "0             1         0        0     0     0  \n",
       "1             0         0        0     0     0  \n",
       "2             0         0        0     0     0  \n",
       "3             0         1        0     0     0  \n",
       "4             0         0        0     0     0  \n",
       "\n",
       "[5 rows x 43 columns]"
      ],
      "text/html": "<div>\n<style scoped>\n    .dataframe tbody tr th:only-of-type {\n        vertical-align: middle;\n    }\n\n    .dataframe tbody tr th {\n        vertical-align: top;\n    }\n\n    .dataframe thead th {\n        text-align: right;\n    }\n</style>\n<table border=\"1\" class=\"dataframe\">\n  <thead>\n    <tr style=\"text-align: right;\">\n      <th></th>\n      <th>action</th>\n      <th>adventure</th>\n      <th>cars</th>\n      <th>comedy</th>\n      <th>dementia</th>\n      <th>demons</th>\n      <th>drama</th>\n      <th>ecchi</th>\n      <th>fantasy</th>\n      <th>game</th>\n      <th>...</th>\n      <th>shounen ai</th>\n      <th>slice of life</th>\n      <th>space</th>\n      <th>sports</th>\n      <th>super power</th>\n      <th>supernatural</th>\n      <th>thriller</th>\n      <th>vampire</th>\n      <th>yaoi</th>\n      <th>yuri</th>\n    </tr>\n  </thead>\n  <tbody>\n    <tr>\n      <th>0</th>\n      <td>0</td>\n      <td>0</td>\n      <td>0</td>\n      <td>0</td>\n      <td>0</td>\n      <td>0</td>\n      <td>1</td>\n      <td>0</td>\n      <td>0</td>\n      <td>0</td>\n      <td>...</td>\n      <td>0</td>\n      <td>0</td>\n      <td>0</td>\n      <td>0</td>\n      <td>0</td>\n      <td>1</td>\n      <td>0</td>\n      <td>0</td>\n      <td>0</td>\n      <td>0</td>\n    </tr>\n    <tr>\n      <th>1</th>\n      <td>1</td>\n      <td>1</td>\n      <td>0</td>\n      <td>0</td>\n      <td>0</td>\n      <td>0</td>\n      <td>1</td>\n      <td>0</td>\n      <td>1</td>\n      <td>0</td>\n      <td>...</td>\n      <td>0</td>\n      <td>0</td>\n      <td>0</td>\n      <td>0</td>\n      <td>0</td>\n      <td>0</td>\n      <td>0</td>\n      <td>0</td>\n      <td>0</td>\n      <td>0</td>\n    </tr>\n    <tr>\n      <th>2</th>\n      <td>1</td>\n      <td>0</td>\n      <td>0</td>\n      <td>1</td>\n      <td>0</td>\n      <td>0</td>\n      <td>0</td>\n      <td>0</td>\n      <td>0</td>\n      <td>0</td>\n      <td>...</td>\n      <td>0</td>\n      <td>0</td>\n      <td>0</td>\n      <td>0</td>\n      <td>0</td>\n      <td>0</td>\n      <td>0</td>\n      <td>0</td>\n      <td>0</td>\n      <td>0</td>\n    </tr>\n    <tr>\n      <th>3</th>\n      <td>0</td>\n      <td>0</td>\n      <td>0</td>\n      <td>0</td>\n      <td>0</td>\n      <td>0</td>\n      <td>0</td>\n      <td>0</td>\n      <td>0</td>\n      <td>0</td>\n      <td>...</td>\n      <td>0</td>\n      <td>0</td>\n      <td>0</td>\n      <td>0</td>\n      <td>0</td>\n      <td>0</td>\n      <td>1</td>\n      <td>0</td>\n      <td>0</td>\n      <td>0</td>\n    </tr>\n    <tr>\n      <th>4</th>\n      <td>1</td>\n      <td>0</td>\n      <td>0</td>\n      <td>1</td>\n      <td>0</td>\n      <td>0</td>\n      <td>0</td>\n      <td>0</td>\n      <td>0</td>\n      <td>0</td>\n      <td>...</td>\n      <td>0</td>\n      <td>0</td>\n      <td>0</td>\n      <td>0</td>\n      <td>0</td>\n      <td>0</td>\n      <td>0</td>\n      <td>0</td>\n      <td>0</td>\n      <td>0</td>\n    </tr>\n  </tbody>\n</table>\n<p>5 rows × 43 columns</p>\n</div>"
     },
     "metadata": {},
     "execution_count": 28
    }
   ],
   "source": [
    "genre_a.head()"
   ]
  },
  {
   "cell_type": "code",
   "execution_count": 29,
   "metadata": {},
   "outputs": [
    {
     "output_type": "execute_result",
     "data": {
      "text/plain": [
       "0                                           Kimi no Na wa.\n",
       "1                         Fullmetal Alchemist: Brotherhood\n",
       "2                                                 Gintama°\n",
       "3                                              Steins;Gate\n",
       "4                                            Gintama&#039;\n",
       "                               ...                        \n",
       "12012         Toushindai My Lover: Minami tai Mecha-Minami\n",
       "12013                                          Under World\n",
       "12014                       Violence Gekiga David no Hoshi\n",
       "12015    Violence Gekiga Shin David no Hoshi: Inma Dens...\n",
       "12016                     Yasuji no Pornorama: Yacchimae!!\n",
       "Name: name, Length: 12017, dtype: object"
      ]
     },
     "metadata": {},
     "execution_count": 29
    }
   ],
   "source": [
    "df['name']"
   ]
  },
  {
   "cell_type": "code",
   "execution_count": 30,
   "metadata": {},
   "outputs": [
    {
     "output_type": "execute_result",
     "data": {
      "text/plain": [
       "                                                    name  action  adventure  \\\n",
       "0                                         Kimi no Na wa.       0          0   \n",
       "1                       Fullmetal Alchemist: Brotherhood       1          1   \n",
       "2                                               Gintama°       1          0   \n",
       "3                                            Steins;Gate       0          0   \n",
       "4                                          Gintama&#039;       1          0   \n",
       "...                                                  ...     ...        ...   \n",
       "12012       Toushindai My Lover: Minami tai Mecha-Minami       0          0   \n",
       "12013                                        Under World       0          0   \n",
       "12014                     Violence Gekiga David no Hoshi       0          0   \n",
       "12015  Violence Gekiga Shin David no Hoshi: Inma Dens...       0          0   \n",
       "12016                   Yasuji no Pornorama: Yacchimae!!       0          0   \n",
       "\n",
       "       cars  comedy  dementia  demons  drama  ecchi  fantasy  ...  shounen ai  \\\n",
       "0         0       0         0       0      1      0        0  ...           0   \n",
       "1         0       0         0       0      1      0        1  ...           0   \n",
       "2         0       1         0       0      0      0        0  ...           0   \n",
       "3         0       0         0       0      0      0        0  ...           0   \n",
       "4         0       1         0       0      0      0        0  ...           0   \n",
       "...     ...     ...       ...     ...    ...    ...      ...  ...         ...   \n",
       "12012     0       0         0       0      0      0        0  ...           0   \n",
       "12013     0       0         0       0      0      0        0  ...           0   \n",
       "12014     0       0         0       0      0      0        0  ...           0   \n",
       "12015     0       0         0       0      0      0        0  ...           0   \n",
       "12016     0       0         0       0      0      0        0  ...           0   \n",
       "\n",
       "       slice of life  space  sports  super power  supernatural  thriller  \\\n",
       "0                  0      0       0            0             1         0   \n",
       "1                  0      0       0            0             0         0   \n",
       "2                  0      0       0            0             0         0   \n",
       "3                  0      0       0            0             0         1   \n",
       "4                  0      0       0            0             0         0   \n",
       "...              ...    ...     ...          ...           ...       ...   \n",
       "12012              0      0       0            0             0         0   \n",
       "12013              0      0       0            0             0         0   \n",
       "12014              0      0       0            0             0         0   \n",
       "12015              0      0       0            0             0         0   \n",
       "12016              0      0       0            0             0         0   \n",
       "\n",
       "       vampire  yaoi  yuri  \n",
       "0            0     0     0  \n",
       "1            0     0     0  \n",
       "2            0     0     0  \n",
       "3            0     0     0  \n",
       "4            0     0     0  \n",
       "...        ...   ...   ...  \n",
       "12012        0     0     0  \n",
       "12013        0     0     0  \n",
       "12014        0     0     0  \n",
       "12015        0     0     0  \n",
       "12016        0     0     0  \n",
       "\n",
       "[12017 rows x 44 columns]"
      ],
      "text/html": "<div>\n<style scoped>\n    .dataframe tbody tr th:only-of-type {\n        vertical-align: middle;\n    }\n\n    .dataframe tbody tr th {\n        vertical-align: top;\n    }\n\n    .dataframe thead th {\n        text-align: right;\n    }\n</style>\n<table border=\"1\" class=\"dataframe\">\n  <thead>\n    <tr style=\"text-align: right;\">\n      <th></th>\n      <th>name</th>\n      <th>action</th>\n      <th>adventure</th>\n      <th>cars</th>\n      <th>comedy</th>\n      <th>dementia</th>\n      <th>demons</th>\n      <th>drama</th>\n      <th>ecchi</th>\n      <th>fantasy</th>\n      <th>...</th>\n      <th>shounen ai</th>\n      <th>slice of life</th>\n      <th>space</th>\n      <th>sports</th>\n      <th>super power</th>\n      <th>supernatural</th>\n      <th>thriller</th>\n      <th>vampire</th>\n      <th>yaoi</th>\n      <th>yuri</th>\n    </tr>\n  </thead>\n  <tbody>\n    <tr>\n      <th>0</th>\n      <td>Kimi no Na wa.</td>\n      <td>0</td>\n      <td>0</td>\n      <td>0</td>\n      <td>0</td>\n      <td>0</td>\n      <td>0</td>\n      <td>1</td>\n      <td>0</td>\n      <td>0</td>\n      <td>...</td>\n      <td>0</td>\n      <td>0</td>\n      <td>0</td>\n      <td>0</td>\n      <td>0</td>\n      <td>1</td>\n      <td>0</td>\n      <td>0</td>\n      <td>0</td>\n      <td>0</td>\n    </tr>\n    <tr>\n      <th>1</th>\n      <td>Fullmetal Alchemist: Brotherhood</td>\n      <td>1</td>\n      <td>1</td>\n      <td>0</td>\n      <td>0</td>\n      <td>0</td>\n      <td>0</td>\n      <td>1</td>\n      <td>0</td>\n      <td>1</td>\n      <td>...</td>\n      <td>0</td>\n      <td>0</td>\n      <td>0</td>\n      <td>0</td>\n      <td>0</td>\n      <td>0</td>\n      <td>0</td>\n      <td>0</td>\n      <td>0</td>\n      <td>0</td>\n    </tr>\n    <tr>\n      <th>2</th>\n      <td>Gintama°</td>\n      <td>1</td>\n      <td>0</td>\n      <td>0</td>\n      <td>1</td>\n      <td>0</td>\n      <td>0</td>\n      <td>0</td>\n      <td>0</td>\n      <td>0</td>\n      <td>...</td>\n      <td>0</td>\n      <td>0</td>\n      <td>0</td>\n      <td>0</td>\n      <td>0</td>\n      <td>0</td>\n      <td>0</td>\n      <td>0</td>\n      <td>0</td>\n      <td>0</td>\n    </tr>\n    <tr>\n      <th>3</th>\n      <td>Steins;Gate</td>\n      <td>0</td>\n      <td>0</td>\n      <td>0</td>\n      <td>0</td>\n      <td>0</td>\n      <td>0</td>\n      <td>0</td>\n      <td>0</td>\n      <td>0</td>\n      <td>...</td>\n      <td>0</td>\n      <td>0</td>\n      <td>0</td>\n      <td>0</td>\n      <td>0</td>\n      <td>0</td>\n      <td>1</td>\n      <td>0</td>\n      <td>0</td>\n      <td>0</td>\n    </tr>\n    <tr>\n      <th>4</th>\n      <td>Gintama&amp;#039;</td>\n      <td>1</td>\n      <td>0</td>\n      <td>0</td>\n      <td>1</td>\n      <td>0</td>\n      <td>0</td>\n      <td>0</td>\n      <td>0</td>\n      <td>0</td>\n      <td>...</td>\n      <td>0</td>\n      <td>0</td>\n      <td>0</td>\n      <td>0</td>\n      <td>0</td>\n      <td>0</td>\n      <td>0</td>\n      <td>0</td>\n      <td>0</td>\n      <td>0</td>\n    </tr>\n    <tr>\n      <th>...</th>\n      <td>...</td>\n      <td>...</td>\n      <td>...</td>\n      <td>...</td>\n      <td>...</td>\n      <td>...</td>\n      <td>...</td>\n      <td>...</td>\n      <td>...</td>\n      <td>...</td>\n      <td>...</td>\n      <td>...</td>\n      <td>...</td>\n      <td>...</td>\n      <td>...</td>\n      <td>...</td>\n      <td>...</td>\n      <td>...</td>\n      <td>...</td>\n      <td>...</td>\n      <td>...</td>\n    </tr>\n    <tr>\n      <th>12012</th>\n      <td>Toushindai My Lover: Minami tai Mecha-Minami</td>\n      <td>0</td>\n      <td>0</td>\n      <td>0</td>\n      <td>0</td>\n      <td>0</td>\n      <td>0</td>\n      <td>0</td>\n      <td>0</td>\n      <td>0</td>\n      <td>...</td>\n      <td>0</td>\n      <td>0</td>\n      <td>0</td>\n      <td>0</td>\n      <td>0</td>\n      <td>0</td>\n      <td>0</td>\n      <td>0</td>\n      <td>0</td>\n      <td>0</td>\n    </tr>\n    <tr>\n      <th>12013</th>\n      <td>Under World</td>\n      <td>0</td>\n      <td>0</td>\n      <td>0</td>\n      <td>0</td>\n      <td>0</td>\n      <td>0</td>\n      <td>0</td>\n      <td>0</td>\n      <td>0</td>\n      <td>...</td>\n      <td>0</td>\n      <td>0</td>\n      <td>0</td>\n      <td>0</td>\n      <td>0</td>\n      <td>0</td>\n      <td>0</td>\n      <td>0</td>\n      <td>0</td>\n      <td>0</td>\n    </tr>\n    <tr>\n      <th>12014</th>\n      <td>Violence Gekiga David no Hoshi</td>\n      <td>0</td>\n      <td>0</td>\n      <td>0</td>\n      <td>0</td>\n      <td>0</td>\n      <td>0</td>\n      <td>0</td>\n      <td>0</td>\n      <td>0</td>\n      <td>...</td>\n      <td>0</td>\n      <td>0</td>\n      <td>0</td>\n      <td>0</td>\n      <td>0</td>\n      <td>0</td>\n      <td>0</td>\n      <td>0</td>\n      <td>0</td>\n      <td>0</td>\n    </tr>\n    <tr>\n      <th>12015</th>\n      <td>Violence Gekiga Shin David no Hoshi: Inma Dens...</td>\n      <td>0</td>\n      <td>0</td>\n      <td>0</td>\n      <td>0</td>\n      <td>0</td>\n      <td>0</td>\n      <td>0</td>\n      <td>0</td>\n      <td>0</td>\n      <td>...</td>\n      <td>0</td>\n      <td>0</td>\n      <td>0</td>\n      <td>0</td>\n      <td>0</td>\n      <td>0</td>\n      <td>0</td>\n      <td>0</td>\n      <td>0</td>\n      <td>0</td>\n    </tr>\n    <tr>\n      <th>12016</th>\n      <td>Yasuji no Pornorama: Yacchimae!!</td>\n      <td>0</td>\n      <td>0</td>\n      <td>0</td>\n      <td>0</td>\n      <td>0</td>\n      <td>0</td>\n      <td>0</td>\n      <td>0</td>\n      <td>0</td>\n      <td>...</td>\n      <td>0</td>\n      <td>0</td>\n      <td>0</td>\n      <td>0</td>\n      <td>0</td>\n      <td>0</td>\n      <td>0</td>\n      <td>0</td>\n      <td>0</td>\n      <td>0</td>\n    </tr>\n  </tbody>\n</table>\n<p>12017 rows × 44 columns</p>\n</div>"
     },
     "metadata": {},
     "execution_count": 30
    }
   ],
   "source": [
    "df_genre=pd.concat([df['name'],genre_a],axis=1)\n",
    "df_genre #Item Profile Matrix"
   ]
  },
  {
   "source": [
    "### Anime Recommender"
   ],
   "cell_type": "markdown",
   "metadata": {}
  },
  {
   "cell_type": "code",
   "execution_count": 16,
   "metadata": {},
   "outputs": [],
   "source": [
    "# Misal user menyukai anime naruto"
   ]
  },
  {
   "cell_type": "code",
   "execution_count": 17,
   "metadata": {},
   "outputs": [
    {
     "output_type": "execute_result",
     "data": {
      "text/plain": [
       "     action  adventure  cars  comedy  dementia  demons  drama  ecchi  fantasy  \\\n",
       "841       1          0     0       1         0       0      0      0        0   \n",
       "\n",
       "     game  ...  shounen ai  slice of life  space  sports  super power  \\\n",
       "841     0  ...           0              0      0       0            1   \n",
       "\n",
       "     supernatural  thriller  vampire  yaoi  yuri  \n",
       "841             0         0        0     0     0  \n",
       "\n",
       "[1 rows x 43 columns]"
      ],
      "text/html": "<div>\n<style scoped>\n    .dataframe tbody tr th:only-of-type {\n        vertical-align: middle;\n    }\n\n    .dataframe tbody tr th {\n        vertical-align: top;\n    }\n\n    .dataframe thead th {\n        text-align: right;\n    }\n</style>\n<table border=\"1\" class=\"dataframe\">\n  <thead>\n    <tr style=\"text-align: right;\">\n      <th></th>\n      <th>action</th>\n      <th>adventure</th>\n      <th>cars</th>\n      <th>comedy</th>\n      <th>dementia</th>\n      <th>demons</th>\n      <th>drama</th>\n      <th>ecchi</th>\n      <th>fantasy</th>\n      <th>game</th>\n      <th>...</th>\n      <th>shounen ai</th>\n      <th>slice of life</th>\n      <th>space</th>\n      <th>sports</th>\n      <th>super power</th>\n      <th>supernatural</th>\n      <th>thriller</th>\n      <th>vampire</th>\n      <th>yaoi</th>\n      <th>yuri</th>\n    </tr>\n  </thead>\n  <tbody>\n    <tr>\n      <th>841</th>\n      <td>1</td>\n      <td>0</td>\n      <td>0</td>\n      <td>1</td>\n      <td>0</td>\n      <td>0</td>\n      <td>0</td>\n      <td>0</td>\n      <td>0</td>\n      <td>0</td>\n      <td>...</td>\n      <td>0</td>\n      <td>0</td>\n      <td>0</td>\n      <td>0</td>\n      <td>1</td>\n      <td>0</td>\n      <td>0</td>\n      <td>0</td>\n      <td>0</td>\n      <td>0</td>\n    </tr>\n  </tbody>\n</table>\n<p>1 rows × 43 columns</p>\n</div>"
     },
     "metadata": {},
     "execution_count": 17
    }
   ],
   "source": [
    "df_genre[df_genre['name']=='Naruto'].drop('name',axis=1)"
   ]
  },
  {
   "cell_type": "code",
   "execution_count": 18,
   "metadata": {},
   "outputs": [
    {
     "output_type": "execute_result",
     "data": {
      "text/plain": [
       "(1, 12017)"
      ]
     },
     "metadata": {},
     "execution_count": 18
    }
   ],
   "source": [
    "cosScore= cosine_similarity(df_genre[df_genre['name']=='Naruto'].drop('name',axis=1),df_genre.drop('name',axis=1))\n",
    "cosScore.shape"
   ]
  },
  {
   "cell_type": "code",
   "execution_count": 19,
   "metadata": {},
   "outputs": [],
   "source": [
    "df_score=pd.concat([df['name'],pd.DataFrame(cosScore,index=['Score']).T],axis=1)"
   ]
  },
  {
   "cell_type": "code",
   "execution_count": 20,
   "metadata": {},
   "outputs": [
    {
     "output_type": "execute_result",
     "data": {
      "text/plain": [
       "                                                    name     Score\n",
       "0                                         Kimi no Na wa.  0.000000\n",
       "1                       Fullmetal Alchemist: Brotherhood  0.338062\n",
       "2                                               Gintama°  0.507093\n",
       "3                                            Steins;Gate  0.000000\n",
       "4                                          Gintama&#039;  0.507093\n",
       "...                                                  ...       ...\n",
       "12012       Toushindai My Lover: Minami tai Mecha-Minami  0.000000\n",
       "12013                                        Under World  0.000000\n",
       "12014                     Violence Gekiga David no Hoshi  0.000000\n",
       "12015  Violence Gekiga Shin David no Hoshi: Inma Dens...  0.000000\n",
       "12016                   Yasuji no Pornorama: Yacchimae!!  0.000000\n",
       "\n",
       "[12017 rows x 2 columns]"
      ],
      "text/html": "<div>\n<style scoped>\n    .dataframe tbody tr th:only-of-type {\n        vertical-align: middle;\n    }\n\n    .dataframe tbody tr th {\n        vertical-align: top;\n    }\n\n    .dataframe thead th {\n        text-align: right;\n    }\n</style>\n<table border=\"1\" class=\"dataframe\">\n  <thead>\n    <tr style=\"text-align: right;\">\n      <th></th>\n      <th>name</th>\n      <th>Score</th>\n    </tr>\n  </thead>\n  <tbody>\n    <tr>\n      <th>0</th>\n      <td>Kimi no Na wa.</td>\n      <td>0.000000</td>\n    </tr>\n    <tr>\n      <th>1</th>\n      <td>Fullmetal Alchemist: Brotherhood</td>\n      <td>0.338062</td>\n    </tr>\n    <tr>\n      <th>2</th>\n      <td>Gintama°</td>\n      <td>0.507093</td>\n    </tr>\n    <tr>\n      <th>3</th>\n      <td>Steins;Gate</td>\n      <td>0.000000</td>\n    </tr>\n    <tr>\n      <th>4</th>\n      <td>Gintama&amp;#039;</td>\n      <td>0.507093</td>\n    </tr>\n    <tr>\n      <th>...</th>\n      <td>...</td>\n      <td>...</td>\n    </tr>\n    <tr>\n      <th>12012</th>\n      <td>Toushindai My Lover: Minami tai Mecha-Minami</td>\n      <td>0.000000</td>\n    </tr>\n    <tr>\n      <th>12013</th>\n      <td>Under World</td>\n      <td>0.000000</td>\n    </tr>\n    <tr>\n      <th>12014</th>\n      <td>Violence Gekiga David no Hoshi</td>\n      <td>0.000000</td>\n    </tr>\n    <tr>\n      <th>12015</th>\n      <td>Violence Gekiga Shin David no Hoshi: Inma Dens...</td>\n      <td>0.000000</td>\n    </tr>\n    <tr>\n      <th>12016</th>\n      <td>Yasuji no Pornorama: Yacchimae!!</td>\n      <td>0.000000</td>\n    </tr>\n  </tbody>\n</table>\n<p>12017 rows × 2 columns</p>\n</div>"
     },
     "metadata": {},
     "execution_count": 20
    }
   ],
   "source": [
    "df_score"
   ]
  },
  {
   "cell_type": "code",
   "execution_count": 21,
   "metadata": {},
   "outputs": [
    {
     "output_type": "execute_result",
     "data": {
      "text/plain": [
       "1103    Boruto: Naruto the Movie - Naruto ga Hokage ni...\n",
       "1343                                          Naruto x UT\n",
       "486                              Boruto: Naruto the Movie\n",
       "615                                    Naruto: Shippuuden\n",
       "2996    Naruto Soyokazeden Movie: Naruto to Mashin to ...\n",
       "Name: name, dtype: object"
      ]
     },
     "metadata": {},
     "execution_count": 21
    }
   ],
   "source": [
    "df_score[df_score['name']!='Naruto'].sort_values(by='Score',ascending=False)['name'][:5]"
   ]
  },
  {
   "source": [
    "5 anime yang akan direkomendasikan untuk user yang menyukai anime Naruto adalah seperti di atas."
   ],
   "cell_type": "markdown",
   "metadata": {}
  },
  {
   "source": [
    "### Coba buat function di mana kita tinggal memasukkan nama anime, dan mendapatkan rekomendasi anime lain yang mirip dengan anime yang kita masukkan. "
   ],
   "cell_type": "markdown",
   "metadata": {}
  },
  {
   "cell_type": "code",
   "execution_count": 31,
   "metadata": {},
   "outputs": [],
   "source": [
    "def recommend():\n",
    "    anime=input(\"Masukkan judul anime yang kalian suka: \")\n",
    "\n",
    "    import pandas as pd\n",
    "    import numpy as np\n",
    "    from sklearn.feature_extraction.text import CountVectorizer\n",
    "    from sklearn.metrics.pairwise import cosine_similarity\n",
    "    \n",
    "    # Buat dataframe dengan judul anime dan genre sebagai features\n",
    "    df = pd.read_csv('anime.csv')\n",
    "    df=df.dropna().reset_index(drop=True)\n",
    "\n",
    "    cvr= CountVectorizer(tokenizer= lambda x:x.split(', ')) #hanya koma untuk memecah kolom genre\n",
    "    genre_a= cvr.fit_transform(df['genre'])\n",
    "\n",
    "    genre_a=pd.DataFrame(genre_a.toarray(),columns=cvr.get_feature_names())\n",
    "    df_genre=pd.concat([df[['name']],genre_a],axis=1) #item profile\n",
    "    \n",
    "    #hitung cosine similarity score\n",
    "    cosScore = cosine_similarity(df_genre[df_genre['name']==anime].drop('name',axis=1),df_genre.drop('name',axis=1))\n",
    "    df_score=pd.concat([df[['name']],pd.DataFrame(cosScore,index=['Score']).T],axis=1)\n",
    "    return df_score[df_score['name']!=anime].sort_values('Score',ascending=False)['name'][:5]"
   ]
  },
  {
   "cell_type": "code",
   "execution_count": 32,
   "metadata": {},
   "outputs": [
    {
     "output_type": "execute_result",
     "data": {
      "text/plain": [
       "1103    Boruto: Naruto the Movie - Naruto ga Hokage ni...\n",
       "1343                                          Naruto x UT\n",
       "486                              Boruto: Naruto the Movie\n",
       "615                                    Naruto: Shippuuden\n",
       "2996    Naruto Soyokazeden Movie: Naruto to Mashin to ...\n",
       "Name: name, dtype: object"
      ]
     },
     "metadata": {},
     "execution_count": 32
    }
   ],
   "source": [
    "recommend()"
   ]
  },
  {
   "source": [
    "## Content Based Filtering\n",
    "\n",
    "### For one user"
   ],
   "cell_type": "markdown",
   "metadata": {}
  },
  {
   "source": [
    "Sekarang akan kita lihat bagaimana content based filtering bekerja untuk satu user. Sebut saja user 1, user tersebut telah memberikan rating kepada sejumlah film dan ada sejumlah film yang belum ditonton sebelumnya. Kita ingin mengetahui film apa yang ingin dia tonton selanjutnya.\n"
   ],
   "cell_type": "markdown",
   "metadata": {}
  },
  {
   "cell_type": "code",
   "execution_count": 78,
   "metadata": {},
   "outputs": [],
   "source": [
    "movies= ['Terminator','Interstellar', 'Ant Man 2', '3 Idiots']\n",
    "scores=[7,9,8,9]\n",
    "action=[1,0,1,0]\n",
    "scifi=[1,1,1,0]\n",
    "adventure=[0,1,1,0]\n",
    "comedy=[0,0,1,1]\n",
    "drama=[0,1,0,1]\n",
    "\n",
    "df_movies= pd.DataFrame({\n",
    "    'movies':movies,\n",
    "    'scores':scores,\n",
    "    'action':action,\n",
    "    'scifi': scifi,\n",
    "    'adventure':adventure,\n",
    "    'comedy':comedy,\n",
    "    'drama':drama\n",
    "})"
   ]
  },
  {
   "cell_type": "code",
   "execution_count": 79,
   "metadata": {},
   "outputs": [
    {
     "output_type": "execute_result",
     "data": {
      "text/plain": [
       "         movies  scores  action  scifi  adventure  comedy  drama\n",
       "0    Terminator       7       1      1          0       0      0\n",
       "1  Interstellar       9       0      1          1       0      1\n",
       "2     Ant Man 2       8       1      1          1       1      0\n",
       "3      3 Idiots       9       0      0          0       1      1"
      ],
      "text/html": "<div>\n<style scoped>\n    .dataframe tbody tr th:only-of-type {\n        vertical-align: middle;\n    }\n\n    .dataframe tbody tr th {\n        vertical-align: top;\n    }\n\n    .dataframe thead th {\n        text-align: right;\n    }\n</style>\n<table border=\"1\" class=\"dataframe\">\n  <thead>\n    <tr style=\"text-align: right;\">\n      <th></th>\n      <th>movies</th>\n      <th>scores</th>\n      <th>action</th>\n      <th>scifi</th>\n      <th>adventure</th>\n      <th>comedy</th>\n      <th>drama</th>\n    </tr>\n  </thead>\n  <tbody>\n    <tr>\n      <th>0</th>\n      <td>Terminator</td>\n      <td>7</td>\n      <td>1</td>\n      <td>1</td>\n      <td>0</td>\n      <td>0</td>\n      <td>0</td>\n    </tr>\n    <tr>\n      <th>1</th>\n      <td>Interstellar</td>\n      <td>9</td>\n      <td>0</td>\n      <td>1</td>\n      <td>1</td>\n      <td>0</td>\n      <td>1</td>\n    </tr>\n    <tr>\n      <th>2</th>\n      <td>Ant Man 2</td>\n      <td>8</td>\n      <td>1</td>\n      <td>1</td>\n      <td>1</td>\n      <td>1</td>\n      <td>0</td>\n    </tr>\n    <tr>\n      <th>3</th>\n      <td>3 Idiots</td>\n      <td>9</td>\n      <td>0</td>\n      <td>0</td>\n      <td>0</td>\n      <td>1</td>\n      <td>1</td>\n    </tr>\n  </tbody>\n</table>\n</div>"
     },
     "metadata": {},
     "execution_count": 79
    }
   ],
   "source": [
    "df_movies #matrix yang merupakan kombinasi antara rating dan feature."
   ]
  },
  {
   "cell_type": "code",
   "execution_count": 82,
   "metadata": {},
   "outputs": [
    {
     "output_type": "execute_result",
     "data": {
      "text/plain": [
       "   scores  action  scifi  adventure  comedy  drama\n",
       "0       7       1      1          0       0      0\n",
       "1       9       0      1          1       0      1\n",
       "2       8       1      1          1       1      0\n",
       "3       9       0      0          0       1      1"
      ],
      "text/html": "<div>\n<style scoped>\n    .dataframe tbody tr th:only-of-type {\n        vertical-align: middle;\n    }\n\n    .dataframe tbody tr th {\n        vertical-align: top;\n    }\n\n    .dataframe thead th {\n        text-align: right;\n    }\n</style>\n<table border=\"1\" class=\"dataframe\">\n  <thead>\n    <tr style=\"text-align: right;\">\n      <th></th>\n      <th>scores</th>\n      <th>action</th>\n      <th>scifi</th>\n      <th>adventure</th>\n      <th>comedy</th>\n      <th>drama</th>\n    </tr>\n  </thead>\n  <tbody>\n    <tr>\n      <th>0</th>\n      <td>7</td>\n      <td>1</td>\n      <td>1</td>\n      <td>0</td>\n      <td>0</td>\n      <td>0</td>\n    </tr>\n    <tr>\n      <th>1</th>\n      <td>9</td>\n      <td>0</td>\n      <td>1</td>\n      <td>1</td>\n      <td>0</td>\n      <td>1</td>\n    </tr>\n    <tr>\n      <th>2</th>\n      <td>8</td>\n      <td>1</td>\n      <td>1</td>\n      <td>1</td>\n      <td>1</td>\n      <td>0</td>\n    </tr>\n    <tr>\n      <th>3</th>\n      <td>9</td>\n      <td>0</td>\n      <td>0</td>\n      <td>0</td>\n      <td>1</td>\n      <td>1</td>\n    </tr>\n  </tbody>\n</table>\n</div>"
     },
     "metadata": {},
     "execution_count": 82
    }
   ],
   "source": [
    "df_movies2= df_movies.copy()\n",
    "df_movies2=df_movies2.drop('movies',axis=1)\n",
    "df_movies2"
   ]
  },
  {
   "cell_type": "code",
   "execution_count": 84,
   "metadata": {},
   "outputs": [
    {
     "output_type": "execute_result",
     "data": {
      "text/plain": [
       "Index(['scores', 'action', 'scifi', 'adventure', 'comedy', 'drama'], dtype='object')"
      ]
     },
     "metadata": {},
     "execution_count": 84
    }
   ],
   "source": [
    "df_movies2.columns"
   ]
  },
  {
   "cell_type": "code",
   "execution_count": 85,
   "metadata": {},
   "outputs": [
    {
     "output_type": "execute_result",
     "data": {
      "text/plain": [
       "   scores  action  scifi  adventure  comedy  drama\n",
       "0       7       7      7          0       0      0\n",
       "1       9       0      9          9       0      9\n",
       "2       8       8      8          8       8      0\n",
       "3       9       0      0          0       9      9"
      ],
      "text/html": "<div>\n<style scoped>\n    .dataframe tbody tr th:only-of-type {\n        vertical-align: middle;\n    }\n\n    .dataframe tbody tr th {\n        vertical-align: top;\n    }\n\n    .dataframe thead th {\n        text-align: right;\n    }\n</style>\n<table border=\"1\" class=\"dataframe\">\n  <thead>\n    <tr style=\"text-align: right;\">\n      <th></th>\n      <th>scores</th>\n      <th>action</th>\n      <th>scifi</th>\n      <th>adventure</th>\n      <th>comedy</th>\n      <th>drama</th>\n    </tr>\n  </thead>\n  <tbody>\n    <tr>\n      <th>0</th>\n      <td>7</td>\n      <td>7</td>\n      <td>7</td>\n      <td>0</td>\n      <td>0</td>\n      <td>0</td>\n    </tr>\n    <tr>\n      <th>1</th>\n      <td>9</td>\n      <td>0</td>\n      <td>9</td>\n      <td>9</td>\n      <td>0</td>\n      <td>9</td>\n    </tr>\n    <tr>\n      <th>2</th>\n      <td>8</td>\n      <td>8</td>\n      <td>8</td>\n      <td>8</td>\n      <td>8</td>\n      <td>0</td>\n    </tr>\n    <tr>\n      <th>3</th>\n      <td>9</td>\n      <td>0</td>\n      <td>0</td>\n      <td>0</td>\n      <td>9</td>\n      <td>9</td>\n    </tr>\n  </tbody>\n</table>\n</div>"
     },
     "metadata": {},
     "execution_count": 85
    }
   ],
   "source": [
    "for i in ['action', 'scifi', 'adventure', 'comedy', 'drama']:\n",
    "    df_movies2[i]=df_movies2['scores']*df_movies2[i]\n",
    "df_movies2 #hasil perkalian antara score dan item-feature matrix"
   ]
  },
  {
   "cell_type": "code",
   "execution_count": 98,
   "metadata": {},
   "outputs": [],
   "source": [
    "df_movies2=df_movies2.drop('scores',axis=1)"
   ]
  },
  {
   "cell_type": "code",
   "execution_count": 99,
   "metadata": {},
   "outputs": [
    {
     "output_type": "execute_result",
     "data": {
      "text/plain": [
       "action       15\n",
       "scifi        24\n",
       "adventure    17\n",
       "comedy       17\n",
       "drama        18\n",
       "dtype: int64"
      ]
     },
     "metadata": {},
     "execution_count": 99
    }
   ],
   "source": [
    "# jumlahkan score untuk tiap genre\n",
    "\n",
    "df_movies2.sum()"
   ]
  },
  {
   "cell_type": "code",
   "execution_count": 100,
   "metadata": {},
   "outputs": [
    {
     "output_type": "execute_result",
     "data": {
      "text/plain": [
       "91"
      ]
     },
     "metadata": {},
     "execution_count": 100
    }
   ],
   "source": [
    "# total score\n",
    "\n",
    "df_movies2.sum().sum()"
   ]
  },
  {
   "cell_type": "code",
   "execution_count": 101,
   "metadata": {},
   "outputs": [
    {
     "output_type": "execute_result",
     "data": {
      "text/plain": [
       "action       0.164835\n",
       "scifi        0.263736\n",
       "adventure    0.186813\n",
       "comedy       0.186813\n",
       "drama        0.197802\n",
       "dtype: float64"
      ]
     },
     "metadata": {},
     "execution_count": 101
    }
   ],
   "source": [
    "# user feature vector\n",
    "\n",
    "ufv=df_movies2.sum()/df_movies2.sum().sum()\n",
    "ufv"
   ]
  },
  {
   "source": [
    "Setelah mendapatkan user feature vector, mari kita ukur ketertarikan user terhadap 3 film baru"
   ],
   "cell_type": "markdown",
   "metadata": {}
  },
  {
   "cell_type": "code",
   "execution_count": 106,
   "metadata": {},
   "outputs": [],
   "source": [
    "movies= ['Titanic','Martian','GOTG Vol 2']\n",
    "action=[1,0,1]\n",
    "scifi=[1,1,1]\n",
    "adventure=[0,1,1]\n",
    "comedy=[0,0,1]\n",
    "drama=[0,1,0]\n",
    "\n",
    "df_movies_recom= pd.DataFrame({\n",
    "    'movies':movies,\n",
    "    'action':action,\n",
    "    'scifi': scifi,\n",
    "    'adventure':adventure,\n",
    "    'comedy':comedy,\n",
    "    'drama':drama\n",
    "})"
   ]
  },
  {
   "cell_type": "code",
   "execution_count": 107,
   "metadata": {},
   "outputs": [
    {
     "output_type": "execute_result",
     "data": {
      "text/plain": [
       "       movies  action  scifi  adventure  comedy  drama\n",
       "0     Titanic       1      1          0       0      0\n",
       "1     Martian       0      1          1       0      1\n",
       "2  GOTG Vol 2       1      1          1       1      0"
      ],
      "text/html": "<div>\n<style scoped>\n    .dataframe tbody tr th:only-of-type {\n        vertical-align: middle;\n    }\n\n    .dataframe tbody tr th {\n        vertical-align: top;\n    }\n\n    .dataframe thead th {\n        text-align: right;\n    }\n</style>\n<table border=\"1\" class=\"dataframe\">\n  <thead>\n    <tr style=\"text-align: right;\">\n      <th></th>\n      <th>movies</th>\n      <th>action</th>\n      <th>scifi</th>\n      <th>adventure</th>\n      <th>comedy</th>\n      <th>drama</th>\n    </tr>\n  </thead>\n  <tbody>\n    <tr>\n      <th>0</th>\n      <td>Titanic</td>\n      <td>1</td>\n      <td>1</td>\n      <td>0</td>\n      <td>0</td>\n      <td>0</td>\n    </tr>\n    <tr>\n      <th>1</th>\n      <td>Martian</td>\n      <td>0</td>\n      <td>1</td>\n      <td>1</td>\n      <td>0</td>\n      <td>1</td>\n    </tr>\n    <tr>\n      <th>2</th>\n      <td>GOTG Vol 2</td>\n      <td>1</td>\n      <td>1</td>\n      <td>1</td>\n      <td>1</td>\n      <td>0</td>\n    </tr>\n  </tbody>\n</table>\n</div>"
     },
     "metadata": {},
     "execution_count": 107
    }
   ],
   "source": [
    "df_movies_recom #item feature matrix"
   ]
  },
  {
   "cell_type": "code",
   "execution_count": 108,
   "metadata": {},
   "outputs": [],
   "source": [
    "# kombinasikan item feature matrix dengan user feature vector yg kita hitung sebelumnya\n",
    "for i in ['action', 'scifi', 'adventure', 'comedy', 'drama']:\n",
    "    df_movies_recom[i]=df_movies_recom[i]*ufv[i]\n"
   ]
  },
  {
   "cell_type": "code",
   "execution_count": 109,
   "metadata": {},
   "outputs": [],
   "source": [
    "df_movies_recom['rating prediction']=df_movies_recom.sum(axis=1)"
   ]
  },
  {
   "cell_type": "code",
   "execution_count": 110,
   "metadata": {},
   "outputs": [
    {
     "output_type": "execute_result",
     "data": {
      "text/plain": [
       "       movies    action     scifi  adventure    comedy     drama  \\\n",
       "0     Titanic  0.164835  0.263736   0.000000  0.000000  0.000000   \n",
       "1     Martian  0.000000  0.263736   0.186813  0.000000  0.197802   \n",
       "2  GOTG Vol 2  0.164835  0.263736   0.186813  0.186813  0.000000   \n",
       "\n",
       "   rating prediction  \n",
       "0           0.428571  \n",
       "1           0.648352  \n",
       "2           0.802198  "
      ],
      "text/html": "<div>\n<style scoped>\n    .dataframe tbody tr th:only-of-type {\n        vertical-align: middle;\n    }\n\n    .dataframe tbody tr th {\n        vertical-align: top;\n    }\n\n    .dataframe thead th {\n        text-align: right;\n    }\n</style>\n<table border=\"1\" class=\"dataframe\">\n  <thead>\n    <tr style=\"text-align: right;\">\n      <th></th>\n      <th>movies</th>\n      <th>action</th>\n      <th>scifi</th>\n      <th>adventure</th>\n      <th>comedy</th>\n      <th>drama</th>\n      <th>rating prediction</th>\n    </tr>\n  </thead>\n  <tbody>\n    <tr>\n      <th>0</th>\n      <td>Titanic</td>\n      <td>0.164835</td>\n      <td>0.263736</td>\n      <td>0.000000</td>\n      <td>0.000000</td>\n      <td>0.000000</td>\n      <td>0.428571</td>\n    </tr>\n    <tr>\n      <th>1</th>\n      <td>Martian</td>\n      <td>0.000000</td>\n      <td>0.263736</td>\n      <td>0.186813</td>\n      <td>0.000000</td>\n      <td>0.197802</td>\n      <td>0.648352</td>\n    </tr>\n    <tr>\n      <th>2</th>\n      <td>GOTG Vol 2</td>\n      <td>0.164835</td>\n      <td>0.263736</td>\n      <td>0.186813</td>\n      <td>0.186813</td>\n      <td>0.000000</td>\n      <td>0.802198</td>\n    </tr>\n  </tbody>\n</table>\n</div>"
     },
     "metadata": {},
     "execution_count": 110
    }
   ],
   "source": [
    "df_movies_recom"
   ]
  },
  {
   "source": [
    "rekomendasi untuk user secara berurutan adalah: GOTG vol 2, Martian dan Titanic"
   ],
   "cell_type": "markdown",
   "metadata": {}
  },
  {
   "source": [
    "### Try with Anime Dataset"
   ],
   "cell_type": "markdown",
   "metadata": {}
  },
  {
   "cell_type": "code",
   "execution_count": 111,
   "metadata": {},
   "outputs": [
    {
     "output_type": "execute_result",
     "data": {
      "text/plain": [
       "       anime_id                                               name  \\\n",
       "0         32281                                     Kimi no Na wa.   \n",
       "1          5114                   Fullmetal Alchemist: Brotherhood   \n",
       "2         28977                                           Gintama°   \n",
       "3          9253                                        Steins;Gate   \n",
       "4          9969                                      Gintama&#039;   \n",
       "...         ...                                                ...   \n",
       "12012      9316       Toushindai My Lover: Minami tai Mecha-Minami   \n",
       "12013      5543                                        Under World   \n",
       "12014      5621                     Violence Gekiga David no Hoshi   \n",
       "12015      6133  Violence Gekiga Shin David no Hoshi: Inma Dens...   \n",
       "12016     26081                   Yasuji no Pornorama: Yacchimae!!   \n",
       "\n",
       "                                                   genre   type episodes  \\\n",
       "0                   Drama, Romance, School, Supernatural  Movie        1   \n",
       "1      Action, Adventure, Drama, Fantasy, Magic, Mili...     TV       64   \n",
       "2      Action, Comedy, Historical, Parody, Samurai, S...     TV       51   \n",
       "3                                       Sci-Fi, Thriller     TV       24   \n",
       "4      Action, Comedy, Historical, Parody, Samurai, S...     TV       51   \n",
       "...                                                  ...    ...      ...   \n",
       "12012                                             Hentai    OVA        1   \n",
       "12013                                             Hentai    OVA        1   \n",
       "12014                                             Hentai    OVA        4   \n",
       "12015                                             Hentai    OVA        1   \n",
       "12016                                             Hentai  Movie        1   \n",
       "\n",
       "       rating  members  \n",
       "0        9.37   200630  \n",
       "1        9.26   793665  \n",
       "2        9.25   114262  \n",
       "3        9.17   673572  \n",
       "4        9.16   151266  \n",
       "...       ...      ...  \n",
       "12012    4.15      211  \n",
       "12013    4.28      183  \n",
       "12014    4.88      219  \n",
       "12015    4.98      175  \n",
       "12016    5.46      142  \n",
       "\n",
       "[12017 rows x 7 columns]"
      ],
      "text/html": "<div>\n<style scoped>\n    .dataframe tbody tr th:only-of-type {\n        vertical-align: middle;\n    }\n\n    .dataframe tbody tr th {\n        vertical-align: top;\n    }\n\n    .dataframe thead th {\n        text-align: right;\n    }\n</style>\n<table border=\"1\" class=\"dataframe\">\n  <thead>\n    <tr style=\"text-align: right;\">\n      <th></th>\n      <th>anime_id</th>\n      <th>name</th>\n      <th>genre</th>\n      <th>type</th>\n      <th>episodes</th>\n      <th>rating</th>\n      <th>members</th>\n    </tr>\n  </thead>\n  <tbody>\n    <tr>\n      <th>0</th>\n      <td>32281</td>\n      <td>Kimi no Na wa.</td>\n      <td>Drama, Romance, School, Supernatural</td>\n      <td>Movie</td>\n      <td>1</td>\n      <td>9.37</td>\n      <td>200630</td>\n    </tr>\n    <tr>\n      <th>1</th>\n      <td>5114</td>\n      <td>Fullmetal Alchemist: Brotherhood</td>\n      <td>Action, Adventure, Drama, Fantasy, Magic, Mili...</td>\n      <td>TV</td>\n      <td>64</td>\n      <td>9.26</td>\n      <td>793665</td>\n    </tr>\n    <tr>\n      <th>2</th>\n      <td>28977</td>\n      <td>Gintama°</td>\n      <td>Action, Comedy, Historical, Parody, Samurai, S...</td>\n      <td>TV</td>\n      <td>51</td>\n      <td>9.25</td>\n      <td>114262</td>\n    </tr>\n    <tr>\n      <th>3</th>\n      <td>9253</td>\n      <td>Steins;Gate</td>\n      <td>Sci-Fi, Thriller</td>\n      <td>TV</td>\n      <td>24</td>\n      <td>9.17</td>\n      <td>673572</td>\n    </tr>\n    <tr>\n      <th>4</th>\n      <td>9969</td>\n      <td>Gintama&amp;#039;</td>\n      <td>Action, Comedy, Historical, Parody, Samurai, S...</td>\n      <td>TV</td>\n      <td>51</td>\n      <td>9.16</td>\n      <td>151266</td>\n    </tr>\n    <tr>\n      <th>...</th>\n      <td>...</td>\n      <td>...</td>\n      <td>...</td>\n      <td>...</td>\n      <td>...</td>\n      <td>...</td>\n      <td>...</td>\n    </tr>\n    <tr>\n      <th>12012</th>\n      <td>9316</td>\n      <td>Toushindai My Lover: Minami tai Mecha-Minami</td>\n      <td>Hentai</td>\n      <td>OVA</td>\n      <td>1</td>\n      <td>4.15</td>\n      <td>211</td>\n    </tr>\n    <tr>\n      <th>12013</th>\n      <td>5543</td>\n      <td>Under World</td>\n      <td>Hentai</td>\n      <td>OVA</td>\n      <td>1</td>\n      <td>4.28</td>\n      <td>183</td>\n    </tr>\n    <tr>\n      <th>12014</th>\n      <td>5621</td>\n      <td>Violence Gekiga David no Hoshi</td>\n      <td>Hentai</td>\n      <td>OVA</td>\n      <td>4</td>\n      <td>4.88</td>\n      <td>219</td>\n    </tr>\n    <tr>\n      <th>12015</th>\n      <td>6133</td>\n      <td>Violence Gekiga Shin David no Hoshi: Inma Dens...</td>\n      <td>Hentai</td>\n      <td>OVA</td>\n      <td>1</td>\n      <td>4.98</td>\n      <td>175</td>\n    </tr>\n    <tr>\n      <th>12016</th>\n      <td>26081</td>\n      <td>Yasuji no Pornorama: Yacchimae!!</td>\n      <td>Hentai</td>\n      <td>Movie</td>\n      <td>1</td>\n      <td>5.46</td>\n      <td>142</td>\n    </tr>\n  </tbody>\n</table>\n<p>12017 rows × 7 columns</p>\n</div>"
     },
     "metadata": {},
     "execution_count": 111
    }
   ],
   "source": [
    "df"
   ]
  },
  {
   "cell_type": "code",
   "execution_count": null,
   "metadata": {},
   "outputs": [],
   "source": [
    "# pretend that the rating is given by a user, and the user hasn't watch anything that isn't inputed by us."
   ]
  },
  {
   "cell_type": "code",
   "execution_count": 113,
   "metadata": {},
   "outputs": [],
   "source": [
    "cvr=CountVectorizer(tokenizer= lambda x:x.split(', '))\n",
    "genre_a=cvr.fit_transform(df['genre'])"
   ]
  },
  {
   "cell_type": "code",
   "execution_count": 117,
   "metadata": {},
   "outputs": [
    {
     "output_type": "execute_result",
     "data": {
      "text/plain": [
       "43"
      ]
     },
     "metadata": {},
     "execution_count": 117
    }
   ],
   "source": [
    "len(cvr.get_feature_names())"
   ]
  },
  {
   "cell_type": "code",
   "execution_count": 125,
   "metadata": {},
   "outputs": [],
   "source": [
    "df_genre= pd.DataFrame(genre_a.toarray(), columns=cvr.get_feature_names())\n"
   ]
  },
  {
   "cell_type": "code",
   "execution_count": 123,
   "metadata": {},
   "outputs": [],
   "source": [
    "df_anime_genre=pd.concat([df[['name','rating']],df_genre],axis=1)"
   ]
  },
  {
   "cell_type": "code",
   "execution_count": 124,
   "metadata": {},
   "outputs": [
    {
     "output_type": "execute_result",
     "data": {
      "text/plain": [
       "                               name  rating  action  adventure  cars  comedy  \\\n",
       "0                    Kimi no Na wa.    9.37       0          0     0       0   \n",
       "1  Fullmetal Alchemist: Brotherhood    9.26       1          1     0       0   \n",
       "2                          Gintama°    9.25       1          0     0       1   \n",
       "3                       Steins;Gate    9.17       0          0     0       0   \n",
       "4                     Gintama&#039;    9.16       1          0     0       1   \n",
       "\n",
       "   dementia  demons  drama  ecchi  ...  shounen ai  slice of life  space  \\\n",
       "0         0       0      1      0  ...           0              0      0   \n",
       "1         0       0      1      0  ...           0              0      0   \n",
       "2         0       0      0      0  ...           0              0      0   \n",
       "3         0       0      0      0  ...           0              0      0   \n",
       "4         0       0      0      0  ...           0              0      0   \n",
       "\n",
       "   sports  super power  supernatural  thriller  vampire  yaoi  yuri  \n",
       "0       0            0             1         0        0     0     0  \n",
       "1       0            0             0         0        0     0     0  \n",
       "2       0            0             0         0        0     0     0  \n",
       "3       0            0             0         1        0     0     0  \n",
       "4       0            0             0         0        0     0     0  \n",
       "\n",
       "[5 rows x 45 columns]"
      ],
      "text/html": "<div>\n<style scoped>\n    .dataframe tbody tr th:only-of-type {\n        vertical-align: middle;\n    }\n\n    .dataframe tbody tr th {\n        vertical-align: top;\n    }\n\n    .dataframe thead th {\n        text-align: right;\n    }\n</style>\n<table border=\"1\" class=\"dataframe\">\n  <thead>\n    <tr style=\"text-align: right;\">\n      <th></th>\n      <th>name</th>\n      <th>rating</th>\n      <th>action</th>\n      <th>adventure</th>\n      <th>cars</th>\n      <th>comedy</th>\n      <th>dementia</th>\n      <th>demons</th>\n      <th>drama</th>\n      <th>ecchi</th>\n      <th>...</th>\n      <th>shounen ai</th>\n      <th>slice of life</th>\n      <th>space</th>\n      <th>sports</th>\n      <th>super power</th>\n      <th>supernatural</th>\n      <th>thriller</th>\n      <th>vampire</th>\n      <th>yaoi</th>\n      <th>yuri</th>\n    </tr>\n  </thead>\n  <tbody>\n    <tr>\n      <th>0</th>\n      <td>Kimi no Na wa.</td>\n      <td>9.37</td>\n      <td>0</td>\n      <td>0</td>\n      <td>0</td>\n      <td>0</td>\n      <td>0</td>\n      <td>0</td>\n      <td>1</td>\n      <td>0</td>\n      <td>...</td>\n      <td>0</td>\n      <td>0</td>\n      <td>0</td>\n      <td>0</td>\n      <td>0</td>\n      <td>1</td>\n      <td>0</td>\n      <td>0</td>\n      <td>0</td>\n      <td>0</td>\n    </tr>\n    <tr>\n      <th>1</th>\n      <td>Fullmetal Alchemist: Brotherhood</td>\n      <td>9.26</td>\n      <td>1</td>\n      <td>1</td>\n      <td>0</td>\n      <td>0</td>\n      <td>0</td>\n      <td>0</td>\n      <td>1</td>\n      <td>0</td>\n      <td>...</td>\n      <td>0</td>\n      <td>0</td>\n      <td>0</td>\n      <td>0</td>\n      <td>0</td>\n      <td>0</td>\n      <td>0</td>\n      <td>0</td>\n      <td>0</td>\n      <td>0</td>\n    </tr>\n    <tr>\n      <th>2</th>\n      <td>Gintama°</td>\n      <td>9.25</td>\n      <td>1</td>\n      <td>0</td>\n      <td>0</td>\n      <td>1</td>\n      <td>0</td>\n      <td>0</td>\n      <td>0</td>\n      <td>0</td>\n      <td>...</td>\n      <td>0</td>\n      <td>0</td>\n      <td>0</td>\n      <td>0</td>\n      <td>0</td>\n      <td>0</td>\n      <td>0</td>\n      <td>0</td>\n      <td>0</td>\n      <td>0</td>\n    </tr>\n    <tr>\n      <th>3</th>\n      <td>Steins;Gate</td>\n      <td>9.17</td>\n      <td>0</td>\n      <td>0</td>\n      <td>0</td>\n      <td>0</td>\n      <td>0</td>\n      <td>0</td>\n      <td>0</td>\n      <td>0</td>\n      <td>...</td>\n      <td>0</td>\n      <td>0</td>\n      <td>0</td>\n      <td>0</td>\n      <td>0</td>\n      <td>0</td>\n      <td>1</td>\n      <td>0</td>\n      <td>0</td>\n      <td>0</td>\n    </tr>\n    <tr>\n      <th>4</th>\n      <td>Gintama&amp;#039;</td>\n      <td>9.16</td>\n      <td>1</td>\n      <td>0</td>\n      <td>0</td>\n      <td>1</td>\n      <td>0</td>\n      <td>0</td>\n      <td>0</td>\n      <td>0</td>\n      <td>...</td>\n      <td>0</td>\n      <td>0</td>\n      <td>0</td>\n      <td>0</td>\n      <td>0</td>\n      <td>0</td>\n      <td>0</td>\n      <td>0</td>\n      <td>0</td>\n      <td>0</td>\n    </tr>\n  </tbody>\n</table>\n<p>5 rows × 45 columns</p>\n</div>"
     },
     "metadata": {},
     "execution_count": 124
    }
   ],
   "source": [
    "df_anime_genre.head()"
   ]
  },
  {
   "source": [
    "# Anime yang disukai: Naruto, One Piece, Dragon Ball\n",
    "df_anime_genre[df_anime_genre['name'].isin(['Naruto','One Piece', 'Dragon Ball'])]"
   ],
   "cell_type": "code",
   "metadata": {},
   "execution_count": 127,
   "outputs": [
    {
     "output_type": "execute_result",
     "data": {
      "text/plain": [
       "            name  rating  action  adventure  cars  comedy  dementia  demons  \\\n",
       "74     One Piece    8.58       1          1     0       1         0       0   \n",
       "346  Dragon Ball    8.16       0          1     0       1         0       0   \n",
       "841       Naruto    7.81       1          0     0       1         0       0   \n",
       "\n",
       "     drama  ecchi  ...  shounen ai  slice of life  space  sports  super power  \\\n",
       "74       1      0  ...           0              0      0       0            1   \n",
       "346      0      0  ...           0              0      0       0            1   \n",
       "841      0      0  ...           0              0      0       0            1   \n",
       "\n",
       "     supernatural  thriller  vampire  yaoi  yuri  \n",
       "74              0         0        0     0     0  \n",
       "346             0         0        0     0     0  \n",
       "841             0         0        0     0     0  \n",
       "\n",
       "[3 rows x 45 columns]"
      ],
      "text/html": "<div>\n<style scoped>\n    .dataframe tbody tr th:only-of-type {\n        vertical-align: middle;\n    }\n\n    .dataframe tbody tr th {\n        vertical-align: top;\n    }\n\n    .dataframe thead th {\n        text-align: right;\n    }\n</style>\n<table border=\"1\" class=\"dataframe\">\n  <thead>\n    <tr style=\"text-align: right;\">\n      <th></th>\n      <th>name</th>\n      <th>rating</th>\n      <th>action</th>\n      <th>adventure</th>\n      <th>cars</th>\n      <th>comedy</th>\n      <th>dementia</th>\n      <th>demons</th>\n      <th>drama</th>\n      <th>ecchi</th>\n      <th>...</th>\n      <th>shounen ai</th>\n      <th>slice of life</th>\n      <th>space</th>\n      <th>sports</th>\n      <th>super power</th>\n      <th>supernatural</th>\n      <th>thriller</th>\n      <th>vampire</th>\n      <th>yaoi</th>\n      <th>yuri</th>\n    </tr>\n  </thead>\n  <tbody>\n    <tr>\n      <th>74</th>\n      <td>One Piece</td>\n      <td>8.58</td>\n      <td>1</td>\n      <td>1</td>\n      <td>0</td>\n      <td>1</td>\n      <td>0</td>\n      <td>0</td>\n      <td>1</td>\n      <td>0</td>\n      <td>...</td>\n      <td>0</td>\n      <td>0</td>\n      <td>0</td>\n      <td>0</td>\n      <td>1</td>\n      <td>0</td>\n      <td>0</td>\n      <td>0</td>\n      <td>0</td>\n      <td>0</td>\n    </tr>\n    <tr>\n      <th>346</th>\n      <td>Dragon Ball</td>\n      <td>8.16</td>\n      <td>0</td>\n      <td>1</td>\n      <td>0</td>\n      <td>1</td>\n      <td>0</td>\n      <td>0</td>\n      <td>0</td>\n      <td>0</td>\n      <td>...</td>\n      <td>0</td>\n      <td>0</td>\n      <td>0</td>\n      <td>0</td>\n      <td>1</td>\n      <td>0</td>\n      <td>0</td>\n      <td>0</td>\n      <td>0</td>\n      <td>0</td>\n    </tr>\n    <tr>\n      <th>841</th>\n      <td>Naruto</td>\n      <td>7.81</td>\n      <td>1</td>\n      <td>0</td>\n      <td>0</td>\n      <td>1</td>\n      <td>0</td>\n      <td>0</td>\n      <td>0</td>\n      <td>0</td>\n      <td>...</td>\n      <td>0</td>\n      <td>0</td>\n      <td>0</td>\n      <td>0</td>\n      <td>1</td>\n      <td>0</td>\n      <td>0</td>\n      <td>0</td>\n      <td>0</td>\n      <td>0</td>\n    </tr>\n  </tbody>\n</table>\n<p>3 rows × 45 columns</p>\n</div>"
     },
     "metadata": {},
     "execution_count": 127
    }
   ]
  },
  {
   "cell_type": "code",
   "execution_count": 133,
   "metadata": {},
   "outputs": [
    {
     "output_type": "stream",
     "name": "stderr",
     "text": [
      "<ipython-input-133-398c01a862c7>:4: SettingWithCopyWarning: \nA value is trying to be set on a copy of a slice from a DataFrame.\nTry using .loc[row_indexer,col_indexer] = value instead\n\nSee the caveats in the documentation: https://pandas.pydata.org/pandas-docs/stable/user_guide/indexing.html#returning-a-view-versus-a-copy\n  df_anime[i]=df_anime['rating']*df_anime[i]\n"
     ]
    }
   ],
   "source": [
    "df_anime=df_anime_genre[df_anime_genre['name'].isin(['Naruto','One Piece', 'Dragon Ball'])] #anime yg disukai user\n",
    "\n",
    "for i in cvr.get_feature_names():\n",
    "    df_anime[i]=df_anime['rating']*df_anime[i]"
   ]
  },
  {
   "cell_type": "code",
   "execution_count": 130,
   "metadata": {},
   "outputs": [
    {
     "output_type": "execute_result",
     "data": {
      "text/plain": [
       "            name  rating  action  adventure  cars  comedy  dementia  demons  \\\n",
       "74     One Piece    8.58    8.58       8.58   0.0    8.58       0.0     0.0   \n",
       "346  Dragon Ball    8.16    0.00       8.16   0.0    8.16       0.0     0.0   \n",
       "841       Naruto    7.81    7.81       0.00   0.0    7.81       0.0     0.0   \n",
       "\n",
       "     drama  ecchi  ...  shounen ai  slice of life  space  sports  super power  \\\n",
       "74    8.58    0.0  ...         0.0            0.0    0.0     0.0         8.58   \n",
       "346   0.00    0.0  ...         0.0            0.0    0.0     0.0         8.16   \n",
       "841   0.00    0.0  ...         0.0            0.0    0.0     0.0         7.81   \n",
       "\n",
       "     supernatural  thriller  vampire  yaoi  yuri  \n",
       "74            0.0       0.0      0.0   0.0   0.0  \n",
       "346           0.0       0.0      0.0   0.0   0.0  \n",
       "841           0.0       0.0      0.0   0.0   0.0  \n",
       "\n",
       "[3 rows x 45 columns]"
      ],
      "text/html": "<div>\n<style scoped>\n    .dataframe tbody tr th:only-of-type {\n        vertical-align: middle;\n    }\n\n    .dataframe tbody tr th {\n        vertical-align: top;\n    }\n\n    .dataframe thead th {\n        text-align: right;\n    }\n</style>\n<table border=\"1\" class=\"dataframe\">\n  <thead>\n    <tr style=\"text-align: right;\">\n      <th></th>\n      <th>name</th>\n      <th>rating</th>\n      <th>action</th>\n      <th>adventure</th>\n      <th>cars</th>\n      <th>comedy</th>\n      <th>dementia</th>\n      <th>demons</th>\n      <th>drama</th>\n      <th>ecchi</th>\n      <th>...</th>\n      <th>shounen ai</th>\n      <th>slice of life</th>\n      <th>space</th>\n      <th>sports</th>\n      <th>super power</th>\n      <th>supernatural</th>\n      <th>thriller</th>\n      <th>vampire</th>\n      <th>yaoi</th>\n      <th>yuri</th>\n    </tr>\n  </thead>\n  <tbody>\n    <tr>\n      <th>74</th>\n      <td>One Piece</td>\n      <td>8.58</td>\n      <td>8.58</td>\n      <td>8.58</td>\n      <td>0.0</td>\n      <td>8.58</td>\n      <td>0.0</td>\n      <td>0.0</td>\n      <td>8.58</td>\n      <td>0.0</td>\n      <td>...</td>\n      <td>0.0</td>\n      <td>0.0</td>\n      <td>0.0</td>\n      <td>0.0</td>\n      <td>8.58</td>\n      <td>0.0</td>\n      <td>0.0</td>\n      <td>0.0</td>\n      <td>0.0</td>\n      <td>0.0</td>\n    </tr>\n    <tr>\n      <th>346</th>\n      <td>Dragon Ball</td>\n      <td>8.16</td>\n      <td>0.00</td>\n      <td>8.16</td>\n      <td>0.0</td>\n      <td>8.16</td>\n      <td>0.0</td>\n      <td>0.0</td>\n      <td>0.00</td>\n      <td>0.0</td>\n      <td>...</td>\n      <td>0.0</td>\n      <td>0.0</td>\n      <td>0.0</td>\n      <td>0.0</td>\n      <td>8.16</td>\n      <td>0.0</td>\n      <td>0.0</td>\n      <td>0.0</td>\n      <td>0.0</td>\n      <td>0.0</td>\n    </tr>\n    <tr>\n      <th>841</th>\n      <td>Naruto</td>\n      <td>7.81</td>\n      <td>7.81</td>\n      <td>0.00</td>\n      <td>0.0</td>\n      <td>7.81</td>\n      <td>0.0</td>\n      <td>0.0</td>\n      <td>0.00</td>\n      <td>0.0</td>\n      <td>...</td>\n      <td>0.0</td>\n      <td>0.0</td>\n      <td>0.0</td>\n      <td>0.0</td>\n      <td>7.81</td>\n      <td>0.0</td>\n      <td>0.0</td>\n      <td>0.0</td>\n      <td>0.0</td>\n      <td>0.0</td>\n    </tr>\n  </tbody>\n</table>\n<p>3 rows × 45 columns</p>\n</div>"
     },
     "metadata": {},
     "execution_count": 130
    }
   ],
   "source": [
    "df_anime"
   ]
  },
  {
   "cell_type": "code",
   "execution_count": 134,
   "metadata": {},
   "outputs": [
    {
     "output_type": "stream",
     "name": "stderr",
     "text": [
      "C:\\Users\\brigi\\anaconda3\\lib\\site-packages\\pandas\\core\\frame.py:3990: SettingWithCopyWarning: \nA value is trying to be set on a copy of a slice from a DataFrame\n\nSee the caveats in the documentation: https://pandas.pydata.org/pandas-docs/stable/user_guide/indexing.html#returning-a-view-versus-a-copy\n  return super().drop(\n"
     ]
    }
   ],
   "source": [
    "df_anime.drop(['name','rating'],axis=1,inplace= True)"
   ]
  },
  {
   "cell_type": "code",
   "execution_count": 135,
   "metadata": {},
   "outputs": [
    {
     "output_type": "execute_result",
     "data": {
      "text/plain": [
       "     action  adventure  cars  comedy  dementia  demons  drama  ecchi  fantasy  \\\n",
       "74     8.58       8.58   0.0    8.58       0.0     0.0   8.58    0.0     8.58   \n",
       "346    0.00       8.16   0.0    8.16       0.0     0.0   0.00    0.0     8.16   \n",
       "841    7.81       0.00   0.0    7.81       0.0     0.0   0.00    0.0     0.00   \n",
       "\n",
       "     game  ...  shounen ai  slice of life  space  sports  super power  \\\n",
       "74    0.0  ...         0.0            0.0    0.0     0.0         8.58   \n",
       "346   0.0  ...         0.0            0.0    0.0     0.0         8.16   \n",
       "841   0.0  ...         0.0            0.0    0.0     0.0         7.81   \n",
       "\n",
       "     supernatural  thriller  vampire  yaoi  yuri  \n",
       "74            0.0       0.0      0.0   0.0   0.0  \n",
       "346           0.0       0.0      0.0   0.0   0.0  \n",
       "841           0.0       0.0      0.0   0.0   0.0  \n",
       "\n",
       "[3 rows x 43 columns]"
      ],
      "text/html": "<div>\n<style scoped>\n    .dataframe tbody tr th:only-of-type {\n        vertical-align: middle;\n    }\n\n    .dataframe tbody tr th {\n        vertical-align: top;\n    }\n\n    .dataframe thead th {\n        text-align: right;\n    }\n</style>\n<table border=\"1\" class=\"dataframe\">\n  <thead>\n    <tr style=\"text-align: right;\">\n      <th></th>\n      <th>action</th>\n      <th>adventure</th>\n      <th>cars</th>\n      <th>comedy</th>\n      <th>dementia</th>\n      <th>demons</th>\n      <th>drama</th>\n      <th>ecchi</th>\n      <th>fantasy</th>\n      <th>game</th>\n      <th>...</th>\n      <th>shounen ai</th>\n      <th>slice of life</th>\n      <th>space</th>\n      <th>sports</th>\n      <th>super power</th>\n      <th>supernatural</th>\n      <th>thriller</th>\n      <th>vampire</th>\n      <th>yaoi</th>\n      <th>yuri</th>\n    </tr>\n  </thead>\n  <tbody>\n    <tr>\n      <th>74</th>\n      <td>8.58</td>\n      <td>8.58</td>\n      <td>0.0</td>\n      <td>8.58</td>\n      <td>0.0</td>\n      <td>0.0</td>\n      <td>8.58</td>\n      <td>0.0</td>\n      <td>8.58</td>\n      <td>0.0</td>\n      <td>...</td>\n      <td>0.0</td>\n      <td>0.0</td>\n      <td>0.0</td>\n      <td>0.0</td>\n      <td>8.58</td>\n      <td>0.0</td>\n      <td>0.0</td>\n      <td>0.0</td>\n      <td>0.0</td>\n      <td>0.0</td>\n    </tr>\n    <tr>\n      <th>346</th>\n      <td>0.00</td>\n      <td>8.16</td>\n      <td>0.0</td>\n      <td>8.16</td>\n      <td>0.0</td>\n      <td>0.0</td>\n      <td>0.00</td>\n      <td>0.0</td>\n      <td>8.16</td>\n      <td>0.0</td>\n      <td>...</td>\n      <td>0.0</td>\n      <td>0.0</td>\n      <td>0.0</td>\n      <td>0.0</td>\n      <td>8.16</td>\n      <td>0.0</td>\n      <td>0.0</td>\n      <td>0.0</td>\n      <td>0.0</td>\n      <td>0.0</td>\n    </tr>\n    <tr>\n      <th>841</th>\n      <td>7.81</td>\n      <td>0.00</td>\n      <td>0.0</td>\n      <td>7.81</td>\n      <td>0.0</td>\n      <td>0.0</td>\n      <td>0.00</td>\n      <td>0.0</td>\n      <td>0.00</td>\n      <td>0.0</td>\n      <td>...</td>\n      <td>0.0</td>\n      <td>0.0</td>\n      <td>0.0</td>\n      <td>0.0</td>\n      <td>7.81</td>\n      <td>0.0</td>\n      <td>0.0</td>\n      <td>0.0</td>\n      <td>0.0</td>\n      <td>0.0</td>\n    </tr>\n  </tbody>\n</table>\n<p>3 rows × 43 columns</p>\n</div>"
     },
     "metadata": {},
     "execution_count": 135
    }
   ],
   "source": [
    "df_anime"
   ]
  },
  {
   "cell_type": "code",
   "execution_count": 136,
   "metadata": {},
   "outputs": [],
   "source": [
    "anime_score=df_anime.sum()/df_anime.sum().sum()"
   ]
  },
  {
   "cell_type": "code",
   "execution_count": 137,
   "metadata": {},
   "outputs": [
    {
     "output_type": "execute_result",
     "data": {
      "text/plain": [
       "action           0.110691\n",
       "adventure        0.113055\n",
       "cars             0.000000\n",
       "comedy           0.165800\n",
       "dementia         0.000000\n",
       "demons           0.000000\n",
       "drama            0.057946\n",
       "ecchi            0.000000\n",
       "fantasy          0.113055\n",
       "game             0.000000\n",
       "harem            0.000000\n",
       "hentai           0.000000\n",
       "historical       0.000000\n",
       "horror           0.000000\n",
       "josei            0.000000\n",
       "kids             0.000000\n",
       "magic            0.000000\n",
       "martial arts     0.107854\n",
       "mecha            0.000000\n",
       "military         0.000000\n",
       "music            0.000000\n",
       "mystery          0.000000\n",
       "parody           0.000000\n",
       "police           0.000000\n",
       "psychological    0.000000\n",
       "romance          0.000000\n",
       "samurai          0.000000\n",
       "school           0.000000\n",
       "sci-fi           0.000000\n",
       "seinen           0.000000\n",
       "shoujo           0.000000\n",
       "shoujo ai        0.000000\n",
       "shounen          0.165800\n",
       "shounen ai       0.000000\n",
       "slice of life    0.000000\n",
       "space            0.000000\n",
       "sports           0.000000\n",
       "super power      0.165800\n",
       "supernatural     0.000000\n",
       "thriller         0.000000\n",
       "vampire          0.000000\n",
       "yaoi             0.000000\n",
       "yuri             0.000000\n",
       "dtype: float64"
      ]
     },
     "metadata": {},
     "execution_count": 137
    }
   ],
   "source": [
    "anime_score"
   ]
  },
  {
   "cell_type": "code",
   "execution_count": 144,
   "metadata": {},
   "outputs": [],
   "source": [
    "df_anime_recom= df_anime_genre.copy()\n",
    "\n",
    "df_anime_recom=df_anime_recom[~df_anime_recom['name'].isin(['Naruto','Dragon Ball','One Piece'])].drop('rating',axis=1)"
   ]
  },
  {
   "cell_type": "code",
   "execution_count": 145,
   "metadata": {},
   "outputs": [
    {
     "output_type": "execute_result",
     "data": {
      "text/plain": [
       "                               name  action  adventure  cars  comedy  \\\n",
       "0                    Kimi no Na wa.       0          0     0       0   \n",
       "1  Fullmetal Alchemist: Brotherhood       1          1     0       0   \n",
       "2                          Gintama°       1          0     0       1   \n",
       "3                       Steins;Gate       0          0     0       0   \n",
       "4                     Gintama&#039;       1          0     0       1   \n",
       "\n",
       "   dementia  demons  drama  ecchi  fantasy  ...  shounen ai  slice of life  \\\n",
       "0         0       0      1      0        0  ...           0              0   \n",
       "1         0       0      1      0        1  ...           0              0   \n",
       "2         0       0      0      0        0  ...           0              0   \n",
       "3         0       0      0      0        0  ...           0              0   \n",
       "4         0       0      0      0        0  ...           0              0   \n",
       "\n",
       "   space  sports  super power  supernatural  thriller  vampire  yaoi  yuri  \n",
       "0      0       0            0             1         0        0     0     0  \n",
       "1      0       0            0             0         0        0     0     0  \n",
       "2      0       0            0             0         0        0     0     0  \n",
       "3      0       0            0             0         1        0     0     0  \n",
       "4      0       0            0             0         0        0     0     0  \n",
       "\n",
       "[5 rows x 44 columns]"
      ],
      "text/html": "<div>\n<style scoped>\n    .dataframe tbody tr th:only-of-type {\n        vertical-align: middle;\n    }\n\n    .dataframe tbody tr th {\n        vertical-align: top;\n    }\n\n    .dataframe thead th {\n        text-align: right;\n    }\n</style>\n<table border=\"1\" class=\"dataframe\">\n  <thead>\n    <tr style=\"text-align: right;\">\n      <th></th>\n      <th>name</th>\n      <th>action</th>\n      <th>adventure</th>\n      <th>cars</th>\n      <th>comedy</th>\n      <th>dementia</th>\n      <th>demons</th>\n      <th>drama</th>\n      <th>ecchi</th>\n      <th>fantasy</th>\n      <th>...</th>\n      <th>shounen ai</th>\n      <th>slice of life</th>\n      <th>space</th>\n      <th>sports</th>\n      <th>super power</th>\n      <th>supernatural</th>\n      <th>thriller</th>\n      <th>vampire</th>\n      <th>yaoi</th>\n      <th>yuri</th>\n    </tr>\n  </thead>\n  <tbody>\n    <tr>\n      <th>0</th>\n      <td>Kimi no Na wa.</td>\n      <td>0</td>\n      <td>0</td>\n      <td>0</td>\n      <td>0</td>\n      <td>0</td>\n      <td>0</td>\n      <td>1</td>\n      <td>0</td>\n      <td>0</td>\n      <td>...</td>\n      <td>0</td>\n      <td>0</td>\n      <td>0</td>\n      <td>0</td>\n      <td>0</td>\n      <td>1</td>\n      <td>0</td>\n      <td>0</td>\n      <td>0</td>\n      <td>0</td>\n    </tr>\n    <tr>\n      <th>1</th>\n      <td>Fullmetal Alchemist: Brotherhood</td>\n      <td>1</td>\n      <td>1</td>\n      <td>0</td>\n      <td>0</td>\n      <td>0</td>\n      <td>0</td>\n      <td>1</td>\n      <td>0</td>\n      <td>1</td>\n      <td>...</td>\n      <td>0</td>\n      <td>0</td>\n      <td>0</td>\n      <td>0</td>\n      <td>0</td>\n      <td>0</td>\n      <td>0</td>\n      <td>0</td>\n      <td>0</td>\n      <td>0</td>\n    </tr>\n    <tr>\n      <th>2</th>\n      <td>Gintama°</td>\n      <td>1</td>\n      <td>0</td>\n      <td>0</td>\n      <td>1</td>\n      <td>0</td>\n      <td>0</td>\n      <td>0</td>\n      <td>0</td>\n      <td>0</td>\n      <td>...</td>\n      <td>0</td>\n      <td>0</td>\n      <td>0</td>\n      <td>0</td>\n      <td>0</td>\n      <td>0</td>\n      <td>0</td>\n      <td>0</td>\n      <td>0</td>\n      <td>0</td>\n    </tr>\n    <tr>\n      <th>3</th>\n      <td>Steins;Gate</td>\n      <td>0</td>\n      <td>0</td>\n      <td>0</td>\n      <td>0</td>\n      <td>0</td>\n      <td>0</td>\n      <td>0</td>\n      <td>0</td>\n      <td>0</td>\n      <td>...</td>\n      <td>0</td>\n      <td>0</td>\n      <td>0</td>\n      <td>0</td>\n      <td>0</td>\n      <td>0</td>\n      <td>1</td>\n      <td>0</td>\n      <td>0</td>\n      <td>0</td>\n    </tr>\n    <tr>\n      <th>4</th>\n      <td>Gintama&amp;#039;</td>\n      <td>1</td>\n      <td>0</td>\n      <td>0</td>\n      <td>1</td>\n      <td>0</td>\n      <td>0</td>\n      <td>0</td>\n      <td>0</td>\n      <td>0</td>\n      <td>...</td>\n      <td>0</td>\n      <td>0</td>\n      <td>0</td>\n      <td>0</td>\n      <td>0</td>\n      <td>0</td>\n      <td>0</td>\n      <td>0</td>\n      <td>0</td>\n      <td>0</td>\n    </tr>\n  </tbody>\n</table>\n<p>5 rows × 44 columns</p>\n</div>"
     },
     "metadata": {},
     "execution_count": 145
    }
   ],
   "source": [
    "df_anime_recom.head()"
   ]
  },
  {
   "cell_type": "code",
   "execution_count": 146,
   "metadata": {},
   "outputs": [],
   "source": [
    "for i in cvr.get_feature_names():\n",
    "    df_anime_recom[i]=df_anime_recom[i]*anime_score[i]"
   ]
  },
  {
   "cell_type": "code",
   "execution_count": 150,
   "metadata": {},
   "outputs": [
    {
     "output_type": "execute_result",
     "data": {
      "text/plain": [
       "0        0.057946\n",
       "1        0.560546\n",
       "2        0.442291\n",
       "3        0.000000\n",
       "4        0.442291\n",
       "           ...   \n",
       "12012    0.000000\n",
       "12013    0.000000\n",
       "12014    0.000000\n",
       "12015    0.000000\n",
       "12016    0.000000\n",
       "Length: 12014, dtype: float64"
      ]
     },
     "metadata": {},
     "execution_count": 150
    }
   ],
   "source": [
    "df_anime_recom.sum(axis=1)"
   ]
  },
  {
   "cell_type": "code",
   "execution_count": 151,
   "metadata": {},
   "outputs": [],
   "source": [
    "df_anime_recom['prediction score']=df_anime_recom.sum(axis=1)"
   ]
  },
  {
   "cell_type": "code",
   "execution_count": 153,
   "metadata": {},
   "outputs": [
    {
     "output_type": "execute_result",
     "data": {
      "text/plain": [
       "                                                    name  prediction score\n",
       "0                                         Kimi no Na wa.          0.057946\n",
       "1                       Fullmetal Alchemist: Brotherhood          0.560546\n",
       "2                                               Gintama°          0.442291\n",
       "3                                            Steins;Gate          0.000000\n",
       "4                                          Gintama&#039;          0.442291\n",
       "...                                                  ...               ...\n",
       "12012       Toushindai My Lover: Minami tai Mecha-Minami          0.000000\n",
       "12013                                        Under World          0.000000\n",
       "12014                     Violence Gekiga David no Hoshi          0.000000\n",
       "12015  Violence Gekiga Shin David no Hoshi: Inma Dens...          0.000000\n",
       "12016                   Yasuji no Pornorama: Yacchimae!!          0.000000\n",
       "\n",
       "[12014 rows x 2 columns]"
      ],
      "text/html": "<div>\n<style scoped>\n    .dataframe tbody tr th:only-of-type {\n        vertical-align: middle;\n    }\n\n    .dataframe tbody tr th {\n        vertical-align: top;\n    }\n\n    .dataframe thead th {\n        text-align: right;\n    }\n</style>\n<table border=\"1\" class=\"dataframe\">\n  <thead>\n    <tr style=\"text-align: right;\">\n      <th></th>\n      <th>name</th>\n      <th>prediction score</th>\n    </tr>\n  </thead>\n  <tbody>\n    <tr>\n      <th>0</th>\n      <td>Kimi no Na wa.</td>\n      <td>0.057946</td>\n    </tr>\n    <tr>\n      <th>1</th>\n      <td>Fullmetal Alchemist: Brotherhood</td>\n      <td>0.560546</td>\n    </tr>\n    <tr>\n      <th>2</th>\n      <td>Gintama°</td>\n      <td>0.442291</td>\n    </tr>\n    <tr>\n      <th>3</th>\n      <td>Steins;Gate</td>\n      <td>0.000000</td>\n    </tr>\n    <tr>\n      <th>4</th>\n      <td>Gintama&amp;#039;</td>\n      <td>0.442291</td>\n    </tr>\n    <tr>\n      <th>...</th>\n      <td>...</td>\n      <td>...</td>\n    </tr>\n    <tr>\n      <th>12012</th>\n      <td>Toushindai My Lover: Minami tai Mecha-Minami</td>\n      <td>0.000000</td>\n    </tr>\n    <tr>\n      <th>12013</th>\n      <td>Under World</td>\n      <td>0.000000</td>\n    </tr>\n    <tr>\n      <th>12014</th>\n      <td>Violence Gekiga David no Hoshi</td>\n      <td>0.000000</td>\n    </tr>\n    <tr>\n      <th>12015</th>\n      <td>Violence Gekiga Shin David no Hoshi: Inma Dens...</td>\n      <td>0.000000</td>\n    </tr>\n    <tr>\n      <th>12016</th>\n      <td>Yasuji no Pornorama: Yacchimae!!</td>\n      <td>0.000000</td>\n    </tr>\n  </tbody>\n</table>\n<p>12014 rows × 2 columns</p>\n</div>"
     },
     "metadata": {},
     "execution_count": 153
    }
   ],
   "source": [
    "df_anime_recom[['name','prediction score']]"
   ]
  },
  {
   "cell_type": "code",
   "execution_count": 156,
   "metadata": {},
   "outputs": [
    {
     "output_type": "execute_result",
     "data": {
      "text/plain": [
       "                                                   name  prediction score\n",
       "5997  Dragon Ball Z Movie 11: Super Senshi Gekiha!! ...          0.942054\n",
       "1409              Dragon Ball Z Movie 15: Fukkatsu no F          0.942054\n",
       "1931                    Dragon Ball: Episode of Bardock          0.942054\n",
       "1930                                  Dragon Ball Super          0.942054\n",
       "3407  Dragon Ball Z: Zenbu Misemasu Toshi Wasure Dra...          0.942054\n",
       "3202             Dragon Ball Z: Summer Vacation Special          0.942054\n",
       "4312  Dragon Ball GT: Goku Gaiden! Yuuki no Akashi w...          0.942054\n",
       "4273               Dragon Ball Z: Atsumare! Gokuu World          0.942054\n",
       "588                                     Dragon Ball Kai          0.942054\n",
       "206                                       Dragon Ball Z          0.942054\n",
       "2980  Dragon Ball Z Movie 10: Kiken na Futari! Super...          0.942054\n",
       "515                              Dragon Ball Kai (2014)          0.942054\n",
       "241   One Piece: Episode of Nami - Koukaishi no Nami...          0.892146\n",
       "896   One Piece: Episode of Sabo - 3 Kyoudai no Kizu...          0.892146\n",
       "231   One Piece: Episode of Merry - Mou Hitori no Na...          0.892146\n",
       "1576                 One Piece: Adventure of Nebulandia          0.834200\n",
       "1829  One Piece: Oounabara ni Hirake! Dekkai Dekkai ...          0.834200\n",
       "3201         Dragon Ball Movie 1: Shen Long no Densetsu          0.834200\n",
       "2202      One Piece Movie 2: Nejimaki-jima no Daibouken          0.834200\n",
       "3051         Dragon Ball Movie 3: Makafushigi Daibouken          0.834200"
      ],
      "text/html": "<div>\n<style scoped>\n    .dataframe tbody tr th:only-of-type {\n        vertical-align: middle;\n    }\n\n    .dataframe tbody tr th {\n        vertical-align: top;\n    }\n\n    .dataframe thead th {\n        text-align: right;\n    }\n</style>\n<table border=\"1\" class=\"dataframe\">\n  <thead>\n    <tr style=\"text-align: right;\">\n      <th></th>\n      <th>name</th>\n      <th>prediction score</th>\n    </tr>\n  </thead>\n  <tbody>\n    <tr>\n      <th>5997</th>\n      <td>Dragon Ball Z Movie 11: Super Senshi Gekiha!! ...</td>\n      <td>0.942054</td>\n    </tr>\n    <tr>\n      <th>1409</th>\n      <td>Dragon Ball Z Movie 15: Fukkatsu no F</td>\n      <td>0.942054</td>\n    </tr>\n    <tr>\n      <th>1931</th>\n      <td>Dragon Ball: Episode of Bardock</td>\n      <td>0.942054</td>\n    </tr>\n    <tr>\n      <th>1930</th>\n      <td>Dragon Ball Super</td>\n      <td>0.942054</td>\n    </tr>\n    <tr>\n      <th>3407</th>\n      <td>Dragon Ball Z: Zenbu Misemasu Toshi Wasure Dra...</td>\n      <td>0.942054</td>\n    </tr>\n    <tr>\n      <th>3202</th>\n      <td>Dragon Ball Z: Summer Vacation Special</td>\n      <td>0.942054</td>\n    </tr>\n    <tr>\n      <th>4312</th>\n      <td>Dragon Ball GT: Goku Gaiden! Yuuki no Akashi w...</td>\n      <td>0.942054</td>\n    </tr>\n    <tr>\n      <th>4273</th>\n      <td>Dragon Ball Z: Atsumare! Gokuu World</td>\n      <td>0.942054</td>\n    </tr>\n    <tr>\n      <th>588</th>\n      <td>Dragon Ball Kai</td>\n      <td>0.942054</td>\n    </tr>\n    <tr>\n      <th>206</th>\n      <td>Dragon Ball Z</td>\n      <td>0.942054</td>\n    </tr>\n    <tr>\n      <th>2980</th>\n      <td>Dragon Ball Z Movie 10: Kiken na Futari! Super...</td>\n      <td>0.942054</td>\n    </tr>\n    <tr>\n      <th>515</th>\n      <td>Dragon Ball Kai (2014)</td>\n      <td>0.942054</td>\n    </tr>\n    <tr>\n      <th>241</th>\n      <td>One Piece: Episode of Nami - Koukaishi no Nami...</td>\n      <td>0.892146</td>\n    </tr>\n    <tr>\n      <th>896</th>\n      <td>One Piece: Episode of Sabo - 3 Kyoudai no Kizu...</td>\n      <td>0.892146</td>\n    </tr>\n    <tr>\n      <th>231</th>\n      <td>One Piece: Episode of Merry - Mou Hitori no Na...</td>\n      <td>0.892146</td>\n    </tr>\n    <tr>\n      <th>1576</th>\n      <td>One Piece: Adventure of Nebulandia</td>\n      <td>0.834200</td>\n    </tr>\n    <tr>\n      <th>1829</th>\n      <td>One Piece: Oounabara ni Hirake! Dekkai Dekkai ...</td>\n      <td>0.834200</td>\n    </tr>\n    <tr>\n      <th>3201</th>\n      <td>Dragon Ball Movie 1: Shen Long no Densetsu</td>\n      <td>0.834200</td>\n    </tr>\n    <tr>\n      <th>2202</th>\n      <td>One Piece Movie 2: Nejimaki-jima no Daibouken</td>\n      <td>0.834200</td>\n    </tr>\n    <tr>\n      <th>3051</th>\n      <td>Dragon Ball Movie 3: Makafushigi Daibouken</td>\n      <td>0.834200</td>\n    </tr>\n  </tbody>\n</table>\n</div>"
     },
     "metadata": {},
     "execution_count": 156
    }
   ],
   "source": [
    "df_anime_recom[['name','prediction score']].sort_values('prediction score',ascending=False)[:20]"
   ]
  },
  {
   "source": [
    "Hasil rekomendasi apabila User menyukai Naruto, One Piece dan Dragon Ball"
   ],
   "cell_type": "markdown",
   "metadata": {}
  },
  {
   "source": [
    "# Buat fungsinya"
   ],
   "cell_type": "markdown",
   "metadata": {}
  },
  {
   "cell_type": "code",
   "execution_count": 161,
   "metadata": {},
   "outputs": [],
   "source": [
    "def recommendMe():\n",
    "    anime_list=input('Masukkan judul-judul anime yang anda sukai, pisahkan dengan koma').split(', ')\n",
    "    # anime_list=['Naruto', 'One Piece', 'Dragon Ball']\n",
    "    import pandas as pd\n",
    "    import numpy as np\n",
    "    from sklearn.feature_extraction.text import CountVectorizer\n",
    "\n",
    "    # Buat dataframe dengan judul anime dan genre sebagai features\n",
    "    df = pd.read_csv('anime.csv')\n",
    "    df=df.dropna()\n",
    "    cvr= CountVectorizer(tokenizer= lambda x:x.split(', ')) #hanya koma untuk memecah kolom genre\n",
    "\n",
    "    genre_a= cvr.fit_transform(df['genre'])\n",
    "\n",
    "    df_genre=pd.DataFrame(genre_a.toarray(),columns=cvr.get_feature_names())\n",
    "    df_anime_genre=pd.concat([df[['name','rating']],df_genre],axis=1) #df item features matrix\n",
    "\n",
    "    df_anime=df_anime_genre[df_anime_genre['name'].isin(anime_list)] #dataframe yg berisi anime yg disukai\n",
    "    for i in cvr.get_feature_names():\n",
    "        df_anime[i] = df_anime['rating']*df_anime[i] \n",
    "\n",
    "    df_anime.drop(['name','rating'], axis = 1, inplace = True)\n",
    "    anime_score = df_anime.sum()/df_anime.sum().sum() #user feature vector\n",
    "\n",
    "    df_anime_recom=df_anime_genre[~df_anime_genre['name'].isin (anime_list)].drop('rating',axis=1)# dataframe dengan pilihan anime yg belum ditonton\n",
    "\n",
    "    for i in cvr.get_feature_names():\n",
    "        df_anime_recom[i] = df_anime_recom[i]*anime_score[i]\n",
    "   \n",
    "    \n",
    "    df_anime_recom['rating prediction'] = df_anime_recom.sum(axis = 1) #hitung score\n",
    "\n",
    "    # Recommended Anime\n",
    "\n",
    "    return df_anime_recom[['name','rating prediction']].sort_values('rating prediction',ascending=False)[:20]"
   ]
  },
  {
   "cell_type": "code",
   "execution_count": 164,
   "metadata": {},
   "outputs": [
    {
     "output_type": "execute_result",
     "data": {
      "text/plain": [
       "                                                   name  rating prediction\n",
       "515                              Dragon Ball Kai (2014)           0.942054\n",
       "1409              Dragon Ball Z Movie 15: Fukkatsu no F           0.942054\n",
       "1931                    Dragon Ball: Episode of Bardock           0.942054\n",
       "206                                       Dragon Ball Z           0.942054\n",
       "588                                     Dragon Ball Kai           0.942054\n",
       "4273                               D.C.III: Da Capo III           0.942054\n",
       "3407                                Cossette no Shouzou           0.942054\n",
       "3202         Dragon Ball Movie 1: Shen Long no Densetsu           0.942054\n",
       "5997                                           Colorful           0.942054\n",
       "2980                                          Dr. Slump           0.942054\n",
       "4312  Dog Days&#039;&#039;: Limone Resort Tenbou Onsen!           0.942054\n",
       "1930                                  Dragon Ball Super           0.942054\n",
       "231   One Piece: Episode of Merry - Mou Hitori no Na...           0.892146\n",
       "896   One Piece: Episode of Sabo - 3 Kyoudai no Kizu...           0.892146\n",
       "241   One Piece: Episode of Nami - Koukaishi no Nami...           0.892146\n",
       "2723  One Piece Movie 3: Chinjuu-jima no Chopper Oukoku           0.834200\n",
       "1576                 One Piece: Adventure of Nebulandia           0.834200\n",
       "2119                         One Piece: Glorious Island           0.834200\n",
       "3201                                 D.C.II: Da Capo II           0.834200\n",
       "3288                                       Code:Breaker           0.834200"
      ],
      "text/html": "<div>\n<style scoped>\n    .dataframe tbody tr th:only-of-type {\n        vertical-align: middle;\n    }\n\n    .dataframe tbody tr th {\n        vertical-align: top;\n    }\n\n    .dataframe thead th {\n        text-align: right;\n    }\n</style>\n<table border=\"1\" class=\"dataframe\">\n  <thead>\n    <tr style=\"text-align: right;\">\n      <th></th>\n      <th>name</th>\n      <th>rating prediction</th>\n    </tr>\n  </thead>\n  <tbody>\n    <tr>\n      <th>515</th>\n      <td>Dragon Ball Kai (2014)</td>\n      <td>0.942054</td>\n    </tr>\n    <tr>\n      <th>1409</th>\n      <td>Dragon Ball Z Movie 15: Fukkatsu no F</td>\n      <td>0.942054</td>\n    </tr>\n    <tr>\n      <th>1931</th>\n      <td>Dragon Ball: Episode of Bardock</td>\n      <td>0.942054</td>\n    </tr>\n    <tr>\n      <th>206</th>\n      <td>Dragon Ball Z</td>\n      <td>0.942054</td>\n    </tr>\n    <tr>\n      <th>588</th>\n      <td>Dragon Ball Kai</td>\n      <td>0.942054</td>\n    </tr>\n    <tr>\n      <th>4273</th>\n      <td>D.C.III: Da Capo III</td>\n      <td>0.942054</td>\n    </tr>\n    <tr>\n      <th>3407</th>\n      <td>Cossette no Shouzou</td>\n      <td>0.942054</td>\n    </tr>\n    <tr>\n      <th>3202</th>\n      <td>Dragon Ball Movie 1: Shen Long no Densetsu</td>\n      <td>0.942054</td>\n    </tr>\n    <tr>\n      <th>5997</th>\n      <td>Colorful</td>\n      <td>0.942054</td>\n    </tr>\n    <tr>\n      <th>2980</th>\n      <td>Dr. Slump</td>\n      <td>0.942054</td>\n    </tr>\n    <tr>\n      <th>4312</th>\n      <td>Dog Days&amp;#039;&amp;#039;: Limone Resort Tenbou Onsen!</td>\n      <td>0.942054</td>\n    </tr>\n    <tr>\n      <th>1930</th>\n      <td>Dragon Ball Super</td>\n      <td>0.942054</td>\n    </tr>\n    <tr>\n      <th>231</th>\n      <td>One Piece: Episode of Merry - Mou Hitori no Na...</td>\n      <td>0.892146</td>\n    </tr>\n    <tr>\n      <th>896</th>\n      <td>One Piece: Episode of Sabo - 3 Kyoudai no Kizu...</td>\n      <td>0.892146</td>\n    </tr>\n    <tr>\n      <th>241</th>\n      <td>One Piece: Episode of Nami - Koukaishi no Nami...</td>\n      <td>0.892146</td>\n    </tr>\n    <tr>\n      <th>2723</th>\n      <td>One Piece Movie 3: Chinjuu-jima no Chopper Oukoku</td>\n      <td>0.834200</td>\n    </tr>\n    <tr>\n      <th>1576</th>\n      <td>One Piece: Adventure of Nebulandia</td>\n      <td>0.834200</td>\n    </tr>\n    <tr>\n      <th>2119</th>\n      <td>One Piece: Glorious Island</td>\n      <td>0.834200</td>\n    </tr>\n    <tr>\n      <th>3201</th>\n      <td>D.C.II: Da Capo II</td>\n      <td>0.834200</td>\n    </tr>\n    <tr>\n      <th>3288</th>\n      <td>Code:Breaker</td>\n      <td>0.834200</td>\n    </tr>\n  </tbody>\n</table>\n</div>"
     },
     "metadata": {},
     "execution_count": 164
    }
   ],
   "source": [
    "recommendMe()"
   ]
  },
  {
   "source": [
    "### Content Based Filtering for multiple Users"
   ],
   "cell_type": "markdown",
   "metadata": {}
  },
  {
   "cell_type": "code",
   "execution_count": 49,
   "metadata": {},
   "outputs": [],
   "source": [
    "movies= ['Terminator','Interstellar', 'Ant Man 2', '3 Idiots']\n",
    "\n",
    "action=[1,0,1,0]\n",
    "scifi=[1,1,1,0]\n",
    "adventure=[0,1,1,0]\n",
    "comedy=[0,0,1,1]\n",
    "drama=[0,1,0,1]\n",
    "\n",
    "df_item_feature= pd.DataFrame({\n",
    "    'movies':movies,\n",
    "\n",
    "    'action':action,\n",
    "    'scifi': scifi,\n",
    "    'adventure':adventure,\n",
    "    'comedy':comedy,\n",
    "    'drama':drama\n",
    "})"
   ]
  },
  {
   "cell_type": "code",
   "execution_count": 50,
   "metadata": {},
   "outputs": [
    {
     "output_type": "execute_result",
     "data": {
      "text/plain": [
       "         movies  action  scifi  adventure  comedy  drama\n",
       "0    Terminator       1      1          0       0      0\n",
       "1  Interstellar       0      1          1       0      1\n",
       "2     Ant Man 2       1      1          1       1      0\n",
       "3      3 Idiots       0      0          0       1      1"
      ],
      "text/html": "<div>\n<style scoped>\n    .dataframe tbody tr th:only-of-type {\n        vertical-align: middle;\n    }\n\n    .dataframe tbody tr th {\n        vertical-align: top;\n    }\n\n    .dataframe thead th {\n        text-align: right;\n    }\n</style>\n<table border=\"1\" class=\"dataframe\">\n  <thead>\n    <tr style=\"text-align: right;\">\n      <th></th>\n      <th>movies</th>\n      <th>action</th>\n      <th>scifi</th>\n      <th>adventure</th>\n      <th>comedy</th>\n      <th>drama</th>\n    </tr>\n  </thead>\n  <tbody>\n    <tr>\n      <th>0</th>\n      <td>Terminator</td>\n      <td>1</td>\n      <td>1</td>\n      <td>0</td>\n      <td>0</td>\n      <td>0</td>\n    </tr>\n    <tr>\n      <th>1</th>\n      <td>Interstellar</td>\n      <td>0</td>\n      <td>1</td>\n      <td>1</td>\n      <td>0</td>\n      <td>1</td>\n    </tr>\n    <tr>\n      <th>2</th>\n      <td>Ant Man 2</td>\n      <td>1</td>\n      <td>1</td>\n      <td>1</td>\n      <td>1</td>\n      <td>0</td>\n    </tr>\n    <tr>\n      <th>3</th>\n      <td>3 Idiots</td>\n      <td>0</td>\n      <td>0</td>\n      <td>0</td>\n      <td>1</td>\n      <td>1</td>\n    </tr>\n  </tbody>\n</table>\n</div>"
     },
     "metadata": {},
     "execution_count": 50
    }
   ],
   "source": [
    "df_item_feature"
   ]
  },
  {
   "cell_type": "code",
   "execution_count": 51,
   "metadata": {},
   "outputs": [
    {
     "output_type": "execute_result",
     "data": {
      "text/plain": [
       "     user  terminator  interstellar  ant man 2  3 idiots\n",
       "0  user 1           7             9          8         9\n",
       "1  user 2           8             0          6         5\n",
       "2  user 3           9             0          0        10\n",
       "3  user 4           0             7          0         9"
      ],
      "text/html": "<div>\n<style scoped>\n    .dataframe tbody tr th:only-of-type {\n        vertical-align: middle;\n    }\n\n    .dataframe tbody tr th {\n        vertical-align: top;\n    }\n\n    .dataframe thead th {\n        text-align: right;\n    }\n</style>\n<table border=\"1\" class=\"dataframe\">\n  <thead>\n    <tr style=\"text-align: right;\">\n      <th></th>\n      <th>user</th>\n      <th>terminator</th>\n      <th>interstellar</th>\n      <th>ant man 2</th>\n      <th>3 idiots</th>\n    </tr>\n  </thead>\n  <tbody>\n    <tr>\n      <th>0</th>\n      <td>user 1</td>\n      <td>7</td>\n      <td>9</td>\n      <td>8</td>\n      <td>9</td>\n    </tr>\n    <tr>\n      <th>1</th>\n      <td>user 2</td>\n      <td>8</td>\n      <td>0</td>\n      <td>6</td>\n      <td>5</td>\n    </tr>\n    <tr>\n      <th>2</th>\n      <td>user 3</td>\n      <td>9</td>\n      <td>0</td>\n      <td>0</td>\n      <td>10</td>\n    </tr>\n    <tr>\n      <th>3</th>\n      <td>user 4</td>\n      <td>0</td>\n      <td>7</td>\n      <td>0</td>\n      <td>9</td>\n    </tr>\n  </tbody>\n</table>\n</div>"
     },
     "metadata": {},
     "execution_count": 51
    }
   ],
   "source": [
    "user= ['user 1','user 2','user 3','user 4']\n",
    "terminator= [7,8,9,0]\n",
    "interstellar= [9,0,0,7]\n",
    "ant_man_2=[8,6,0,0]\n",
    "three_idiots=[9,5,10,9]\n",
    "\n",
    "df_user_item= pd.DataFrame({\n",
    "    'user':user,\n",
    "    'terminator':terminator,\n",
    "    'interstellar': interstellar,\n",
    "    'ant man 2': ant_man_2,\n",
    "    '3 idiots': three_idiots\n",
    "})\n",
    "df_user_item"
   ]
  },
  {
   "cell_type": "code",
   "execution_count": 52,
   "metadata": {},
   "outputs": [],
   "source": [
    "# mencari user feature matrix\n",
    "\n",
    "arr_user_items= np.array(df_user_item.drop('user',axis=1))\n",
    "arr_item_features=np.array(df_item_feature.drop('movies',axis=1))\n",
    "\n",
    "n_user= arr_user_items.shape[0]\n",
    "n_item= arr_user_items.shape[1]\n",
    "n_feature= arr_item_features.shape[1]\n",
    "\n",
    "arr_user_items_score=np.empty((n_user,n_item))\n",
    "arr_user_feature= np.empty((n_user,n_feature))\n",
    "\n",
    "for i in range(n_user):\n",
    "    # print(arr_user_items[i,:])\n",
    "    user_feature= np.matmul(arr_user_items[i,:], arr_item_features) \n",
    "    # print(user_feature)\n",
    "    user_feature=user_feature/user_feature.sum()\n",
    "    arr_user_feature[i,:]=user_feature"
   ]
  },
  {
   "cell_type": "code",
   "execution_count": 53,
   "metadata": {},
   "outputs": [
    {
     "output_type": "execute_result",
     "data": {
      "text/plain": [
       "          action     scifi  adventure    comedy     drama\n",
       "user 1  0.164835  0.263736   0.186813  0.186813  0.197802\n",
       "user 2  0.280000  0.280000   0.120000  0.220000  0.100000\n",
       "user 3  0.236842  0.236842   0.000000  0.263158  0.263158\n",
       "user 4  0.000000  0.179487   0.179487  0.230769  0.410256"
      ],
      "text/html": "<div>\n<style scoped>\n    .dataframe tbody tr th:only-of-type {\n        vertical-align: middle;\n    }\n\n    .dataframe tbody tr th {\n        vertical-align: top;\n    }\n\n    .dataframe thead th {\n        text-align: right;\n    }\n</style>\n<table border=\"1\" class=\"dataframe\">\n  <thead>\n    <tr style=\"text-align: right;\">\n      <th></th>\n      <th>action</th>\n      <th>scifi</th>\n      <th>adventure</th>\n      <th>comedy</th>\n      <th>drama</th>\n    </tr>\n  </thead>\n  <tbody>\n    <tr>\n      <th>user 1</th>\n      <td>0.164835</td>\n      <td>0.263736</td>\n      <td>0.186813</td>\n      <td>0.186813</td>\n      <td>0.197802</td>\n    </tr>\n    <tr>\n      <th>user 2</th>\n      <td>0.280000</td>\n      <td>0.280000</td>\n      <td>0.120000</td>\n      <td>0.220000</td>\n      <td>0.100000</td>\n    </tr>\n    <tr>\n      <th>user 3</th>\n      <td>0.236842</td>\n      <td>0.236842</td>\n      <td>0.000000</td>\n      <td>0.263158</td>\n      <td>0.263158</td>\n    </tr>\n    <tr>\n      <th>user 4</th>\n      <td>0.000000</td>\n      <td>0.179487</td>\n      <td>0.179487</td>\n      <td>0.230769</td>\n      <td>0.410256</td>\n    </tr>\n  </tbody>\n</table>\n</div>"
     },
     "metadata": {},
     "execution_count": 53
    }
   ],
   "source": [
    "df_user_feature=pd.DataFrame(arr_user_feature)\n",
    "df_user_feature.columns= df_item_feature.columns[1:]\n",
    "df_user_feature.index=user\n",
    "df_user_feature"
   ]
  },
  {
   "cell_type": "code",
   "execution_count": 54,
   "metadata": {},
   "outputs": [],
   "source": [
    "for i in range(n_user):\n",
    "    user_item_score = np.matmul(arr_item_features,arr_user_feature[i,:])\n",
    "    arr_user_items_score[i,:]= user_item_score\n",
    "\n",
    "arr_user_items_score_unwatched=np.where(arr_user_items==0, arr_user_items_score,0)\n",
    "df_user_item_score_unwatched= pd.DataFrame(arr_user_items_score_unwatched, columns=movies, index=user)"
   ]
  },
  {
   "cell_type": "code",
   "execution_count": 55,
   "metadata": {},
   "outputs": [
    {
     "output_type": "execute_result",
     "data": {
      "text/plain": [
       "        Terminator  Interstellar  Ant Man 2  3 Idiots\n",
       "user 1    0.000000           0.0   0.000000       0.0\n",
       "user 2    0.000000           0.5   0.000000       0.0\n",
       "user 3    0.000000           0.5   0.736842       0.0\n",
       "user 4    0.179487           0.0   0.589744       0.0"
      ],
      "text/html": "<div>\n<style scoped>\n    .dataframe tbody tr th:only-of-type {\n        vertical-align: middle;\n    }\n\n    .dataframe tbody tr th {\n        vertical-align: top;\n    }\n\n    .dataframe thead th {\n        text-align: right;\n    }\n</style>\n<table border=\"1\" class=\"dataframe\">\n  <thead>\n    <tr style=\"text-align: right;\">\n      <th></th>\n      <th>Terminator</th>\n      <th>Interstellar</th>\n      <th>Ant Man 2</th>\n      <th>3 Idiots</th>\n    </tr>\n  </thead>\n  <tbody>\n    <tr>\n      <th>user 1</th>\n      <td>0.000000</td>\n      <td>0.0</td>\n      <td>0.000000</td>\n      <td>0.0</td>\n    </tr>\n    <tr>\n      <th>user 2</th>\n      <td>0.000000</td>\n      <td>0.5</td>\n      <td>0.000000</td>\n      <td>0.0</td>\n    </tr>\n    <tr>\n      <th>user 3</th>\n      <td>0.000000</td>\n      <td>0.5</td>\n      <td>0.736842</td>\n      <td>0.0</td>\n    </tr>\n    <tr>\n      <th>user 4</th>\n      <td>0.179487</td>\n      <td>0.0</td>\n      <td>0.589744</td>\n      <td>0.0</td>\n    </tr>\n  </tbody>\n</table>\n</div>"
     },
     "metadata": {},
     "execution_count": 55
    }
   ],
   "source": [
    "df_user_item_score_unwatched"
   ]
  },
  {
   "source": [
    "Recommendation:  \n",
    "* user 3: Ant Man 2, Interstellar\n",
    "* user 4: Ant Man 2, Terminator 2"
   ],
   "cell_type": "markdown",
   "metadata": {}
  },
  {
   "source": [
    "#### From a new movie list"
   ],
   "cell_type": "markdown",
   "metadata": {}
  },
  {
   "cell_type": "code",
   "execution_count": 57,
   "metadata": {},
   "outputs": [
    {
     "output_type": "execute_result",
     "data": {
      "text/plain": [
       "       movies  action  scifi  adventure  comedy  drama\n",
       "0     Titanic       1      1          0       0      0\n",
       "1     Martian       0      1          1       0      1\n",
       "2  GOTG Vol 2       1      1          1       1      0"
      ],
      "text/html": "<div>\n<style scoped>\n    .dataframe tbody tr th:only-of-type {\n        vertical-align: middle;\n    }\n\n    .dataframe tbody tr th {\n        vertical-align: top;\n    }\n\n    .dataframe thead th {\n        text-align: right;\n    }\n</style>\n<table border=\"1\" class=\"dataframe\">\n  <thead>\n    <tr style=\"text-align: right;\">\n      <th></th>\n      <th>movies</th>\n      <th>action</th>\n      <th>scifi</th>\n      <th>adventure</th>\n      <th>comedy</th>\n      <th>drama</th>\n    </tr>\n  </thead>\n  <tbody>\n    <tr>\n      <th>0</th>\n      <td>Titanic</td>\n      <td>1</td>\n      <td>1</td>\n      <td>0</td>\n      <td>0</td>\n      <td>0</td>\n    </tr>\n    <tr>\n      <th>1</th>\n      <td>Martian</td>\n      <td>0</td>\n      <td>1</td>\n      <td>1</td>\n      <td>0</td>\n      <td>1</td>\n    </tr>\n    <tr>\n      <th>2</th>\n      <td>GOTG Vol 2</td>\n      <td>1</td>\n      <td>1</td>\n      <td>1</td>\n      <td>1</td>\n      <td>0</td>\n    </tr>\n  </tbody>\n</table>\n</div>"
     },
     "metadata": {},
     "execution_count": 57
    }
   ],
   "source": [
    "movies= ['Titanic','Martian','GOTG Vol 2']\n",
    "\n",
    "action=[1,0,1]\n",
    "scifi=[1,1,1]\n",
    "adventure=[0,1,1]\n",
    "comedy=[0,0,1]\n",
    "drama=[0,1,0]\n",
    "\n",
    "df_item_feature_new= pd.DataFrame({\n",
    "    'movies':movies,\n",
    "\n",
    "    'action':action,\n",
    "    'scifi': scifi,\n",
    "    'adventure':adventure,\n",
    "    'comedy':comedy,\n",
    "    'drama':drama\n",
    "})\n",
    "df_item_feature_new"
   ]
  },
  {
   "cell_type": "code",
   "execution_count": 62,
   "metadata": {},
   "outputs": [
    {
     "output_type": "execute_result",
     "data": {
      "text/plain": [
       "movies   Titanic   Martian  GOTG Vol 2\n",
       "user 1  0.428571  0.648352    0.802198\n",
       "user 2  0.560000  0.500000    0.900000\n",
       "user 3  0.473684  0.500000    0.736842\n",
       "user 4  0.179487  0.769231    0.589744"
      ],
      "text/html": "<div>\n<style scoped>\n    .dataframe tbody tr th:only-of-type {\n        vertical-align: middle;\n    }\n\n    .dataframe tbody tr th {\n        vertical-align: top;\n    }\n\n    .dataframe thead th {\n        text-align: right;\n    }\n</style>\n<table border=\"1\" class=\"dataframe\">\n  <thead>\n    <tr style=\"text-align: right;\">\n      <th>movies</th>\n      <th>Titanic</th>\n      <th>Martian</th>\n      <th>GOTG Vol 2</th>\n    </tr>\n  </thead>\n  <tbody>\n    <tr>\n      <th>user 1</th>\n      <td>0.428571</td>\n      <td>0.648352</td>\n      <td>0.802198</td>\n    </tr>\n    <tr>\n      <th>user 2</th>\n      <td>0.560000</td>\n      <td>0.500000</td>\n      <td>0.900000</td>\n    </tr>\n    <tr>\n      <th>user 3</th>\n      <td>0.473684</td>\n      <td>0.500000</td>\n      <td>0.736842</td>\n    </tr>\n    <tr>\n      <th>user 4</th>\n      <td>0.179487</td>\n      <td>0.769231</td>\n      <td>0.589744</td>\n    </tr>\n  </tbody>\n</table>\n</div>"
     },
     "metadata": {},
     "execution_count": 62
    }
   ],
   "source": [
    "arr_item_features_new= np.array(df_item_feature_new.drop('movies',axis=1))\n",
    "n_item_new=df_item_feature_new.shape[0]\n",
    "\n",
    "arr_user_items_score_new= np.empty((n_user,n_item_new))\n",
    "\n",
    "for i in range(n_user):\n",
    "    user_item_score=np.matmul(arr_item_features_new, arr_user_feature[i,:])\n",
    "    arr_user_items_score_new[i,:]= user_item_score\n",
    "\n",
    "df_user_item_score_new= pd.DataFrame(arr_user_items_score_new, columns=df_item_feature_new['movies'], index=user)\n",
    "df_user_item_score_new"
   ]
  },
  {
   "cell_type": "code",
   "execution_count": null,
   "metadata": {},
   "outputs": [],
   "source": [
    "recommendation order:  \n",
    "\n",
    "* user 1: GOTG Vol 2, Martian, Titanic\n",
    "* user 2: GOTG Vol 2, Titanic, Martian\n",
    "* User 3: GOTG Vol 2, Martian, Titanic\n",
    "* User 4: Martian, GOTG Vol 2, Titanic"
   ]
  },
  {
   "source": [
    "## Try with Anime Dataset"
   ],
   "cell_type": "markdown",
   "metadata": {}
  },
  {
   "cell_type": "code",
   "execution_count": 66,
   "metadata": {},
   "outputs": [],
   "source": [
    "import pandas as pd\n",
    "import numpy as np\n",
    "from sklearn.feature_extraction.text import CountVectorizer"
   ]
  },
  {
   "cell_type": "code",
   "execution_count": 70,
   "metadata": {},
   "outputs": [],
   "source": [
    "anime=pd.read_csv('anime.csv',usecols=['anime_id','name','genre'])"
   ]
  },
  {
   "cell_type": "code",
   "execution_count": 71,
   "metadata": {},
   "outputs": [
    {
     "output_type": "execute_result",
     "data": {
      "text/plain": [
       "   anime_id                              name  \\\n",
       "0     32281                    Kimi no Na wa.   \n",
       "1      5114  Fullmetal Alchemist: Brotherhood   \n",
       "2     28977                          Gintama°   \n",
       "3      9253                       Steins;Gate   \n",
       "4      9969                     Gintama&#039;   \n",
       "\n",
       "                                               genre  \n",
       "0               Drama, Romance, School, Supernatural  \n",
       "1  Action, Adventure, Drama, Fantasy, Magic, Mili...  \n",
       "2  Action, Comedy, Historical, Parody, Samurai, S...  \n",
       "3                                   Sci-Fi, Thriller  \n",
       "4  Action, Comedy, Historical, Parody, Samurai, S...  "
      ],
      "text/html": "<div>\n<style scoped>\n    .dataframe tbody tr th:only-of-type {\n        vertical-align: middle;\n    }\n\n    .dataframe tbody tr th {\n        vertical-align: top;\n    }\n\n    .dataframe thead th {\n        text-align: right;\n    }\n</style>\n<table border=\"1\" class=\"dataframe\">\n  <thead>\n    <tr style=\"text-align: right;\">\n      <th></th>\n      <th>anime_id</th>\n      <th>name</th>\n      <th>genre</th>\n    </tr>\n  </thead>\n  <tbody>\n    <tr>\n      <th>0</th>\n      <td>32281</td>\n      <td>Kimi no Na wa.</td>\n      <td>Drama, Romance, School, Supernatural</td>\n    </tr>\n    <tr>\n      <th>1</th>\n      <td>5114</td>\n      <td>Fullmetal Alchemist: Brotherhood</td>\n      <td>Action, Adventure, Drama, Fantasy, Magic, Mili...</td>\n    </tr>\n    <tr>\n      <th>2</th>\n      <td>28977</td>\n      <td>Gintama°</td>\n      <td>Action, Comedy, Historical, Parody, Samurai, S...</td>\n    </tr>\n    <tr>\n      <th>3</th>\n      <td>9253</td>\n      <td>Steins;Gate</td>\n      <td>Sci-Fi, Thriller</td>\n    </tr>\n    <tr>\n      <th>4</th>\n      <td>9969</td>\n      <td>Gintama&amp;#039;</td>\n      <td>Action, Comedy, Historical, Parody, Samurai, S...</td>\n    </tr>\n  </tbody>\n</table>\n</div>"
     },
     "metadata": {},
     "execution_count": 71
    }
   ],
   "source": [
    "anime.head()"
   ]
  },
  {
   "cell_type": "code",
   "execution_count": 74,
   "metadata": {},
   "outputs": [
    {
     "output_type": "execute_result",
     "data": {
      "text/plain": [
       "anime_id    0\n",
       "name        0\n",
       "genre       0\n",
       "dtype: int64"
      ]
     },
     "metadata": {},
     "execution_count": 74
    }
   ],
   "source": [
    "anime.isna().sum()"
   ]
  },
  {
   "cell_type": "code",
   "execution_count": 73,
   "metadata": {},
   "outputs": [],
   "source": [
    "anime=anime.dropna()"
   ]
  },
  {
   "cell_type": "code",
   "execution_count": 75,
   "metadata": {},
   "outputs": [],
   "source": [
    "cvr=CountVectorizer(tokenizer=lambda x:x.split(', '))\n",
    "item_feature=cvr.fit_transform(anime['genre'])"
   ]
  },
  {
   "cell_type": "code",
   "execution_count": 78,
   "metadata": {},
   "outputs": [],
   "source": [
    "item_feature=pd.DataFrame(item_feature.toarray(),columns=cvr.get_feature_names(), index=anime['anime_id'])"
   ]
  },
  {
   "cell_type": "code",
   "execution_count": 101,
   "metadata": {},
   "outputs": [],
   "source": [
    "item_feature=item_feature.reset_index()"
   ]
  },
  {
   "cell_type": "code",
   "execution_count": 79,
   "metadata": {},
   "outputs": [
    {
     "output_type": "execute_result",
     "data": {
      "text/plain": [
       "     user_id  anime_id  rating\n",
       "0          3        20       8\n",
       "1          3       154       6\n",
       "2          3       170       9\n",
       "3          3       199      10\n",
       "4          3       225       9\n",
       "..       ...       ...     ...\n",
       "720       17     33522      -1\n",
       "721       17     33524      -1\n",
       "722       17     33569      -1\n",
       "723       17     33934      -1\n",
       "724       17     34240       8\n",
       "\n",
       "[725 rows x 3 columns]"
      ],
      "text/html": "<div>\n<style scoped>\n    .dataframe tbody tr th:only-of-type {\n        vertical-align: middle;\n    }\n\n    .dataframe tbody tr th {\n        vertical-align: top;\n    }\n\n    .dataframe thead th {\n        text-align: right;\n    }\n</style>\n<table border=\"1\" class=\"dataframe\">\n  <thead>\n    <tr style=\"text-align: right;\">\n      <th></th>\n      <th>user_id</th>\n      <th>anime_id</th>\n      <th>rating</th>\n    </tr>\n  </thead>\n  <tbody>\n    <tr>\n      <th>0</th>\n      <td>3</td>\n      <td>20</td>\n      <td>8</td>\n    </tr>\n    <tr>\n      <th>1</th>\n      <td>3</td>\n      <td>154</td>\n      <td>6</td>\n    </tr>\n    <tr>\n      <th>2</th>\n      <td>3</td>\n      <td>170</td>\n      <td>9</td>\n    </tr>\n    <tr>\n      <th>3</th>\n      <td>3</td>\n      <td>199</td>\n      <td>10</td>\n    </tr>\n    <tr>\n      <th>4</th>\n      <td>3</td>\n      <td>225</td>\n      <td>9</td>\n    </tr>\n    <tr>\n      <th>...</th>\n      <td>...</td>\n      <td>...</td>\n      <td>...</td>\n    </tr>\n    <tr>\n      <th>720</th>\n      <td>17</td>\n      <td>33522</td>\n      <td>-1</td>\n    </tr>\n    <tr>\n      <th>721</th>\n      <td>17</td>\n      <td>33524</td>\n      <td>-1</td>\n    </tr>\n    <tr>\n      <th>722</th>\n      <td>17</td>\n      <td>33569</td>\n      <td>-1</td>\n    </tr>\n    <tr>\n      <th>723</th>\n      <td>17</td>\n      <td>33934</td>\n      <td>-1</td>\n    </tr>\n    <tr>\n      <th>724</th>\n      <td>17</td>\n      <td>34240</td>\n      <td>8</td>\n    </tr>\n  </tbody>\n</table>\n<p>725 rows × 3 columns</p>\n</div>"
     },
     "metadata": {},
     "execution_count": 79
    }
   ],
   "source": [
    "rating= pd.read_csv('rating2.csv')\n",
    "rating"
   ]
  },
  {
   "cell_type": "code",
   "execution_count": 80,
   "metadata": {},
   "outputs": [
    {
     "output_type": "execute_result",
     "data": {
      "text/plain": [
       "17    601\n",
       "3      94\n",
       "12     22\n",
       "10      8\n",
       "Name: user_id, dtype: int64"
      ]
     },
     "metadata": {},
     "execution_count": 80
    }
   ],
   "source": [
    "rating['user_id'].value_counts()"
   ]
  },
  {
   "cell_type": "code",
   "execution_count": 81,
   "metadata": {},
   "outputs": [],
   "source": [
    "rating['rating']=rating['rating'].replace(-1,np.nan)"
   ]
  },
  {
   "cell_type": "code",
   "execution_count": 83,
   "metadata": {},
   "outputs": [],
   "source": [
    "rating=rating.dropna()"
   ]
  },
  {
   "cell_type": "code",
   "execution_count": 84,
   "metadata": {},
   "outputs": [
    {
     "output_type": "execute_result",
     "data": {
      "text/plain": [
       "(524, 3)"
      ]
     },
     "metadata": {},
     "execution_count": 84
    }
   ],
   "source": [
    "rating.shape"
   ]
  },
  {
   "cell_type": "code",
   "execution_count": 89,
   "metadata": {},
   "outputs": [],
   "source": [
    "user_item=rating.pivot(values='rating', columns='anime_id', index='user_id')\n"
   ]
  },
  {
   "cell_type": "code",
   "execution_count": 115,
   "metadata": {},
   "outputs": [
    {
     "output_type": "execute_result",
     "data": {
      "text/plain": [
       "anime_id  6      19     20     30     32     43     47     66     114    \\\n",
       "user_id                                                                   \n",
       "3           0.0    0.0    8.0    0.0    0.0    0.0    0.0    0.0    0.0   \n",
       "10          0.0    0.0    0.0    0.0    0.0    0.0    0.0    0.0    0.0   \n",
       "12          0.0    0.0    0.0    0.0    0.0    0.0    0.0    0.0    0.0   \n",
       "17          7.0   10.0    0.0    9.0   10.0    8.0    8.0    6.0    7.0   \n",
       "\n",
       "anime_id  121    ...  32282  32438  32542  32681  32729  32828  32935  32998  \\\n",
       "user_id          ...                                                           \n",
       "3           0.0  ...    0.0    0.0    0.0    0.0    0.0    0.0    0.0    0.0   \n",
       "10          0.0  ...    0.0    0.0    0.0    0.0    0.0    0.0    0.0    0.0   \n",
       "12          0.0  ...    0.0    0.0    0.0    0.0    0.0    0.0    0.0    0.0   \n",
       "17          6.0  ...    8.0    3.0    7.0    8.0    5.0    7.0    9.0    8.0   \n",
       "\n",
       "anime_id  33091  34240  \n",
       "user_id                 \n",
       "3           0.0    0.0  \n",
       "10          0.0    0.0  \n",
       "12          0.0    0.0  \n",
       "17          8.0    8.0  \n",
       "\n",
       "[4 rows x 468 columns]"
      ],
      "text/html": "<div>\n<style scoped>\n    .dataframe tbody tr th:only-of-type {\n        vertical-align: middle;\n    }\n\n    .dataframe tbody tr th {\n        vertical-align: top;\n    }\n\n    .dataframe thead th {\n        text-align: right;\n    }\n</style>\n<table border=\"1\" class=\"dataframe\">\n  <thead>\n    <tr style=\"text-align: right;\">\n      <th>anime_id</th>\n      <th>6</th>\n      <th>19</th>\n      <th>20</th>\n      <th>30</th>\n      <th>32</th>\n      <th>43</th>\n      <th>47</th>\n      <th>66</th>\n      <th>114</th>\n      <th>121</th>\n      <th>...</th>\n      <th>32282</th>\n      <th>32438</th>\n      <th>32542</th>\n      <th>32681</th>\n      <th>32729</th>\n      <th>32828</th>\n      <th>32935</th>\n      <th>32998</th>\n      <th>33091</th>\n      <th>34240</th>\n    </tr>\n    <tr>\n      <th>user_id</th>\n      <th></th>\n      <th></th>\n      <th></th>\n      <th></th>\n      <th></th>\n      <th></th>\n      <th></th>\n      <th></th>\n      <th></th>\n      <th></th>\n      <th></th>\n      <th></th>\n      <th></th>\n      <th></th>\n      <th></th>\n      <th></th>\n      <th></th>\n      <th></th>\n      <th></th>\n      <th></th>\n      <th></th>\n    </tr>\n  </thead>\n  <tbody>\n    <tr>\n      <th>3</th>\n      <td>0.0</td>\n      <td>0.0</td>\n      <td>8.0</td>\n      <td>0.0</td>\n      <td>0.0</td>\n      <td>0.0</td>\n      <td>0.0</td>\n      <td>0.0</td>\n      <td>0.0</td>\n      <td>0.0</td>\n      <td>...</td>\n      <td>0.0</td>\n      <td>0.0</td>\n      <td>0.0</td>\n      <td>0.0</td>\n      <td>0.0</td>\n      <td>0.0</td>\n      <td>0.0</td>\n      <td>0.0</td>\n      <td>0.0</td>\n      <td>0.0</td>\n    </tr>\n    <tr>\n      <th>10</th>\n      <td>0.0</td>\n      <td>0.0</td>\n      <td>0.0</td>\n      <td>0.0</td>\n      <td>0.0</td>\n      <td>0.0</td>\n      <td>0.0</td>\n      <td>0.0</td>\n      <td>0.0</td>\n      <td>0.0</td>\n      <td>...</td>\n      <td>0.0</td>\n      <td>0.0</td>\n      <td>0.0</td>\n      <td>0.0</td>\n      <td>0.0</td>\n      <td>0.0</td>\n      <td>0.0</td>\n      <td>0.0</td>\n      <td>0.0</td>\n      <td>0.0</td>\n    </tr>\n    <tr>\n      <th>12</th>\n      <td>0.0</td>\n      <td>0.0</td>\n      <td>0.0</td>\n      <td>0.0</td>\n      <td>0.0</td>\n      <td>0.0</td>\n      <td>0.0</td>\n      <td>0.0</td>\n      <td>0.0</td>\n      <td>0.0</td>\n      <td>...</td>\n      <td>0.0</td>\n      <td>0.0</td>\n      <td>0.0</td>\n      <td>0.0</td>\n      <td>0.0</td>\n      <td>0.0</td>\n      <td>0.0</td>\n      <td>0.0</td>\n      <td>0.0</td>\n      <td>0.0</td>\n    </tr>\n    <tr>\n      <th>17</th>\n      <td>7.0</td>\n      <td>10.0</td>\n      <td>0.0</td>\n      <td>9.0</td>\n      <td>10.0</td>\n      <td>8.0</td>\n      <td>8.0</td>\n      <td>6.0</td>\n      <td>7.0</td>\n      <td>6.0</td>\n      <td>...</td>\n      <td>8.0</td>\n      <td>3.0</td>\n      <td>7.0</td>\n      <td>8.0</td>\n      <td>5.0</td>\n      <td>7.0</td>\n      <td>9.0</td>\n      <td>8.0</td>\n      <td>8.0</td>\n      <td>8.0</td>\n    </tr>\n  </tbody>\n</table>\n<p>4 rows × 468 columns</p>\n</div>"
     },
     "metadata": {},
     "execution_count": 115
    }
   ],
   "source": [
    "user_item=user_item.replace(np.nan,0)\n",
    "user_item"
   ]
  },
  {
   "cell_type": "code",
   "execution_count": 93,
   "metadata": {},
   "outputs": [
    {
     "output_type": "execute_result",
     "data": {
      "text/plain": [
       "Int64Index([    6,    19,    20,    30,    32,    43,    47,    66,   114,\n",
       "              121,\n",
       "            ...\n",
       "            32282, 32438, 32542, 32681, 32729, 32828, 32935, 32998, 33091,\n",
       "            34240],\n",
       "           dtype='int64', name='anime_id', length=468)"
      ]
     },
     "metadata": {},
     "execution_count": 93
    }
   ],
   "source": [
    "user_item.columns"
   ]
  },
  {
   "cell_type": "code",
   "execution_count": 106,
   "metadata": {},
   "outputs": [],
   "source": [
    "item_feature2=item_feature[item_feature['anime_id'].isin(user_item.columns)].sort_values('anime_id')"
   ]
  },
  {
   "cell_type": "code",
   "execution_count": 117,
   "metadata": {},
   "outputs": [],
   "source": [
    "# mencari user feature matrix\n",
    "\n",
    "arr_user_items= np.array(user_item)\n",
    "arr_item_features=np.array(item_feature2.drop('anime_id',axis=1))\n",
    "\n",
    "n_user= arr_user_items.shape[0]\n",
    "n_item= arr_user_items.shape[1]\n",
    "n_feature= arr_item_features.shape[1]\n",
    "\n",
    "arr_user_items_score=np.empty((n_user,n_item))\n",
    "arr_user_feature= np.empty((n_user,n_feature))\n",
    "\n",
    "for i in range(n_user):\n",
    "    # print(arr_user_items[i,:])\n",
    "    user_feature= np.matmul(arr_user_items[i,:], arr_item_features) \n",
    "    # print(user_feature)\n",
    "    user_feature=user_feature/user_feature.sum()\n",
    "    arr_user_feature[i,:]=user_feature"
   ]
  },
  {
   "cell_type": "code",
   "execution_count": 121,
   "metadata": {},
   "outputs": [
    {
     "output_type": "execute_result",
     "data": {
      "text/plain": [
       "           action  adventure      cars    comedy  dementia    demons  \\\n",
       "user_id                                                                \n",
       "3        0.133255   0.104363  0.000000  0.085790  0.000000  0.007665   \n",
       "10       0.175000   0.175000  0.000000  0.000000  0.000000  0.000000   \n",
       "12       0.127329   0.061077  0.000000  0.077640  0.000000  0.009317   \n",
       "17       0.089795   0.031120  0.000695  0.112917  0.003738  0.007041   \n",
       "\n",
       "            drama     ecchi   fantasy      game  ...  shounen ai  \\\n",
       "user_id                                          ...               \n",
       "3        0.068101  0.011498  0.116156  0.016509  ...         0.0   \n",
       "10       0.062500  0.000000  0.175000  0.112500  ...         0.0   \n",
       "12       0.048654  0.006211  0.071429  0.009317  ...         0.0   \n",
       "17       0.064412  0.019211  0.046071  0.008084  ...         0.0   \n",
       "\n",
       "         slice of life     space    sports  super power  supernatural  \\\n",
       "user_id                                                                 \n",
       "3             0.011498  0.000000  0.025354     0.020637      0.053656   \n",
       "10            0.000000  0.000000  0.000000     0.000000      0.000000   \n",
       "12            0.009317  0.000000  0.000000     0.092133      0.016563   \n",
       "17            0.047983  0.005824  0.011648     0.011996      0.064760   \n",
       "\n",
       "         thriller   vampire  yaoi  yuri  \n",
       "user_id                                  \n",
       "3        0.009434  0.001769   0.0   0.0  \n",
       "10       0.000000  0.000000   0.0   0.0  \n",
       "12       0.020704  0.000000   0.0   0.0  \n",
       "17       0.022427  0.006259   0.0   0.0  \n",
       "\n",
       "[4 rows x 43 columns]"
      ],
      "text/html": "<div>\n<style scoped>\n    .dataframe tbody tr th:only-of-type {\n        vertical-align: middle;\n    }\n\n    .dataframe tbody tr th {\n        vertical-align: top;\n    }\n\n    .dataframe thead th {\n        text-align: right;\n    }\n</style>\n<table border=\"1\" class=\"dataframe\">\n  <thead>\n    <tr style=\"text-align: right;\">\n      <th></th>\n      <th>action</th>\n      <th>adventure</th>\n      <th>cars</th>\n      <th>comedy</th>\n      <th>dementia</th>\n      <th>demons</th>\n      <th>drama</th>\n      <th>ecchi</th>\n      <th>fantasy</th>\n      <th>game</th>\n      <th>...</th>\n      <th>shounen ai</th>\n      <th>slice of life</th>\n      <th>space</th>\n      <th>sports</th>\n      <th>super power</th>\n      <th>supernatural</th>\n      <th>thriller</th>\n      <th>vampire</th>\n      <th>yaoi</th>\n      <th>yuri</th>\n    </tr>\n    <tr>\n      <th>user_id</th>\n      <th></th>\n      <th></th>\n      <th></th>\n      <th></th>\n      <th></th>\n      <th></th>\n      <th></th>\n      <th></th>\n      <th></th>\n      <th></th>\n      <th></th>\n      <th></th>\n      <th></th>\n      <th></th>\n      <th></th>\n      <th></th>\n      <th></th>\n      <th></th>\n      <th></th>\n      <th></th>\n      <th></th>\n    </tr>\n  </thead>\n  <tbody>\n    <tr>\n      <th>3</th>\n      <td>0.133255</td>\n      <td>0.104363</td>\n      <td>0.000000</td>\n      <td>0.085790</td>\n      <td>0.000000</td>\n      <td>0.007665</td>\n      <td>0.068101</td>\n      <td>0.011498</td>\n      <td>0.116156</td>\n      <td>0.016509</td>\n      <td>...</td>\n      <td>0.0</td>\n      <td>0.011498</td>\n      <td>0.000000</td>\n      <td>0.025354</td>\n      <td>0.020637</td>\n      <td>0.053656</td>\n      <td>0.009434</td>\n      <td>0.001769</td>\n      <td>0.0</td>\n      <td>0.0</td>\n    </tr>\n    <tr>\n      <th>10</th>\n      <td>0.175000</td>\n      <td>0.175000</td>\n      <td>0.000000</td>\n      <td>0.000000</td>\n      <td>0.000000</td>\n      <td>0.000000</td>\n      <td>0.062500</td>\n      <td>0.000000</td>\n      <td>0.175000</td>\n      <td>0.112500</td>\n      <td>...</td>\n      <td>0.0</td>\n      <td>0.000000</td>\n      <td>0.000000</td>\n      <td>0.000000</td>\n      <td>0.000000</td>\n      <td>0.000000</td>\n      <td>0.000000</td>\n      <td>0.000000</td>\n      <td>0.0</td>\n      <td>0.0</td>\n    </tr>\n    <tr>\n      <th>12</th>\n      <td>0.127329</td>\n      <td>0.061077</td>\n      <td>0.000000</td>\n      <td>0.077640</td>\n      <td>0.000000</td>\n      <td>0.009317</td>\n      <td>0.048654</td>\n      <td>0.006211</td>\n      <td>0.071429</td>\n      <td>0.009317</td>\n      <td>...</td>\n      <td>0.0</td>\n      <td>0.009317</td>\n      <td>0.000000</td>\n      <td>0.000000</td>\n      <td>0.092133</td>\n      <td>0.016563</td>\n      <td>0.020704</td>\n      <td>0.000000</td>\n      <td>0.0</td>\n      <td>0.0</td>\n    </tr>\n    <tr>\n      <th>17</th>\n      <td>0.089795</td>\n      <td>0.031120</td>\n      <td>0.000695</td>\n      <td>0.112917</td>\n      <td>0.003738</td>\n      <td>0.007041</td>\n      <td>0.064412</td>\n      <td>0.019211</td>\n      <td>0.046071</td>\n      <td>0.008084</td>\n      <td>...</td>\n      <td>0.0</td>\n      <td>0.047983</td>\n      <td>0.005824</td>\n      <td>0.011648</td>\n      <td>0.011996</td>\n      <td>0.064760</td>\n      <td>0.022427</td>\n      <td>0.006259</td>\n      <td>0.0</td>\n      <td>0.0</td>\n    </tr>\n  </tbody>\n</table>\n<p>4 rows × 43 columns</p>\n</div>"
     },
     "metadata": {},
     "execution_count": 121
    }
   ],
   "source": [
    "df_user_feature=pd.DataFrame(arr_user_feature, columns=item_feature2.columns[1:], index= user_item.index)\n",
    "df_user_feature"
   ]
  },
  {
   "cell_type": "code",
   "execution_count": 124,
   "metadata": {},
   "outputs": [],
   "source": [
    "# with watched anime"
   ]
  },
  {
   "cell_type": "code",
   "execution_count": 125,
   "metadata": {},
   "outputs": [
    {
     "output_type": "execute_result",
     "data": {
      "text/plain": [
       "anime_id     6         19        20        30        32        43     \\\n",
       "user_id                                                                \n",
       "3         0.237913  0.150943  0.000000  0.245283  0.112028  0.189564   \n",
       "10        0.175000  0.062500  0.237500  0.237500  0.062500  0.175000   \n",
       "12        0.296066  0.134576  0.395445  0.307453  0.180124  0.269151   \n",
       "17        0.000000  0.000000  0.260518  0.000000  0.000000  0.000000   \n",
       "\n",
       "anime_id     47        66        114       121    ...     32282     32438  \\\n",
       "user_id                                           ...                       \n",
       "3         0.334906  0.127358  0.212559  0.645047  ...  0.138267  0.129127   \n",
       "10        0.412500  0.000000  0.062500  0.775000  ...  0.062500  0.062500   \n",
       "12        0.341615  0.115942  0.168737  0.503106  ...  0.097308  0.103520   \n",
       "17        0.000000  0.000000  0.000000  0.000000  ...  0.000000  0.000000   \n",
       "\n",
       "anime_id     32542     32681     32729     32828     32935     32998  \\\n",
       "user_id                                                                \n",
       "3         0.125295  0.323408  0.139151  0.106722  0.306014  0.203420   \n",
       "10        0.000000  0.350000  0.175000  0.000000  0.125000  0.237500   \n",
       "12        0.106625  0.266046  0.224638  0.086957  0.217391  0.175983   \n",
       "17        0.000000  0.000000  0.000000  0.000000  0.000000  0.000000   \n",
       "\n",
       "anime_id     33091     34240  \n",
       "user_id                       \n",
       "3         0.086969  0.018868  \n",
       "10        0.062500  0.000000  \n",
       "12        0.139752  0.100414  \n",
       "17        0.000000  0.000000  \n",
       "\n",
       "[4 rows x 468 columns]"
      ],
      "text/html": "<div>\n<style scoped>\n    .dataframe tbody tr th:only-of-type {\n        vertical-align: middle;\n    }\n\n    .dataframe tbody tr th {\n        vertical-align: top;\n    }\n\n    .dataframe thead th {\n        text-align: right;\n    }\n</style>\n<table border=\"1\" class=\"dataframe\">\n  <thead>\n    <tr style=\"text-align: right;\">\n      <th>anime_id</th>\n      <th>6</th>\n      <th>19</th>\n      <th>20</th>\n      <th>30</th>\n      <th>32</th>\n      <th>43</th>\n      <th>47</th>\n      <th>66</th>\n      <th>114</th>\n      <th>121</th>\n      <th>...</th>\n      <th>32282</th>\n      <th>32438</th>\n      <th>32542</th>\n      <th>32681</th>\n      <th>32729</th>\n      <th>32828</th>\n      <th>32935</th>\n      <th>32998</th>\n      <th>33091</th>\n      <th>34240</th>\n    </tr>\n    <tr>\n      <th>user_id</th>\n      <th></th>\n      <th></th>\n      <th></th>\n      <th></th>\n      <th></th>\n      <th></th>\n      <th></th>\n      <th></th>\n      <th></th>\n      <th></th>\n      <th></th>\n      <th></th>\n      <th></th>\n      <th></th>\n      <th></th>\n      <th></th>\n      <th></th>\n      <th></th>\n      <th></th>\n      <th></th>\n      <th></th>\n    </tr>\n  </thead>\n  <tbody>\n    <tr>\n      <th>3</th>\n      <td>0.237913</td>\n      <td>0.150943</td>\n      <td>0.000000</td>\n      <td>0.245283</td>\n      <td>0.112028</td>\n      <td>0.189564</td>\n      <td>0.334906</td>\n      <td>0.127358</td>\n      <td>0.212559</td>\n      <td>0.645047</td>\n      <td>...</td>\n      <td>0.138267</td>\n      <td>0.129127</td>\n      <td>0.125295</td>\n      <td>0.323408</td>\n      <td>0.139151</td>\n      <td>0.106722</td>\n      <td>0.306014</td>\n      <td>0.203420</td>\n      <td>0.086969</td>\n      <td>0.018868</td>\n    </tr>\n    <tr>\n      <th>10</th>\n      <td>0.175000</td>\n      <td>0.062500</td>\n      <td>0.237500</td>\n      <td>0.237500</td>\n      <td>0.062500</td>\n      <td>0.175000</td>\n      <td>0.412500</td>\n      <td>0.000000</td>\n      <td>0.062500</td>\n      <td>0.775000</td>\n      <td>...</td>\n      <td>0.062500</td>\n      <td>0.062500</td>\n      <td>0.000000</td>\n      <td>0.350000</td>\n      <td>0.175000</td>\n      <td>0.000000</td>\n      <td>0.125000</td>\n      <td>0.237500</td>\n      <td>0.062500</td>\n      <td>0.000000</td>\n    </tr>\n    <tr>\n      <th>12</th>\n      <td>0.296066</td>\n      <td>0.134576</td>\n      <td>0.395445</td>\n      <td>0.307453</td>\n      <td>0.180124</td>\n      <td>0.269151</td>\n      <td>0.341615</td>\n      <td>0.115942</td>\n      <td>0.168737</td>\n      <td>0.503106</td>\n      <td>...</td>\n      <td>0.097308</td>\n      <td>0.103520</td>\n      <td>0.106625</td>\n      <td>0.266046</td>\n      <td>0.224638</td>\n      <td>0.086957</td>\n      <td>0.217391</td>\n      <td>0.175983</td>\n      <td>0.139752</td>\n      <td>0.100414</td>\n    </tr>\n    <tr>\n      <th>17</th>\n      <td>0.000000</td>\n      <td>0.000000</td>\n      <td>0.260518</td>\n      <td>0.000000</td>\n      <td>0.000000</td>\n      <td>0.000000</td>\n      <td>0.000000</td>\n      <td>0.000000</td>\n      <td>0.000000</td>\n      <td>0.000000</td>\n      <td>...</td>\n      <td>0.000000</td>\n      <td>0.000000</td>\n      <td>0.000000</td>\n      <td>0.000000</td>\n      <td>0.000000</td>\n      <td>0.000000</td>\n      <td>0.000000</td>\n      <td>0.000000</td>\n      <td>0.000000</td>\n      <td>0.000000</td>\n    </tr>\n  </tbody>\n</table>\n<p>4 rows × 468 columns</p>\n</div>"
     },
     "metadata": {},
     "execution_count": 125
    }
   ],
   "source": [
    "for i in range(n_user):\n",
    "    user_item_score = np.matmul(arr_item_features,arr_user_feature[i,:])\n",
    "    arr_user_items_score[i,:]= user_item_score\n",
    "\n",
    "arr_user_items_score_unwatched=np.where(arr_user_items==0, arr_user_items_score,0)\n",
    "\n",
    "df_user_item_score_unwatched= pd.DataFrame(arr_user_items_score_unwatched, columns=user_item.columns, index=user_item.index)\n",
    "df_user_item_score_unwatched"
   ]
  },
  {
   "cell_type": "code",
   "execution_count": 129,
   "metadata": {},
   "outputs": [
    {
     "output_type": "execute_result",
     "data": {
      "text/plain": [
       "anime_id\n",
       "121      0.645047\n",
       "6033     0.563974\n",
       "24231    0.556309\n",
       "20853    0.556309\n",
       "28249    0.520637\n",
       "Name: 3, dtype: float64"
      ]
     },
     "metadata": {},
     "execution_count": 129
    }
   ],
   "source": [
    "df_user_item_score_unwatched.T[3].sort_values(ascending=False)[:5]"
   ]
  },
  {
   "cell_type": "code",
   "execution_count": 136,
   "metadata": {},
   "outputs": [
    {
     "output_type": "execute_result",
     "data": {
      "text/plain": [
       "      anime_id                                name\n",
       "200        121                 Fullmetal Alchemist\n",
       "588       6033                     Dragon Ball Kai\n",
       "705      28249                   Arslan Senki (TV)\n",
       "1667     20853                   Hitsugi no Chaika\n",
       "2187     24231  Hitsugi no Chaika: Avenging Battle"
      ],
      "text/html": "<div>\n<style scoped>\n    .dataframe tbody tr th:only-of-type {\n        vertical-align: middle;\n    }\n\n    .dataframe tbody tr th {\n        vertical-align: top;\n    }\n\n    .dataframe thead th {\n        text-align: right;\n    }\n</style>\n<table border=\"1\" class=\"dataframe\">\n  <thead>\n    <tr style=\"text-align: right;\">\n      <th></th>\n      <th>anime_id</th>\n      <th>name</th>\n    </tr>\n  </thead>\n  <tbody>\n    <tr>\n      <th>200</th>\n      <td>121</td>\n      <td>Fullmetal Alchemist</td>\n    </tr>\n    <tr>\n      <th>588</th>\n      <td>6033</td>\n      <td>Dragon Ball Kai</td>\n    </tr>\n    <tr>\n      <th>705</th>\n      <td>28249</td>\n      <td>Arslan Senki (TV)</td>\n    </tr>\n    <tr>\n      <th>1667</th>\n      <td>20853</td>\n      <td>Hitsugi no Chaika</td>\n    </tr>\n    <tr>\n      <th>2187</th>\n      <td>24231</td>\n      <td>Hitsugi no Chaika: Avenging Battle</td>\n    </tr>\n  </tbody>\n</table>\n</div>"
     },
     "metadata": {},
     "execution_count": 136
    }
   ],
   "source": [
    "anime[anime['anime_id'].isin(df_user_item_score_unwatched.T[3].sort_values(ascending=False)[:5].index)][['anime_id','name']]"
   ]
  },
  {
   "cell_type": "code",
   "execution_count": 137,
   "metadata": {},
   "outputs": [
    {
     "output_type": "execute_result",
     "data": {
      "text/plain": [
       "      anime_id                                           name\n",
       "200        121                            Fullmetal Alchemist\n",
       "374      17265                                    Log Horizon\n",
       "1142     23321                         Log Horizon 2nd Season\n",
       "1558      9135  Fullmetal Alchemist: The Sacred Star of Milos\n",
       "3392     20021                Sword Art Online: Extra Edition"
      ],
      "text/html": "<div>\n<style scoped>\n    .dataframe tbody tr th:only-of-type {\n        vertical-align: middle;\n    }\n\n    .dataframe tbody tr th {\n        vertical-align: top;\n    }\n\n    .dataframe thead th {\n        text-align: right;\n    }\n</style>\n<table border=\"1\" class=\"dataframe\">\n  <thead>\n    <tr style=\"text-align: right;\">\n      <th></th>\n      <th>anime_id</th>\n      <th>name</th>\n    </tr>\n  </thead>\n  <tbody>\n    <tr>\n      <th>200</th>\n      <td>121</td>\n      <td>Fullmetal Alchemist</td>\n    </tr>\n    <tr>\n      <th>374</th>\n      <td>17265</td>\n      <td>Log Horizon</td>\n    </tr>\n    <tr>\n      <th>1142</th>\n      <td>23321</td>\n      <td>Log Horizon 2nd Season</td>\n    </tr>\n    <tr>\n      <th>1558</th>\n      <td>9135</td>\n      <td>Fullmetal Alchemist: The Sacred Star of Milos</td>\n    </tr>\n    <tr>\n      <th>3392</th>\n      <td>20021</td>\n      <td>Sword Art Online: Extra Edition</td>\n    </tr>\n  </tbody>\n</table>\n</div>"
     },
     "metadata": {},
     "execution_count": 137
    }
   ],
   "source": [
    "anime[anime['anime_id'].isin(df_user_item_score_unwatched.T[10].sort_values(ascending=False)[:5].index)][['anime_id','name']]"
   ]
  },
  {
   "cell_type": "code",
   "execution_count": 138,
   "metadata": {},
   "outputs": [],
   "source": [
    "# from unwatched anime"
   ]
  },
  {
   "cell_type": "code",
   "execution_count": 144,
   "metadata": {},
   "outputs": [
    {
     "output_type": "execute_result",
     "data": {
      "text/plain": [
       "       anime_id  action  adventure  cars  comedy  dementia  demons  drama  \\\n",
       "0         32281       0          0     0       0         0       0      1   \n",
       "2         28977       1          0     0       1         0       0      0   \n",
       "4          9969       1          0     0       1         0       0      0   \n",
       "6         11061       1          1     0       0         0       0      0   \n",
       "7           820       0          0     0       0         0       0      1   \n",
       "...         ...     ...        ...   ...     ...       ...     ...    ...   \n",
       "12227      9316       0          0     0       0         0       0      0   \n",
       "12228      5543       0          0     0       0         0       0      0   \n",
       "12229      5621       0          0     0       0         0       0      0   \n",
       "12230      6133       0          0     0       0         0       0      0   \n",
       "12231     26081       0          0     0       0         0       0      0   \n",
       "\n",
       "       ecchi  fantasy  ...  shounen ai  slice of life  space  sports  \\\n",
       "0          0        0  ...           0              0      0       0   \n",
       "2          0        0  ...           0              0      0       0   \n",
       "4          0        0  ...           0              0      0       0   \n",
       "6          0        0  ...           0              0      0       0   \n",
       "7          0        0  ...           0              0      1       0   \n",
       "...      ...      ...  ...         ...            ...    ...     ...   \n",
       "12227      0        0  ...           0              0      0       0   \n",
       "12228      0        0  ...           0              0      0       0   \n",
       "12229      0        0  ...           0              0      0       0   \n",
       "12230      0        0  ...           0              0      0       0   \n",
       "12231      0        0  ...           0              0      0       0   \n",
       "\n",
       "       super power  supernatural  thriller  vampire  yaoi  yuri  \n",
       "0                0             1         0        0     0     0  \n",
       "2                0             0         0        0     0     0  \n",
       "4                0             0         0        0     0     0  \n",
       "6                1             0         0        0     0     0  \n",
       "7                0             0         0        0     0     0  \n",
       "...            ...           ...       ...      ...   ...   ...  \n",
       "12227            0             0         0        0     0     0  \n",
       "12228            0             0         0        0     0     0  \n",
       "12229            0             0         0        0     0     0  \n",
       "12230            0             0         0        0     0     0  \n",
       "12231            0             0         0        0     0     0  \n",
       "\n",
       "[11764 rows x 44 columns]"
      ],
      "text/html": "<div>\n<style scoped>\n    .dataframe tbody tr th:only-of-type {\n        vertical-align: middle;\n    }\n\n    .dataframe tbody tr th {\n        vertical-align: top;\n    }\n\n    .dataframe thead th {\n        text-align: right;\n    }\n</style>\n<table border=\"1\" class=\"dataframe\">\n  <thead>\n    <tr style=\"text-align: right;\">\n      <th></th>\n      <th>anime_id</th>\n      <th>action</th>\n      <th>adventure</th>\n      <th>cars</th>\n      <th>comedy</th>\n      <th>dementia</th>\n      <th>demons</th>\n      <th>drama</th>\n      <th>ecchi</th>\n      <th>fantasy</th>\n      <th>...</th>\n      <th>shounen ai</th>\n      <th>slice of life</th>\n      <th>space</th>\n      <th>sports</th>\n      <th>super power</th>\n      <th>supernatural</th>\n      <th>thriller</th>\n      <th>vampire</th>\n      <th>yaoi</th>\n      <th>yuri</th>\n    </tr>\n  </thead>\n  <tbody>\n    <tr>\n      <th>0</th>\n      <td>32281</td>\n      <td>0</td>\n      <td>0</td>\n      <td>0</td>\n      <td>0</td>\n      <td>0</td>\n      <td>0</td>\n      <td>1</td>\n      <td>0</td>\n      <td>0</td>\n      <td>...</td>\n      <td>0</td>\n      <td>0</td>\n      <td>0</td>\n      <td>0</td>\n      <td>0</td>\n      <td>1</td>\n      <td>0</td>\n      <td>0</td>\n      <td>0</td>\n      <td>0</td>\n    </tr>\n    <tr>\n      <th>2</th>\n      <td>28977</td>\n      <td>1</td>\n      <td>0</td>\n      <td>0</td>\n      <td>1</td>\n      <td>0</td>\n      <td>0</td>\n      <td>0</td>\n      <td>0</td>\n      <td>0</td>\n      <td>...</td>\n      <td>0</td>\n      <td>0</td>\n      <td>0</td>\n      <td>0</td>\n      <td>0</td>\n      <td>0</td>\n      <td>0</td>\n      <td>0</td>\n      <td>0</td>\n      <td>0</td>\n    </tr>\n    <tr>\n      <th>4</th>\n      <td>9969</td>\n      <td>1</td>\n      <td>0</td>\n      <td>0</td>\n      <td>1</td>\n      <td>0</td>\n      <td>0</td>\n      <td>0</td>\n      <td>0</td>\n      <td>0</td>\n      <td>...</td>\n      <td>0</td>\n      <td>0</td>\n      <td>0</td>\n      <td>0</td>\n      <td>0</td>\n      <td>0</td>\n      <td>0</td>\n      <td>0</td>\n      <td>0</td>\n      <td>0</td>\n    </tr>\n    <tr>\n      <th>6</th>\n      <td>11061</td>\n      <td>1</td>\n      <td>1</td>\n      <td>0</td>\n      <td>0</td>\n      <td>0</td>\n      <td>0</td>\n      <td>0</td>\n      <td>0</td>\n      <td>0</td>\n      <td>...</td>\n      <td>0</td>\n      <td>0</td>\n      <td>0</td>\n      <td>0</td>\n      <td>1</td>\n      <td>0</td>\n      <td>0</td>\n      <td>0</td>\n      <td>0</td>\n      <td>0</td>\n    </tr>\n    <tr>\n      <th>7</th>\n      <td>820</td>\n      <td>0</td>\n      <td>0</td>\n      <td>0</td>\n      <td>0</td>\n      <td>0</td>\n      <td>0</td>\n      <td>1</td>\n      <td>0</td>\n      <td>0</td>\n      <td>...</td>\n      <td>0</td>\n      <td>0</td>\n      <td>1</td>\n      <td>0</td>\n      <td>0</td>\n      <td>0</td>\n      <td>0</td>\n      <td>0</td>\n      <td>0</td>\n      <td>0</td>\n    </tr>\n    <tr>\n      <th>...</th>\n      <td>...</td>\n      <td>...</td>\n      <td>...</td>\n      <td>...</td>\n      <td>...</td>\n      <td>...</td>\n      <td>...</td>\n      <td>...</td>\n      <td>...</td>\n      <td>...</td>\n      <td>...</td>\n      <td>...</td>\n      <td>...</td>\n      <td>...</td>\n      <td>...</td>\n      <td>...</td>\n      <td>...</td>\n      <td>...</td>\n      <td>...</td>\n      <td>...</td>\n      <td>...</td>\n    </tr>\n    <tr>\n      <th>12227</th>\n      <td>9316</td>\n      <td>0</td>\n      <td>0</td>\n      <td>0</td>\n      <td>0</td>\n      <td>0</td>\n      <td>0</td>\n      <td>0</td>\n      <td>0</td>\n      <td>0</td>\n      <td>...</td>\n      <td>0</td>\n      <td>0</td>\n      <td>0</td>\n      <td>0</td>\n      <td>0</td>\n      <td>0</td>\n      <td>0</td>\n      <td>0</td>\n      <td>0</td>\n      <td>0</td>\n    </tr>\n    <tr>\n      <th>12228</th>\n      <td>5543</td>\n      <td>0</td>\n      <td>0</td>\n      <td>0</td>\n      <td>0</td>\n      <td>0</td>\n      <td>0</td>\n      <td>0</td>\n      <td>0</td>\n      <td>0</td>\n      <td>...</td>\n      <td>0</td>\n      <td>0</td>\n      <td>0</td>\n      <td>0</td>\n      <td>0</td>\n      <td>0</td>\n      <td>0</td>\n      <td>0</td>\n      <td>0</td>\n      <td>0</td>\n    </tr>\n    <tr>\n      <th>12229</th>\n      <td>5621</td>\n      <td>0</td>\n      <td>0</td>\n      <td>0</td>\n      <td>0</td>\n      <td>0</td>\n      <td>0</td>\n      <td>0</td>\n      <td>0</td>\n      <td>0</td>\n      <td>...</td>\n      <td>0</td>\n      <td>0</td>\n      <td>0</td>\n      <td>0</td>\n      <td>0</td>\n      <td>0</td>\n      <td>0</td>\n      <td>0</td>\n      <td>0</td>\n      <td>0</td>\n    </tr>\n    <tr>\n      <th>12230</th>\n      <td>6133</td>\n      <td>0</td>\n      <td>0</td>\n      <td>0</td>\n      <td>0</td>\n      <td>0</td>\n      <td>0</td>\n      <td>0</td>\n      <td>0</td>\n      <td>0</td>\n      <td>...</td>\n      <td>0</td>\n      <td>0</td>\n      <td>0</td>\n      <td>0</td>\n      <td>0</td>\n      <td>0</td>\n      <td>0</td>\n      <td>0</td>\n      <td>0</td>\n      <td>0</td>\n    </tr>\n    <tr>\n      <th>12231</th>\n      <td>26081</td>\n      <td>0</td>\n      <td>0</td>\n      <td>0</td>\n      <td>0</td>\n      <td>0</td>\n      <td>0</td>\n      <td>0</td>\n      <td>0</td>\n      <td>0</td>\n      <td>...</td>\n      <td>0</td>\n      <td>0</td>\n      <td>0</td>\n      <td>0</td>\n      <td>0</td>\n      <td>0</td>\n      <td>0</td>\n      <td>0</td>\n      <td>0</td>\n      <td>0</td>\n    </tr>\n  </tbody>\n</table>\n<p>11764 rows × 44 columns</p>\n</div>"
     },
     "metadata": {},
     "execution_count": 144
    }
   ],
   "source": [
    "item_feature3=item_feature[~item_feature['anime_id'].isin(user_item.columns)]\n",
    "item_feature3"
   ]
  },
  {
   "cell_type": "code",
   "execution_count": 147,
   "metadata": {},
   "outputs": [
    {
     "output_type": "execute_result",
     "data": {
      "text/plain": [
       "anime_id     32281     28977     9969      11061     820       15335  \\\n",
       "user_id                                                                \n",
       "3         0.171875  0.338443  0.338443  0.354953  0.096403  0.338443   \n",
       "10        0.175000  0.237500  0.237500  0.412500  0.125000  0.237500   \n",
       "12        0.122153  0.365424  0.365424  0.342650  0.179089  0.365424   \n",
       "17        0.254172  0.317020  0.317020  0.177503  0.136127  0.317020   \n",
       "\n",
       "anime_id     15417     28851     918       24701  ...  26031     34399  10368  \\\n",
       "user_id                                           ...                           \n",
       "3         0.338443  0.194870  0.338443  0.319870  ...    0.0  0.061321    0.0   \n",
       "10        0.237500  0.125000  0.237500  0.350000  ...    0.0  0.000000    0.0   \n",
       "12        0.365424  0.139752  0.365424  0.196687  ...    0.0  0.025880    0.0   \n",
       "17        0.317020  0.176460  0.317020  0.267124  ...    0.0  0.071801    0.0   \n",
       "\n",
       "anime_id  9352   5541   9316   5543   5621   6133   26081  \n",
       "user_id                                                    \n",
       "3           0.0    0.0    0.0    0.0    0.0    0.0    0.0  \n",
       "10          0.0    0.0    0.0    0.0    0.0    0.0    0.0  \n",
       "12          0.0    0.0    0.0    0.0    0.0    0.0    0.0  \n",
       "17          0.0    0.0    0.0    0.0    0.0    0.0    0.0  \n",
       "\n",
       "[4 rows x 11764 columns]"
      ],
      "text/html": "<div>\n<style scoped>\n    .dataframe tbody tr th:only-of-type {\n        vertical-align: middle;\n    }\n\n    .dataframe tbody tr th {\n        vertical-align: top;\n    }\n\n    .dataframe thead th {\n        text-align: right;\n    }\n</style>\n<table border=\"1\" class=\"dataframe\">\n  <thead>\n    <tr style=\"text-align: right;\">\n      <th>anime_id</th>\n      <th>32281</th>\n      <th>28977</th>\n      <th>9969</th>\n      <th>11061</th>\n      <th>820</th>\n      <th>15335</th>\n      <th>15417</th>\n      <th>28851</th>\n      <th>918</th>\n      <th>24701</th>\n      <th>...</th>\n      <th>26031</th>\n      <th>34399</th>\n      <th>10368</th>\n      <th>9352</th>\n      <th>5541</th>\n      <th>9316</th>\n      <th>5543</th>\n      <th>5621</th>\n      <th>6133</th>\n      <th>26081</th>\n    </tr>\n    <tr>\n      <th>user_id</th>\n      <th></th>\n      <th></th>\n      <th></th>\n      <th></th>\n      <th></th>\n      <th></th>\n      <th></th>\n      <th></th>\n      <th></th>\n      <th></th>\n      <th></th>\n      <th></th>\n      <th></th>\n      <th></th>\n      <th></th>\n      <th></th>\n      <th></th>\n      <th></th>\n      <th></th>\n      <th></th>\n      <th></th>\n    </tr>\n  </thead>\n  <tbody>\n    <tr>\n      <th>3</th>\n      <td>0.171875</td>\n      <td>0.338443</td>\n      <td>0.338443</td>\n      <td>0.354953</td>\n      <td>0.096403</td>\n      <td>0.338443</td>\n      <td>0.338443</td>\n      <td>0.194870</td>\n      <td>0.338443</td>\n      <td>0.319870</td>\n      <td>...</td>\n      <td>0.0</td>\n      <td>0.061321</td>\n      <td>0.0</td>\n      <td>0.0</td>\n      <td>0.0</td>\n      <td>0.0</td>\n      <td>0.0</td>\n      <td>0.0</td>\n      <td>0.0</td>\n      <td>0.0</td>\n    </tr>\n    <tr>\n      <th>10</th>\n      <td>0.175000</td>\n      <td>0.237500</td>\n      <td>0.237500</td>\n      <td>0.412500</td>\n      <td>0.125000</td>\n      <td>0.237500</td>\n      <td>0.237500</td>\n      <td>0.125000</td>\n      <td>0.237500</td>\n      <td>0.350000</td>\n      <td>...</td>\n      <td>0.0</td>\n      <td>0.000000</td>\n      <td>0.0</td>\n      <td>0.0</td>\n      <td>0.0</td>\n      <td>0.0</td>\n      <td>0.0</td>\n      <td>0.0</td>\n      <td>0.0</td>\n      <td>0.0</td>\n    </tr>\n    <tr>\n      <th>12</th>\n      <td>0.122153</td>\n      <td>0.365424</td>\n      <td>0.365424</td>\n      <td>0.342650</td>\n      <td>0.179089</td>\n      <td>0.365424</td>\n      <td>0.365424</td>\n      <td>0.139752</td>\n      <td>0.365424</td>\n      <td>0.196687</td>\n      <td>...</td>\n      <td>0.0</td>\n      <td>0.025880</td>\n      <td>0.0</td>\n      <td>0.0</td>\n      <td>0.0</td>\n      <td>0.0</td>\n      <td>0.0</td>\n      <td>0.0</td>\n      <td>0.0</td>\n      <td>0.0</td>\n    </tr>\n    <tr>\n      <th>17</th>\n      <td>0.254172</td>\n      <td>0.317020</td>\n      <td>0.317020</td>\n      <td>0.177503</td>\n      <td>0.136127</td>\n      <td>0.317020</td>\n      <td>0.317020</td>\n      <td>0.176460</td>\n      <td>0.317020</td>\n      <td>0.267124</td>\n      <td>...</td>\n      <td>0.0</td>\n      <td>0.071801</td>\n      <td>0.0</td>\n      <td>0.0</td>\n      <td>0.0</td>\n      <td>0.0</td>\n      <td>0.0</td>\n      <td>0.0</td>\n      <td>0.0</td>\n      <td>0.0</td>\n    </tr>\n  </tbody>\n</table>\n<p>4 rows × 11764 columns</p>\n</div>"
     },
     "metadata": {},
     "execution_count": 147
    }
   ],
   "source": [
    "arr_item_features_new= np.array(item_feature3.drop('anime_id',axis=1))\n",
    "n_item_new=item_feature3.shape[0]\n",
    "\n",
    "arr_user_items_score_new= np.empty((n_user,n_item_new))\n",
    "\n",
    "for i in range(n_user):\n",
    "    user_item_score=np.matmul(arr_item_features_new, arr_user_feature[i,:])\n",
    "    arr_user_items_score_new[i,:]= user_item_score\n",
    "\n",
    "df_user_item_score_new= pd.DataFrame(arr_user_items_score_new, columns=item_feature3['anime_id'], index=user_item.index)\n",
    "df_user_item_score_new"
   ]
  },
  {
   "cell_type": "code",
   "execution_count": 149,
   "metadata": {},
   "outputs": [
    {
     "output_type": "execute_result",
     "data": {
      "text/plain": [
       "anime_id\n",
       "231     0.665979\n",
       "249     0.648880\n",
       "6811    0.648880\n",
       "4938    0.646226\n",
       "21      0.625000\n",
       "Name: 3, dtype: float64"
      ]
     },
     "metadata": {},
     "execution_count": 149
    }
   ],
   "source": [
    "df_user_item_score_new.T[3].sort_values(ascending=False)[:5]"
   ]
  },
  {
   "cell_type": "code",
   "execution_count": 148,
   "metadata": {},
   "outputs": [
    {
     "output_type": "execute_result",
     "data": {
      "text/plain": [
       "      anime_id                    name\n",
       "74          21               One Piece\n",
       "173       6811  InuYasha: Kanketsu-hen\n",
       "286       4938      Tsubasa: Shunraiki\n",
       "690        249                InuYasha\n",
       "5917       231         Asagiri no Miko"
      ],
      "text/html": "<div>\n<style scoped>\n    .dataframe tbody tr th:only-of-type {\n        vertical-align: middle;\n    }\n\n    .dataframe tbody tr th {\n        vertical-align: top;\n    }\n\n    .dataframe thead th {\n        text-align: right;\n    }\n</style>\n<table border=\"1\" class=\"dataframe\">\n  <thead>\n    <tr style=\"text-align: right;\">\n      <th></th>\n      <th>anime_id</th>\n      <th>name</th>\n    </tr>\n  </thead>\n  <tbody>\n    <tr>\n      <th>74</th>\n      <td>21</td>\n      <td>One Piece</td>\n    </tr>\n    <tr>\n      <th>173</th>\n      <td>6811</td>\n      <td>InuYasha: Kanketsu-hen</td>\n    </tr>\n    <tr>\n      <th>286</th>\n      <td>4938</td>\n      <td>Tsubasa: Shunraiki</td>\n    </tr>\n    <tr>\n      <th>690</th>\n      <td>249</td>\n      <td>InuYasha</td>\n    </tr>\n    <tr>\n      <th>5917</th>\n      <td>231</td>\n      <td>Asagiri no Miko</td>\n    </tr>\n  </tbody>\n</table>\n</div>"
     },
     "metadata": {},
     "execution_count": 148
    }
   ],
   "source": [
    "anime[anime['anime_id'].isin(df_user_item_score_new.T[3].sort_values(ascending=False)[:5].index)][['anime_id','name']]"
   ]
  },
  {
   "source": [
    "## Collaborative Filtering: Model Based"
   ],
   "cell_type": "markdown",
   "metadata": {}
  },
  {
   "cell_type": "code",
   "execution_count": 153,
   "metadata": {},
   "outputs": [],
   "source": [
    "import pandas as pd\n",
    "import numpy as np\n",
    "\n",
    "import seaborn as sns\n",
    "\n",
    "from surprise import Reader, Dataset, SVD, BaselineOnly, accuracy\n",
    "from surprise.model_selection import cross_validate, train_test_split, GridSearchCV\n"
   ]
  },
  {
   "source": [
    "## Data"
   ],
   "cell_type": "markdown",
   "metadata": {}
  },
  {
   "cell_type": "code",
   "execution_count": 157,
   "metadata": {},
   "outputs": [],
   "source": [
    "column_names=['user_id','item_id', 'rating','timestamp']\n",
    "df= pd.read_csv('u.data',sep='\\t', names=column_names )"
   ]
  },
  {
   "cell_type": "code",
   "execution_count": 158,
   "metadata": {},
   "outputs": [
    {
     "output_type": "execute_result",
     "data": {
      "text/plain": [
       "        user_id  item_id  rating  timestamp\n",
       "0             0       50       5  881250949\n",
       "1             0      172       5  881250949\n",
       "2             0      133       1  881250949\n",
       "3           196      242       3  881250949\n",
       "4           186      302       3  891717742\n",
       "...         ...      ...     ...        ...\n",
       "99998       880      476       3  880175444\n",
       "99999       716      204       5  879795543\n",
       "100000      276     1090       1  874795795\n",
       "100001       13      225       2  882399156\n",
       "100002       12      203       3  879959583\n",
       "\n",
       "[100003 rows x 4 columns]"
      ],
      "text/html": "<div>\n<style scoped>\n    .dataframe tbody tr th:only-of-type {\n        vertical-align: middle;\n    }\n\n    .dataframe tbody tr th {\n        vertical-align: top;\n    }\n\n    .dataframe thead th {\n        text-align: right;\n    }\n</style>\n<table border=\"1\" class=\"dataframe\">\n  <thead>\n    <tr style=\"text-align: right;\">\n      <th></th>\n      <th>user_id</th>\n      <th>item_id</th>\n      <th>rating</th>\n      <th>timestamp</th>\n    </tr>\n  </thead>\n  <tbody>\n    <tr>\n      <th>0</th>\n      <td>0</td>\n      <td>50</td>\n      <td>5</td>\n      <td>881250949</td>\n    </tr>\n    <tr>\n      <th>1</th>\n      <td>0</td>\n      <td>172</td>\n      <td>5</td>\n      <td>881250949</td>\n    </tr>\n    <tr>\n      <th>2</th>\n      <td>0</td>\n      <td>133</td>\n      <td>1</td>\n      <td>881250949</td>\n    </tr>\n    <tr>\n      <th>3</th>\n      <td>196</td>\n      <td>242</td>\n      <td>3</td>\n      <td>881250949</td>\n    </tr>\n    <tr>\n      <th>4</th>\n      <td>186</td>\n      <td>302</td>\n      <td>3</td>\n      <td>891717742</td>\n    </tr>\n    <tr>\n      <th>...</th>\n      <td>...</td>\n      <td>...</td>\n      <td>...</td>\n      <td>...</td>\n    </tr>\n    <tr>\n      <th>99998</th>\n      <td>880</td>\n      <td>476</td>\n      <td>3</td>\n      <td>880175444</td>\n    </tr>\n    <tr>\n      <th>99999</th>\n      <td>716</td>\n      <td>204</td>\n      <td>5</td>\n      <td>879795543</td>\n    </tr>\n    <tr>\n      <th>100000</th>\n      <td>276</td>\n      <td>1090</td>\n      <td>1</td>\n      <td>874795795</td>\n    </tr>\n    <tr>\n      <th>100001</th>\n      <td>13</td>\n      <td>225</td>\n      <td>2</td>\n      <td>882399156</td>\n    </tr>\n    <tr>\n      <th>100002</th>\n      <td>12</td>\n      <td>203</td>\n      <td>3</td>\n      <td>879959583</td>\n    </tr>\n  </tbody>\n</table>\n<p>100003 rows × 4 columns</p>\n</div>"
     },
     "metadata": {},
     "execution_count": 158
    }
   ],
   "source": [
    "df"
   ]
  },
  {
   "cell_type": "code",
   "execution_count": 159,
   "metadata": {},
   "outputs": [
    {
     "output_type": "execute_result",
     "data": {
      "text/plain": [
       "item_id  1     2     3     4     5     6     7     8     9     10    ...  \\\n",
       "user_id                                                              ...   \n",
       "0         NaN   NaN   NaN   NaN   NaN   NaN   NaN   NaN   NaN   NaN  ...   \n",
       "1         5.0   3.0   4.0   3.0   3.0   5.0   4.0   1.0   5.0   3.0  ...   \n",
       "2         4.0   NaN   NaN   NaN   NaN   NaN   NaN   NaN   NaN   2.0  ...   \n",
       "3         NaN   NaN   NaN   NaN   NaN   NaN   NaN   NaN   NaN   NaN  ...   \n",
       "4         NaN   NaN   NaN   NaN   NaN   NaN   NaN   NaN   NaN   NaN  ...   \n",
       "...       ...   ...   ...   ...   ...   ...   ...   ...   ...   ...  ...   \n",
       "939       NaN   NaN   NaN   NaN   NaN   NaN   NaN   NaN   5.0   NaN  ...   \n",
       "940       NaN   NaN   NaN   2.0   NaN   NaN   4.0   5.0   3.0   NaN  ...   \n",
       "941       5.0   NaN   NaN   NaN   NaN   NaN   4.0   NaN   NaN   NaN  ...   \n",
       "942       NaN   NaN   NaN   NaN   NaN   NaN   NaN   NaN   NaN   NaN  ...   \n",
       "943       NaN   5.0   NaN   NaN   NaN   NaN   NaN   NaN   3.0   NaN  ...   \n",
       "\n",
       "item_id  1673  1674  1675  1676  1677  1678  1679  1680  1681  1682  \n",
       "user_id                                                              \n",
       "0         NaN   NaN   NaN   NaN   NaN   NaN   NaN   NaN   NaN   NaN  \n",
       "1         NaN   NaN   NaN   NaN   NaN   NaN   NaN   NaN   NaN   NaN  \n",
       "2         NaN   NaN   NaN   NaN   NaN   NaN   NaN   NaN   NaN   NaN  \n",
       "3         NaN   NaN   NaN   NaN   NaN   NaN   NaN   NaN   NaN   NaN  \n",
       "4         NaN   NaN   NaN   NaN   NaN   NaN   NaN   NaN   NaN   NaN  \n",
       "...       ...   ...   ...   ...   ...   ...   ...   ...   ...   ...  \n",
       "939       NaN   NaN   NaN   NaN   NaN   NaN   NaN   NaN   NaN   NaN  \n",
       "940       NaN   NaN   NaN   NaN   NaN   NaN   NaN   NaN   NaN   NaN  \n",
       "941       NaN   NaN   NaN   NaN   NaN   NaN   NaN   NaN   NaN   NaN  \n",
       "942       NaN   NaN   NaN   NaN   NaN   NaN   NaN   NaN   NaN   NaN  \n",
       "943       NaN   NaN   NaN   NaN   NaN   NaN   NaN   NaN   NaN   NaN  \n",
       "\n",
       "[944 rows x 1682 columns]"
      ],
      "text/html": "<div>\n<style scoped>\n    .dataframe tbody tr th:only-of-type {\n        vertical-align: middle;\n    }\n\n    .dataframe tbody tr th {\n        vertical-align: top;\n    }\n\n    .dataframe thead th {\n        text-align: right;\n    }\n</style>\n<table border=\"1\" class=\"dataframe\">\n  <thead>\n    <tr style=\"text-align: right;\">\n      <th>item_id</th>\n      <th>1</th>\n      <th>2</th>\n      <th>3</th>\n      <th>4</th>\n      <th>5</th>\n      <th>6</th>\n      <th>7</th>\n      <th>8</th>\n      <th>9</th>\n      <th>10</th>\n      <th>...</th>\n      <th>1673</th>\n      <th>1674</th>\n      <th>1675</th>\n      <th>1676</th>\n      <th>1677</th>\n      <th>1678</th>\n      <th>1679</th>\n      <th>1680</th>\n      <th>1681</th>\n      <th>1682</th>\n    </tr>\n    <tr>\n      <th>user_id</th>\n      <th></th>\n      <th></th>\n      <th></th>\n      <th></th>\n      <th></th>\n      <th></th>\n      <th></th>\n      <th></th>\n      <th></th>\n      <th></th>\n      <th></th>\n      <th></th>\n      <th></th>\n      <th></th>\n      <th></th>\n      <th></th>\n      <th></th>\n      <th></th>\n      <th></th>\n      <th></th>\n      <th></th>\n    </tr>\n  </thead>\n  <tbody>\n    <tr>\n      <th>0</th>\n      <td>NaN</td>\n      <td>NaN</td>\n      <td>NaN</td>\n      <td>NaN</td>\n      <td>NaN</td>\n      <td>NaN</td>\n      <td>NaN</td>\n      <td>NaN</td>\n      <td>NaN</td>\n      <td>NaN</td>\n      <td>...</td>\n      <td>NaN</td>\n      <td>NaN</td>\n      <td>NaN</td>\n      <td>NaN</td>\n      <td>NaN</td>\n      <td>NaN</td>\n      <td>NaN</td>\n      <td>NaN</td>\n      <td>NaN</td>\n      <td>NaN</td>\n    </tr>\n    <tr>\n      <th>1</th>\n      <td>5.0</td>\n      <td>3.0</td>\n      <td>4.0</td>\n      <td>3.0</td>\n      <td>3.0</td>\n      <td>5.0</td>\n      <td>4.0</td>\n      <td>1.0</td>\n      <td>5.0</td>\n      <td>3.0</td>\n      <td>...</td>\n      <td>NaN</td>\n      <td>NaN</td>\n      <td>NaN</td>\n      <td>NaN</td>\n      <td>NaN</td>\n      <td>NaN</td>\n      <td>NaN</td>\n      <td>NaN</td>\n      <td>NaN</td>\n      <td>NaN</td>\n    </tr>\n    <tr>\n      <th>2</th>\n      <td>4.0</td>\n      <td>NaN</td>\n      <td>NaN</td>\n      <td>NaN</td>\n      <td>NaN</td>\n      <td>NaN</td>\n      <td>NaN</td>\n      <td>NaN</td>\n      <td>NaN</td>\n      <td>2.0</td>\n      <td>...</td>\n      <td>NaN</td>\n      <td>NaN</td>\n      <td>NaN</td>\n      <td>NaN</td>\n      <td>NaN</td>\n      <td>NaN</td>\n      <td>NaN</td>\n      <td>NaN</td>\n      <td>NaN</td>\n      <td>NaN</td>\n    </tr>\n    <tr>\n      <th>3</th>\n      <td>NaN</td>\n      <td>NaN</td>\n      <td>NaN</td>\n      <td>NaN</td>\n      <td>NaN</td>\n      <td>NaN</td>\n      <td>NaN</td>\n      <td>NaN</td>\n      <td>NaN</td>\n      <td>NaN</td>\n      <td>...</td>\n      <td>NaN</td>\n      <td>NaN</td>\n      <td>NaN</td>\n      <td>NaN</td>\n      <td>NaN</td>\n      <td>NaN</td>\n      <td>NaN</td>\n      <td>NaN</td>\n      <td>NaN</td>\n      <td>NaN</td>\n    </tr>\n    <tr>\n      <th>4</th>\n      <td>NaN</td>\n      <td>NaN</td>\n      <td>NaN</td>\n      <td>NaN</td>\n      <td>NaN</td>\n      <td>NaN</td>\n      <td>NaN</td>\n      <td>NaN</td>\n      <td>NaN</td>\n      <td>NaN</td>\n      <td>...</td>\n      <td>NaN</td>\n      <td>NaN</td>\n      <td>NaN</td>\n      <td>NaN</td>\n      <td>NaN</td>\n      <td>NaN</td>\n      <td>NaN</td>\n      <td>NaN</td>\n      <td>NaN</td>\n      <td>NaN</td>\n    </tr>\n    <tr>\n      <th>...</th>\n      <td>...</td>\n      <td>...</td>\n      <td>...</td>\n      <td>...</td>\n      <td>...</td>\n      <td>...</td>\n      <td>...</td>\n      <td>...</td>\n      <td>...</td>\n      <td>...</td>\n      <td>...</td>\n      <td>...</td>\n      <td>...</td>\n      <td>...</td>\n      <td>...</td>\n      <td>...</td>\n      <td>...</td>\n      <td>...</td>\n      <td>...</td>\n      <td>...</td>\n      <td>...</td>\n    </tr>\n    <tr>\n      <th>939</th>\n      <td>NaN</td>\n      <td>NaN</td>\n      <td>NaN</td>\n      <td>NaN</td>\n      <td>NaN</td>\n      <td>NaN</td>\n      <td>NaN</td>\n      <td>NaN</td>\n      <td>5.0</td>\n      <td>NaN</td>\n      <td>...</td>\n      <td>NaN</td>\n      <td>NaN</td>\n      <td>NaN</td>\n      <td>NaN</td>\n      <td>NaN</td>\n      <td>NaN</td>\n      <td>NaN</td>\n      <td>NaN</td>\n      <td>NaN</td>\n      <td>NaN</td>\n    </tr>\n    <tr>\n      <th>940</th>\n      <td>NaN</td>\n      <td>NaN</td>\n      <td>NaN</td>\n      <td>2.0</td>\n      <td>NaN</td>\n      <td>NaN</td>\n      <td>4.0</td>\n      <td>5.0</td>\n      <td>3.0</td>\n      <td>NaN</td>\n      <td>...</td>\n      <td>NaN</td>\n      <td>NaN</td>\n      <td>NaN</td>\n      <td>NaN</td>\n      <td>NaN</td>\n      <td>NaN</td>\n      <td>NaN</td>\n      <td>NaN</td>\n      <td>NaN</td>\n      <td>NaN</td>\n    </tr>\n    <tr>\n      <th>941</th>\n      <td>5.0</td>\n      <td>NaN</td>\n      <td>NaN</td>\n      <td>NaN</td>\n      <td>NaN</td>\n      <td>NaN</td>\n      <td>4.0</td>\n      <td>NaN</td>\n      <td>NaN</td>\n      <td>NaN</td>\n      <td>...</td>\n      <td>NaN</td>\n      <td>NaN</td>\n      <td>NaN</td>\n      <td>NaN</td>\n      <td>NaN</td>\n      <td>NaN</td>\n      <td>NaN</td>\n      <td>NaN</td>\n      <td>NaN</td>\n      <td>NaN</td>\n    </tr>\n    <tr>\n      <th>942</th>\n      <td>NaN</td>\n      <td>NaN</td>\n      <td>NaN</td>\n      <td>NaN</td>\n      <td>NaN</td>\n      <td>NaN</td>\n      <td>NaN</td>\n      <td>NaN</td>\n      <td>NaN</td>\n      <td>NaN</td>\n      <td>...</td>\n      <td>NaN</td>\n      <td>NaN</td>\n      <td>NaN</td>\n      <td>NaN</td>\n      <td>NaN</td>\n      <td>NaN</td>\n      <td>NaN</td>\n      <td>NaN</td>\n      <td>NaN</td>\n      <td>NaN</td>\n    </tr>\n    <tr>\n      <th>943</th>\n      <td>NaN</td>\n      <td>5.0</td>\n      <td>NaN</td>\n      <td>NaN</td>\n      <td>NaN</td>\n      <td>NaN</td>\n      <td>NaN</td>\n      <td>NaN</td>\n      <td>3.0</td>\n      <td>NaN</td>\n      <td>...</td>\n      <td>NaN</td>\n      <td>NaN</td>\n      <td>NaN</td>\n      <td>NaN</td>\n      <td>NaN</td>\n      <td>NaN</td>\n      <td>NaN</td>\n      <td>NaN</td>\n      <td>NaN</td>\n      <td>NaN</td>\n    </tr>\n  </tbody>\n</table>\n<p>944 rows × 1682 columns</p>\n</div>"
     },
     "metadata": {},
     "execution_count": 159
    }
   ],
   "source": [
    "user_item_rating_matrix=df.pivot_table(values='rating', columns='item_id',index='user_id')\n",
    "user_item_rating_matrix"
   ]
  },
  {
   "cell_type": "code",
   "execution_count": 160,
   "metadata": {},
   "outputs": [],
   "source": [
    "reader= Reader(rating_scale=(0,5))\n",
    "data= Dataset.load_from_df(df[['user_id','item_id','rating']], reader)"
   ]
  },
  {
   "cell_type": "code",
   "execution_count": 161,
   "metadata": {},
   "outputs": [
    {
     "output_type": "execute_result",
     "data": {
      "text/plain": [
       "   user_id  item_id  rating\n",
       "0        0       50       5\n",
       "1        0      172       5\n",
       "2        0      133       1\n",
       "3      196      242       3\n",
       "4      186      302       3\n",
       "5       22      377       1\n",
       "6      244       51       2\n",
       "7      166      346       1\n",
       "8      298      474       4\n",
       "9      115      265       2"
      ],
      "text/html": "<div>\n<style scoped>\n    .dataframe tbody tr th:only-of-type {\n        vertical-align: middle;\n    }\n\n    .dataframe tbody tr th {\n        vertical-align: top;\n    }\n\n    .dataframe thead th {\n        text-align: right;\n    }\n</style>\n<table border=\"1\" class=\"dataframe\">\n  <thead>\n    <tr style=\"text-align: right;\">\n      <th></th>\n      <th>user_id</th>\n      <th>item_id</th>\n      <th>rating</th>\n    </tr>\n  </thead>\n  <tbody>\n    <tr>\n      <th>0</th>\n      <td>0</td>\n      <td>50</td>\n      <td>5</td>\n    </tr>\n    <tr>\n      <th>1</th>\n      <td>0</td>\n      <td>172</td>\n      <td>5</td>\n    </tr>\n    <tr>\n      <th>2</th>\n      <td>0</td>\n      <td>133</td>\n      <td>1</td>\n    </tr>\n    <tr>\n      <th>3</th>\n      <td>196</td>\n      <td>242</td>\n      <td>3</td>\n    </tr>\n    <tr>\n      <th>4</th>\n      <td>186</td>\n      <td>302</td>\n      <td>3</td>\n    </tr>\n    <tr>\n      <th>5</th>\n      <td>22</td>\n      <td>377</td>\n      <td>1</td>\n    </tr>\n    <tr>\n      <th>6</th>\n      <td>244</td>\n      <td>51</td>\n      <td>2</td>\n    </tr>\n    <tr>\n      <th>7</th>\n      <td>166</td>\n      <td>346</td>\n      <td>1</td>\n    </tr>\n    <tr>\n      <th>8</th>\n      <td>298</td>\n      <td>474</td>\n      <td>4</td>\n    </tr>\n    <tr>\n      <th>9</th>\n      <td>115</td>\n      <td>265</td>\n      <td>2</td>\n    </tr>\n  </tbody>\n</table>\n</div>"
     },
     "metadata": {},
     "execution_count": 161
    }
   ],
   "source": [
    "data.df.head(10)"
   ]
  },
  {
   "source": [
    "## Validation"
   ],
   "cell_type": "markdown",
   "metadata": {}
  },
  {
   "cell_type": "code",
   "execution_count": 163,
   "metadata": {},
   "outputs": [],
   "source": [
    "trainset, testset= train_test_split(data, test_size=0.25, random_state=101)"
   ]
  },
  {
   "cell_type": "code",
   "execution_count": 164,
   "metadata": {},
   "outputs": [],
   "source": [
    "algo= SVD()\n",
    "\n",
    "algo.fit(trainset)\n",
    "prediction= algo.test(testset)"
   ]
  },
  {
   "cell_type": "code",
   "execution_count": 165,
   "metadata": {},
   "outputs": [
    {
     "output_type": "stream",
     "name": "stdout",
     "text": [
      "RMSE: 0.9372\n"
     ]
    },
    {
     "output_type": "execute_result",
     "data": {
      "text/plain": [
       "0.9372140155741121"
      ]
     },
     "metadata": {},
     "execution_count": 165
    }
   ],
   "source": [
    "accuracy.rmse(prediction)"
   ]
  },
  {
   "cell_type": "code",
   "execution_count": 168,
   "metadata": {},
   "outputs": [
    {
     "output_type": "stream",
     "name": "stdout",
     "text": [
      "Estimating biases using als...\n"
     ]
    }
   ],
   "source": [
    "# ALS\n",
    "bsl_option={\n",
    "    'method':'als',\n",
    "    'n_epoch': 5,\n",
    "    'reg_u':12,\n",
    "    'reg_i':5\n",
    "}\n",
    "\n",
    "algo= BaselineOnly(bsl_options=bsl_option)\n",
    "algo.fit(trainset)\n",
    "prediction=algo.test(testset)"
   ]
  },
  {
   "cell_type": "code",
   "execution_count": 169,
   "metadata": {},
   "outputs": [
    {
     "output_type": "stream",
     "name": "stdout",
     "text": [
      "RMSE: 0.9407\n"
     ]
    },
    {
     "output_type": "execute_result",
     "data": {
      "text/plain": [
       "0.9407128231972565"
      ]
     },
     "metadata": {},
     "execution_count": 169
    }
   ],
   "source": [
    "accuracy.rmse(prediction)"
   ]
  },
  {
   "source": [
    "based on train-test validation, SVD is better than ALS (lower rmse)"
   ],
   "cell_type": "markdown",
   "metadata": {}
  },
  {
   "source": [
    "**Cross Validation**"
   ],
   "cell_type": "markdown",
   "metadata": {}
  },
  {
   "cell_type": "code",
   "execution_count": 171,
   "metadata": {},
   "outputs": [
    {
     "output_type": "stream",
     "name": "stdout",
     "text": [
      "Evaluating RMSE, MAE of algorithm SVD on 5 split(s).\n\n                  Fold 1  Fold 2  Fold 3  Fold 4  Fold 5  Mean    Std     \nRMSE (testset)    0.9217  0.9371  0.9439  0.9415  0.9409  0.9370  0.0080  \nMAE (testset)     0.7261  0.7401  0.7436  0.7395  0.7461  0.7391  0.0069  \nFit time          4.85    4.58    4.59    4.82    5.13    4.79    0.20    \nTest time         0.13    0.46    0.14    0.13    0.15    0.20    0.13    \n"
     ]
    }
   ],
   "source": [
    "algo= SVD()\n",
    "cv_svd= cross_validate(algo,datat, measures=['RMSE','MAE'], cv=5, verbose=True)"
   ]
  },
  {
   "cell_type": "code",
   "execution_count": 175,
   "metadata": {},
   "outputs": [
    {
     "output_type": "execute_result",
     "data": {
      "text/plain": [
       "0.9370128086198793"
      ]
     },
     "metadata": {},
     "execution_count": 175
    }
   ],
   "source": [
    "cv_svd['test_rmse'].mean()"
   ]
  },
  {
   "cell_type": "code",
   "execution_count": 176,
   "metadata": {},
   "outputs": [
    {
     "output_type": "stream",
     "name": "stdout",
     "text": [
      "Estimating biases using als...\n",
      "Estimating biases using als...\n",
      "Estimating biases using als...\n",
      "Estimating biases using als...\n",
      "Estimating biases using als...\n"
     ]
    }
   ],
   "source": [
    "# ALS\n",
    "bsl_option={\n",
    "    'method':'als',\n",
    "    'n_epoch': 5,\n",
    "    'reg_u':12,\n",
    "    'reg_i':5\n",
    "}\n",
    "algo= BaselineOnly(bsl_options=bsl_option)\n",
    "\n",
    "cv_als= cross_validate(algo, data, measures=['RMSE','MAE'], cv=5)"
   ]
  },
  {
   "cell_type": "code",
   "execution_count": 177,
   "metadata": {},
   "outputs": [
    {
     "output_type": "stream",
     "name": "stdout",
     "text": [
      "rmse cv mean 0.9408585880303297\n"
     ]
    }
   ],
   "source": [
    "print('rmse cv mean', cv_als['test_rmse'].mean())"
   ]
  },
  {
   "cell_type": "code",
   "execution_count": null,
   "metadata": {},
   "outputs": [],
   "source": [
    "# Based on cross validation, svd is better"
   ]
  },
  {
   "source": [
    "Hyperparameter tunning"
   ],
   "cell_type": "markdown",
   "metadata": {}
  },
  {
   "cell_type": "code",
   "execution_count": 181,
   "metadata": {},
   "outputs": [],
   "source": [
    "param_grid={\n",
    "    'n_epochs':[5,10],\n",
    "    'lr_all':[0.002,0.005],\n",
    "    'reg_all':[0.4,0.6]\n",
    "}\n",
    "gs= GridSearchCV(SVD, param_grid,measures=['rmse','mae'], cv=3)\n",
    "\n",
    "gs.fit(data)"
   ]
  },
  {
   "cell_type": "code",
   "execution_count": 185,
   "metadata": {},
   "outputs": [
    {
     "output_type": "execute_result",
     "data": {
      "text/plain": [
       "0.9637366023018236"
      ]
     },
     "metadata": {},
     "execution_count": 185
    }
   ],
   "source": [
    "gs.best_score['rmse']"
   ]
  },
  {
   "cell_type": "code",
   "execution_count": 186,
   "metadata": {},
   "outputs": [
    {
     "output_type": "execute_result",
     "data": {
      "text/plain": [
       "{'n_epochs': 10, 'lr_all': 0.005, 'reg_all': 0.4}"
      ]
     },
     "metadata": {},
     "execution_count": 186
    }
   ],
   "source": [
    "gs.best_params['rmse']"
   ]
  },
  {
   "source": [
    "Score sebelum tunning lebih bagus"
   ],
   "cell_type": "markdown",
   "metadata": {}
  },
  {
   "source": [
    "### Prediction Result\n",
    "\n",
    "we will recommend item 565, 647, 665 and 677 to user 0, 111, 212"
   ],
   "cell_type": "markdown",
   "metadata": {}
  },
  {
   "cell_type": "code",
   "execution_count": 189,
   "metadata": {},
   "outputs": [],
   "source": [
    "df_test= pd.DataFrame(columns=['user_id','item_id'])\n",
    "\n",
    "for i in [0,111,212]:\n",
    "    for j in [647,565,665,677]:\n",
    "        df_test=df_test.append({'user_id':i, 'item_id':j},ignore_index=True)"
   ]
  },
  {
   "cell_type": "code",
   "execution_count": 190,
   "metadata": {},
   "outputs": [
    {
     "output_type": "execute_result",
     "data": {
      "text/plain": [
       "   user_id item_id\n",
       "0        0     647\n",
       "1        0     565\n",
       "2        0     665\n",
       "3        0     677\n",
       "4      111     647\n",
       "5      111     565\n",
       "6      111     665\n",
       "7      111     677\n",
       "8      212     647\n",
       "9      212     565\n",
       "10     212     665\n",
       "11     212     677"
      ],
      "text/html": "<div>\n<style scoped>\n    .dataframe tbody tr th:only-of-type {\n        vertical-align: middle;\n    }\n\n    .dataframe tbody tr th {\n        vertical-align: top;\n    }\n\n    .dataframe thead th {\n        text-align: right;\n    }\n</style>\n<table border=\"1\" class=\"dataframe\">\n  <thead>\n    <tr style=\"text-align: right;\">\n      <th></th>\n      <th>user_id</th>\n      <th>item_id</th>\n    </tr>\n  </thead>\n  <tbody>\n    <tr>\n      <th>0</th>\n      <td>0</td>\n      <td>647</td>\n    </tr>\n    <tr>\n      <th>1</th>\n      <td>0</td>\n      <td>565</td>\n    </tr>\n    <tr>\n      <th>2</th>\n      <td>0</td>\n      <td>665</td>\n    </tr>\n    <tr>\n      <th>3</th>\n      <td>0</td>\n      <td>677</td>\n    </tr>\n    <tr>\n      <th>4</th>\n      <td>111</td>\n      <td>647</td>\n    </tr>\n    <tr>\n      <th>5</th>\n      <td>111</td>\n      <td>565</td>\n    </tr>\n    <tr>\n      <th>6</th>\n      <td>111</td>\n      <td>665</td>\n    </tr>\n    <tr>\n      <th>7</th>\n      <td>111</td>\n      <td>677</td>\n    </tr>\n    <tr>\n      <th>8</th>\n      <td>212</td>\n      <td>647</td>\n    </tr>\n    <tr>\n      <th>9</th>\n      <td>212</td>\n      <td>565</td>\n    </tr>\n    <tr>\n      <th>10</th>\n      <td>212</td>\n      <td>665</td>\n    </tr>\n    <tr>\n      <th>11</th>\n      <td>212</td>\n      <td>677</td>\n    </tr>\n  </tbody>\n</table>\n</div>"
     },
     "metadata": {},
     "execution_count": 190
    }
   ],
   "source": [
    "df_test"
   ]
  },
  {
   "cell_type": "code",
   "execution_count": 192,
   "metadata": {},
   "outputs": [
    {
     "output_type": "execute_result",
     "data": {
      "text/plain": [
       "{'rmse': {'n_epochs': 10, 'lr_all': 0.005, 'reg_all': 0.4},\n",
       " 'mae': {'n_epochs': 10, 'lr_all': 0.005, 'reg_all': 0.4}}"
      ]
     },
     "metadata": {},
     "execution_count": 192
    }
   ],
   "source": [
    "gs.best_params"
   ]
  },
  {
   "cell_type": "code",
   "execution_count": 193,
   "metadata": {},
   "outputs": [],
   "source": [
    "algo= SVD(n_epochs=10, lr_all=0.05, reg_all=0.4)\n",
    "algo.fit(trainset)\n",
    "y=[]\n",
    "\n",
    "for _, row in df_test.iterrows():\n",
    "    est=algo.predict(row.user_id, row.item_id)\n",
    "    y.append(est[3])\n",
    "\n",
    "df_test['rating']=y"
   ]
  },
  {
   "cell_type": "code",
   "execution_count": 195,
   "metadata": {},
   "outputs": [
    {
     "output_type": "execute_result",
     "data": {
      "text/plain": [
       "   user_id item_id    rating\n",
       "0        0     647  3.860804\n",
       "3        0     677  3.136568\n",
       "2        0     665  3.000568\n",
       "1        0     565  2.638825\n",
       "4      111     647  3.806768\n",
       "7      111     677  3.012794\n",
       "6      111     665  2.946906\n",
       "5      111     565  2.586513\n",
       "8      212     647  3.607412\n",
       "11     212     677  2.815171\n",
       "10     212     665  2.747540\n",
       "9      212     565  2.387374"
      ],
      "text/html": "<div>\n<style scoped>\n    .dataframe tbody tr th:only-of-type {\n        vertical-align: middle;\n    }\n\n    .dataframe tbody tr th {\n        vertical-align: top;\n    }\n\n    .dataframe thead th {\n        text-align: right;\n    }\n</style>\n<table border=\"1\" class=\"dataframe\">\n  <thead>\n    <tr style=\"text-align: right;\">\n      <th></th>\n      <th>user_id</th>\n      <th>item_id</th>\n      <th>rating</th>\n    </tr>\n  </thead>\n  <tbody>\n    <tr>\n      <th>0</th>\n      <td>0</td>\n      <td>647</td>\n      <td>3.860804</td>\n    </tr>\n    <tr>\n      <th>3</th>\n      <td>0</td>\n      <td>677</td>\n      <td>3.136568</td>\n    </tr>\n    <tr>\n      <th>2</th>\n      <td>0</td>\n      <td>665</td>\n      <td>3.000568</td>\n    </tr>\n    <tr>\n      <th>1</th>\n      <td>0</td>\n      <td>565</td>\n      <td>2.638825</td>\n    </tr>\n    <tr>\n      <th>4</th>\n      <td>111</td>\n      <td>647</td>\n      <td>3.806768</td>\n    </tr>\n    <tr>\n      <th>7</th>\n      <td>111</td>\n      <td>677</td>\n      <td>3.012794</td>\n    </tr>\n    <tr>\n      <th>6</th>\n      <td>111</td>\n      <td>665</td>\n      <td>2.946906</td>\n    </tr>\n    <tr>\n      <th>5</th>\n      <td>111</td>\n      <td>565</td>\n      <td>2.586513</td>\n    </tr>\n    <tr>\n      <th>8</th>\n      <td>212</td>\n      <td>647</td>\n      <td>3.607412</td>\n    </tr>\n    <tr>\n      <th>11</th>\n      <td>212</td>\n      <td>677</td>\n      <td>2.815171</td>\n    </tr>\n    <tr>\n      <th>10</th>\n      <td>212</td>\n      <td>665</td>\n      <td>2.747540</td>\n    </tr>\n    <tr>\n      <th>9</th>\n      <td>212</td>\n      <td>565</td>\n      <td>2.387374</td>\n    </tr>\n  </tbody>\n</table>\n</div>"
     },
     "metadata": {},
     "execution_count": 195
    }
   ],
   "source": [
    "df_test.sort_values(['user_id','rating'], ascending= [True,False], inplace=True)\n",
    "df_test"
   ]
  },
  {
   "cell_type": "code",
   "execution_count": 196,
   "metadata": {},
   "outputs": [
    {
     "output_type": "execute_result",
     "data": {
      "text/plain": [
       "  user_id item_id    rating\n",
       "0       0     647  3.860804\n",
       "3       0     677  3.136568\n",
       "2       0     665  3.000568\n",
       "1       0     565  2.638825"
      ],
      "text/html": "<div>\n<style scoped>\n    .dataframe tbody tr th:only-of-type {\n        vertical-align: middle;\n    }\n\n    .dataframe tbody tr th {\n        vertical-align: top;\n    }\n\n    .dataframe thead th {\n        text-align: right;\n    }\n</style>\n<table border=\"1\" class=\"dataframe\">\n  <thead>\n    <tr style=\"text-align: right;\">\n      <th></th>\n      <th>user_id</th>\n      <th>item_id</th>\n      <th>rating</th>\n    </tr>\n  </thead>\n  <tbody>\n    <tr>\n      <th>0</th>\n      <td>0</td>\n      <td>647</td>\n      <td>3.860804</td>\n    </tr>\n    <tr>\n      <th>3</th>\n      <td>0</td>\n      <td>677</td>\n      <td>3.136568</td>\n    </tr>\n    <tr>\n      <th>2</th>\n      <td>0</td>\n      <td>665</td>\n      <td>3.000568</td>\n    </tr>\n    <tr>\n      <th>1</th>\n      <td>0</td>\n      <td>565</td>\n      <td>2.638825</td>\n    </tr>\n  </tbody>\n</table>\n</div>"
     },
     "metadata": {},
     "execution_count": 196
    }
   ],
   "source": [
    "# user 0\n",
    "\n",
    "df_test[df_test['user_id']==0]"
   ]
  },
  {
   "source": [
    "## coba dengan anime dataset"
   ],
   "cell_type": "markdown",
   "metadata": {}
  },
  {
   "cell_type": "code",
   "execution_count": 206,
   "metadata": {},
   "outputs": [],
   "source": [
    "rating= pd.read_csv('rating.csv')"
   ]
  },
  {
   "cell_type": "code",
   "execution_count": 207,
   "metadata": {},
   "outputs": [],
   "source": [
    "rating['rating']=rating['rating'].replace(-1,np.nan)"
   ]
  },
  {
   "cell_type": "code",
   "execution_count": 209,
   "metadata": {},
   "outputs": [],
   "source": [
    "rating=rating.dropna()"
   ]
  },
  {
   "cell_type": "code",
   "execution_count": 210,
   "metadata": {},
   "outputs": [
    {
     "output_type": "execute_result",
     "data": {
      "text/plain": [
       "         user_id  anime_id  rating\n",
       "47             1      8074    10.0\n",
       "81             1     11617    10.0\n",
       "83             1     11757    10.0\n",
       "101            1     15451    10.0\n",
       "153            2     11771    10.0\n",
       "...          ...       ...     ...\n",
       "7813732    73515     16512     7.0\n",
       "7813733    73515     17187     9.0\n",
       "7813734    73515     22145    10.0\n",
       "7813735    73516       790     9.0\n",
       "7813736    73516      8074     9.0\n",
       "\n",
       "[6337241 rows x 3 columns]"
      ],
      "text/html": "<div>\n<style scoped>\n    .dataframe tbody tr th:only-of-type {\n        vertical-align: middle;\n    }\n\n    .dataframe tbody tr th {\n        vertical-align: top;\n    }\n\n    .dataframe thead th {\n        text-align: right;\n    }\n</style>\n<table border=\"1\" class=\"dataframe\">\n  <thead>\n    <tr style=\"text-align: right;\">\n      <th></th>\n      <th>user_id</th>\n      <th>anime_id</th>\n      <th>rating</th>\n    </tr>\n  </thead>\n  <tbody>\n    <tr>\n      <th>47</th>\n      <td>1</td>\n      <td>8074</td>\n      <td>10.0</td>\n    </tr>\n    <tr>\n      <th>81</th>\n      <td>1</td>\n      <td>11617</td>\n      <td>10.0</td>\n    </tr>\n    <tr>\n      <th>83</th>\n      <td>1</td>\n      <td>11757</td>\n      <td>10.0</td>\n    </tr>\n    <tr>\n      <th>101</th>\n      <td>1</td>\n      <td>15451</td>\n      <td>10.0</td>\n    </tr>\n    <tr>\n      <th>153</th>\n      <td>2</td>\n      <td>11771</td>\n      <td>10.0</td>\n    </tr>\n    <tr>\n      <th>...</th>\n      <td>...</td>\n      <td>...</td>\n      <td>...</td>\n    </tr>\n    <tr>\n      <th>7813732</th>\n      <td>73515</td>\n      <td>16512</td>\n      <td>7.0</td>\n    </tr>\n    <tr>\n      <th>7813733</th>\n      <td>73515</td>\n      <td>17187</td>\n      <td>9.0</td>\n    </tr>\n    <tr>\n      <th>7813734</th>\n      <td>73515</td>\n      <td>22145</td>\n      <td>10.0</td>\n    </tr>\n    <tr>\n      <th>7813735</th>\n      <td>73516</td>\n      <td>790</td>\n      <td>9.0</td>\n    </tr>\n    <tr>\n      <th>7813736</th>\n      <td>73516</td>\n      <td>8074</td>\n      <td>9.0</td>\n    </tr>\n  </tbody>\n</table>\n<p>6337241 rows × 3 columns</p>\n</div>"
     },
     "metadata": {},
     "execution_count": 210
    }
   ],
   "source": [
    "rating"
   ]
  },
  {
   "cell_type": "code",
   "execution_count": 215,
   "metadata": {},
   "outputs": [],
   "source": [
    "rating=rating[rating['user_id'].isin(range(1,1000))]"
   ]
  },
  {
   "cell_type": "code",
   "execution_count": 216,
   "metadata": {},
   "outputs": [],
   "source": [
    "# rating.to_csv('rating3.csv')"
   ]
  },
  {
   "cell_type": "code",
   "execution_count": null,
   "metadata": {},
   "outputs": [],
   "source": []
  }
 ]
}